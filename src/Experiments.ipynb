{
  "nbformat": 4,
  "nbformat_minor": 0,
  "metadata": {
    "colab": {
      "name": "Experiments.ipynb",
      "provenance": [],
      "collapsed_sections": [
        "ZSV5NWh2l_P0"
      ],
      "toc_visible": true
    },
    "kernelspec": {
      "name": "python3",
      "display_name": "Python 3"
    },
    "language_info": {
      "name": "python"
    },
    "accelerator": "GPU",
    "widgets": {
      "application/vnd.jupyter.widget-state+json": {
        "7d1fbcb47d5b45a6aa6e22e3b8a90ba9": {
          "model_module": "@jupyter-widgets/controls",
          "model_name": "HBoxModel",
          "model_module_version": "1.5.0",
          "state": {
            "_dom_classes": [],
            "_model_module": "@jupyter-widgets/controls",
            "_model_module_version": "1.5.0",
            "_model_name": "HBoxModel",
            "_view_count": null,
            "_view_module": "@jupyter-widgets/controls",
            "_view_module_version": "1.5.0",
            "_view_name": "HBoxView",
            "box_style": "",
            "children": [
              "IPY_MODEL_6a3a37e2e6fe4373bc33df26e0bfdd14",
              "IPY_MODEL_39a6e123729f4b56afc81f71d0298ffb",
              "IPY_MODEL_03a5fa7a14b442249eded5ea4ae7236a"
            ],
            "layout": "IPY_MODEL_1879f28e5450458d86432f0b572fd2fb"
          }
        },
        "6a3a37e2e6fe4373bc33df26e0bfdd14": {
          "model_module": "@jupyter-widgets/controls",
          "model_name": "HTMLModel",
          "model_module_version": "1.5.0",
          "state": {
            "_dom_classes": [],
            "_model_module": "@jupyter-widgets/controls",
            "_model_module_version": "1.5.0",
            "_model_name": "HTMLModel",
            "_view_count": null,
            "_view_module": "@jupyter-widgets/controls",
            "_view_module_version": "1.5.0",
            "_view_name": "HTMLView",
            "description": "",
            "description_tooltip": null,
            "layout": "IPY_MODEL_59d427a103cd44418da64c46e1a887d8",
            "placeholder": "​",
            "style": "IPY_MODEL_361755a035bb4bb0bca7d02e7db7d675",
            "value": "100%"
          }
        },
        "39a6e123729f4b56afc81f71d0298ffb": {
          "model_module": "@jupyter-widgets/controls",
          "model_name": "FloatProgressModel",
          "model_module_version": "1.5.0",
          "state": {
            "_dom_classes": [],
            "_model_module": "@jupyter-widgets/controls",
            "_model_module_version": "1.5.0",
            "_model_name": "FloatProgressModel",
            "_view_count": null,
            "_view_module": "@jupyter-widgets/controls",
            "_view_module_version": "1.5.0",
            "_view_name": "ProgressView",
            "bar_style": "success",
            "description": "",
            "description_tooltip": null,
            "layout": "IPY_MODEL_3d5d6accfefa417482c2e0aaff61256f",
            "max": 100441675,
            "min": 0,
            "orientation": "horizontal",
            "style": "IPY_MODEL_61f3c906764d4296b1b8f8425dbaab5e",
            "value": 100441675
          }
        },
        "03a5fa7a14b442249eded5ea4ae7236a": {
          "model_module": "@jupyter-widgets/controls",
          "model_name": "HTMLModel",
          "model_module_version": "1.5.0",
          "state": {
            "_dom_classes": [],
            "_model_module": "@jupyter-widgets/controls",
            "_model_module_version": "1.5.0",
            "_model_name": "HTMLModel",
            "_view_count": null,
            "_view_module": "@jupyter-widgets/controls",
            "_view_module_version": "1.5.0",
            "_view_name": "HTMLView",
            "description": "",
            "description_tooltip": null,
            "layout": "IPY_MODEL_5eb15420df224280978ffd93bdb5dbaa",
            "placeholder": "​",
            "style": "IPY_MODEL_b4001488aefe44a0a32fb393dd6c3a6d",
            "value": " 95.8M/95.8M [00:01&lt;00:00, 60.1MB/s]"
          }
        },
        "1879f28e5450458d86432f0b572fd2fb": {
          "model_module": "@jupyter-widgets/base",
          "model_name": "LayoutModel",
          "model_module_version": "1.2.0",
          "state": {
            "_model_module": "@jupyter-widgets/base",
            "_model_module_version": "1.2.0",
            "_model_name": "LayoutModel",
            "_view_count": null,
            "_view_module": "@jupyter-widgets/base",
            "_view_module_version": "1.2.0",
            "_view_name": "LayoutView",
            "align_content": null,
            "align_items": null,
            "align_self": null,
            "border": null,
            "bottom": null,
            "display": null,
            "flex": null,
            "flex_flow": null,
            "grid_area": null,
            "grid_auto_columns": null,
            "grid_auto_flow": null,
            "grid_auto_rows": null,
            "grid_column": null,
            "grid_gap": null,
            "grid_row": null,
            "grid_template_areas": null,
            "grid_template_columns": null,
            "grid_template_rows": null,
            "height": null,
            "justify_content": null,
            "justify_items": null,
            "left": null,
            "margin": null,
            "max_height": null,
            "max_width": null,
            "min_height": null,
            "min_width": null,
            "object_fit": null,
            "object_position": null,
            "order": null,
            "overflow": null,
            "overflow_x": null,
            "overflow_y": null,
            "padding": null,
            "right": null,
            "top": null,
            "visibility": null,
            "width": null
          }
        },
        "59d427a103cd44418da64c46e1a887d8": {
          "model_module": "@jupyter-widgets/base",
          "model_name": "LayoutModel",
          "model_module_version": "1.2.0",
          "state": {
            "_model_module": "@jupyter-widgets/base",
            "_model_module_version": "1.2.0",
            "_model_name": "LayoutModel",
            "_view_count": null,
            "_view_module": "@jupyter-widgets/base",
            "_view_module_version": "1.2.0",
            "_view_name": "LayoutView",
            "align_content": null,
            "align_items": null,
            "align_self": null,
            "border": null,
            "bottom": null,
            "display": null,
            "flex": null,
            "flex_flow": null,
            "grid_area": null,
            "grid_auto_columns": null,
            "grid_auto_flow": null,
            "grid_auto_rows": null,
            "grid_column": null,
            "grid_gap": null,
            "grid_row": null,
            "grid_template_areas": null,
            "grid_template_columns": null,
            "grid_template_rows": null,
            "height": null,
            "justify_content": null,
            "justify_items": null,
            "left": null,
            "margin": null,
            "max_height": null,
            "max_width": null,
            "min_height": null,
            "min_width": null,
            "object_fit": null,
            "object_position": null,
            "order": null,
            "overflow": null,
            "overflow_x": null,
            "overflow_y": null,
            "padding": null,
            "right": null,
            "top": null,
            "visibility": null,
            "width": null
          }
        },
        "361755a035bb4bb0bca7d02e7db7d675": {
          "model_module": "@jupyter-widgets/controls",
          "model_name": "DescriptionStyleModel",
          "model_module_version": "1.5.0",
          "state": {
            "_model_module": "@jupyter-widgets/controls",
            "_model_module_version": "1.5.0",
            "_model_name": "DescriptionStyleModel",
            "_view_count": null,
            "_view_module": "@jupyter-widgets/base",
            "_view_module_version": "1.2.0",
            "_view_name": "StyleView",
            "description_width": ""
          }
        },
        "3d5d6accfefa417482c2e0aaff61256f": {
          "model_module": "@jupyter-widgets/base",
          "model_name": "LayoutModel",
          "model_module_version": "1.2.0",
          "state": {
            "_model_module": "@jupyter-widgets/base",
            "_model_module_version": "1.2.0",
            "_model_name": "LayoutModel",
            "_view_count": null,
            "_view_module": "@jupyter-widgets/base",
            "_view_module_version": "1.2.0",
            "_view_name": "LayoutView",
            "align_content": null,
            "align_items": null,
            "align_self": null,
            "border": null,
            "bottom": null,
            "display": null,
            "flex": null,
            "flex_flow": null,
            "grid_area": null,
            "grid_auto_columns": null,
            "grid_auto_flow": null,
            "grid_auto_rows": null,
            "grid_column": null,
            "grid_gap": null,
            "grid_row": null,
            "grid_template_areas": null,
            "grid_template_columns": null,
            "grid_template_rows": null,
            "height": null,
            "justify_content": null,
            "justify_items": null,
            "left": null,
            "margin": null,
            "max_height": null,
            "max_width": null,
            "min_height": null,
            "min_width": null,
            "object_fit": null,
            "object_position": null,
            "order": null,
            "overflow": null,
            "overflow_x": null,
            "overflow_y": null,
            "padding": null,
            "right": null,
            "top": null,
            "visibility": null,
            "width": null
          }
        },
        "61f3c906764d4296b1b8f8425dbaab5e": {
          "model_module": "@jupyter-widgets/controls",
          "model_name": "ProgressStyleModel",
          "model_module_version": "1.5.0",
          "state": {
            "_model_module": "@jupyter-widgets/controls",
            "_model_module_version": "1.5.0",
            "_model_name": "ProgressStyleModel",
            "_view_count": null,
            "_view_module": "@jupyter-widgets/base",
            "_view_module_version": "1.2.0",
            "_view_name": "StyleView",
            "bar_color": null,
            "description_width": ""
          }
        },
        "5eb15420df224280978ffd93bdb5dbaa": {
          "model_module": "@jupyter-widgets/base",
          "model_name": "LayoutModel",
          "model_module_version": "1.2.0",
          "state": {
            "_model_module": "@jupyter-widgets/base",
            "_model_module_version": "1.2.0",
            "_model_name": "LayoutModel",
            "_view_count": null,
            "_view_module": "@jupyter-widgets/base",
            "_view_module_version": "1.2.0",
            "_view_name": "LayoutView",
            "align_content": null,
            "align_items": null,
            "align_self": null,
            "border": null,
            "bottom": null,
            "display": null,
            "flex": null,
            "flex_flow": null,
            "grid_area": null,
            "grid_auto_columns": null,
            "grid_auto_flow": null,
            "grid_auto_rows": null,
            "grid_column": null,
            "grid_gap": null,
            "grid_row": null,
            "grid_template_areas": null,
            "grid_template_columns": null,
            "grid_template_rows": null,
            "height": null,
            "justify_content": null,
            "justify_items": null,
            "left": null,
            "margin": null,
            "max_height": null,
            "max_width": null,
            "min_height": null,
            "min_width": null,
            "object_fit": null,
            "object_position": null,
            "order": null,
            "overflow": null,
            "overflow_x": null,
            "overflow_y": null,
            "padding": null,
            "right": null,
            "top": null,
            "visibility": null,
            "width": null
          }
        },
        "b4001488aefe44a0a32fb393dd6c3a6d": {
          "model_module": "@jupyter-widgets/controls",
          "model_name": "DescriptionStyleModel",
          "model_module_version": "1.5.0",
          "state": {
            "_model_module": "@jupyter-widgets/controls",
            "_model_module_version": "1.5.0",
            "_model_name": "DescriptionStyleModel",
            "_view_count": null,
            "_view_module": "@jupyter-widgets/base",
            "_view_module_version": "1.2.0",
            "_view_name": "StyleView",
            "description_width": ""
          }
        }
      }
    }
  },
  "cells": [
    {
      "cell_type": "code",
      "source": [
        "CONFIG = {\n",
        "    'SEED': 0,  # to reproduce results\n",
        "    'INPUT_SHAPE': (224, 224),\n",
        "    'TRAIN_BATCH_SIZE': 16,\n",
        "    'VAL_BATCH_SIZE': 8,\n",
        "    'EPOCHS': 20,\n",
        "    'LEARNING_RATE': 0.01,\n",
        "    'THRESHOLD': 0.5,\n",
        "    'NUM_WORKERS': 2,\n",
        "}"
      ],
      "metadata": {
        "id": "LIb8b9iBtR0m"
      },
      "execution_count": 1,
      "outputs": []
    },
    {
      "cell_type": "markdown",
      "source": [
        "# Downloading Dataset"
      ],
      "metadata": {
        "id": "ZSV5NWh2l_P0"
      }
    },
    {
      "cell_type": "code",
      "source": [
        "# update gdown\n",
        "!pip install --upgrade --no-cache-dir gdown"
      ],
      "metadata": {
        "colab": {
          "base_uri": "https://localhost:8080/"
        },
        "id": "0Bc7IDgNj9p8",
        "outputId": "0ac6f46b-f8fb-45a4-d1ef-9e428760b442"
      },
      "execution_count": 2,
      "outputs": [
        {
          "output_type": "stream",
          "name": "stdout",
          "text": [
            "Requirement already satisfied: gdown in /usr/local/lib/python3.7/dist-packages (4.2.2)\n",
            "Collecting gdown\n",
            "  Downloading gdown-4.4.0.tar.gz (14 kB)\n",
            "  Installing build dependencies ... \u001b[?25l\u001b[?25hdone\n",
            "  Getting requirements to build wheel ... \u001b[?25l\u001b[?25hdone\n",
            "    Preparing wheel metadata ... \u001b[?25l\u001b[?25hdone\n",
            "Requirement already satisfied: tqdm in /usr/local/lib/python3.7/dist-packages (from gdown) (4.63.0)\n",
            "Requirement already satisfied: six in /usr/local/lib/python3.7/dist-packages (from gdown) (1.15.0)\n",
            "Requirement already satisfied: requests[socks] in /usr/local/lib/python3.7/dist-packages (from gdown) (2.23.0)\n",
            "Requirement already satisfied: filelock in /usr/local/lib/python3.7/dist-packages (from gdown) (3.6.0)\n",
            "Requirement already satisfied: beautifulsoup4 in /usr/local/lib/python3.7/dist-packages (from gdown) (4.6.3)\n",
            "Requirement already satisfied: chardet<4,>=3.0.2 in /usr/local/lib/python3.7/dist-packages (from requests[socks]->gdown) (3.0.4)\n",
            "Requirement already satisfied: idna<3,>=2.5 in /usr/local/lib/python3.7/dist-packages (from requests[socks]->gdown) (2.10)\n",
            "Requirement already satisfied: urllib3!=1.25.0,!=1.25.1,<1.26,>=1.21.1 in /usr/local/lib/python3.7/dist-packages (from requests[socks]->gdown) (1.24.3)\n",
            "Requirement already satisfied: certifi>=2017.4.17 in /usr/local/lib/python3.7/dist-packages (from requests[socks]->gdown) (2021.10.8)\n",
            "Requirement already satisfied: PySocks!=1.5.7,>=1.5.6 in /usr/local/lib/python3.7/dist-packages (from requests[socks]->gdown) (1.7.1)\n",
            "Building wheels for collected packages: gdown\n",
            "  Building wheel for gdown (PEP 517) ... \u001b[?25l\u001b[?25hdone\n",
            "  Created wheel for gdown: filename=gdown-4.4.0-py3-none-any.whl size=14774 sha256=7c8f54b9271f706ed81269178d5802fd40995278407b6a5187f88dd8ad2ba923\n",
            "  Stored in directory: /tmp/pip-ephem-wheel-cache-x6bmu99_/wheels/fb/c3/0e/c4d8ff8bfcb0461afff199471449f642179b74968c15b7a69c\n",
            "Successfully built gdown\n",
            "Installing collected packages: gdown\n",
            "  Attempting uninstall: gdown\n",
            "    Found existing installation: gdown 4.2.2\n",
            "    Uninstalling gdown-4.2.2:\n",
            "      Successfully uninstalled gdown-4.2.2\n",
            "Successfully installed gdown-4.4.0\n"
          ]
        }
      ]
    },
    {
      "cell_type": "code",
      "execution_count": 3,
      "metadata": {
        "colab": {
          "base_uri": "https://localhost:8080/"
        },
        "id": "JNQaSEj0gjpc",
        "outputId": "0479bfe4-187b-4b6d-d5d2-eacd8b591dd8"
      },
      "outputs": [
        {
          "output_type": "stream",
          "name": "stdout",
          "text": [
            "Archive:  dataset.zip\n",
            "   creating: train-data/\n",
            "   creating: train-data/okyjD0/\n",
            "  inflating: train-data/okyjD0/okyjD_2K_Albedo.jpg  \n",
            "  inflating: train-data/okyjD0/semanticTags.json  \n",
            "   creating: train-data/okyjF0/\n",
            "  inflating: train-data/okyjF0/okyjF_2K_Albedo.jpg  \n",
            "  inflating: train-data/okyjF0/semanticTags.json  \n",
            "   creating: train-data/okyjJ0/\n",
            "  inflating: train-data/okyjJ0/okyjJ_2K_Albedo.jpg  \n",
            "  inflating: train-data/okyjJ0/semanticTags.json  \n",
            "   creating: train-data/okyjl0/\n",
            "  inflating: train-data/okyjl0/okyjl_2K_Albedo.jpg  \n",
            "  inflating: train-data/okyjl0/semanticTags.json  \n",
            "   creating: train-data/okyjp0/\n",
            "  inflating: train-data/okyjp0/okyjp_2K_Albedo.jpg  \n",
            "  inflating: train-data/okyjp0/semanticTags.json  \n",
            "   creating: train-data/okyjpmp0/\n",
            "  inflating: train-data/okyjpmp0/okyjpmp_2K_Albedo.jpg  \n",
            "  inflating: train-data/okyjpmp0/semanticTags.json  \n",
            "   creating: train-data/okyjqtp0/\n",
            "  inflating: train-data/okyjqtp0/okyjqtp_2K_Albedo.jpg  \n",
            "  inflating: train-data/okyjqtp0/semanticTags.json  \n",
            "   creating: train-data/olsgr0/\n",
            "  inflating: train-data/olsgr0/olsgr_2K_Albedo.jpg  \n",
            "  inflating: train-data/olsgr0/semanticTags.json  \n",
            "   creating: train-data/omgq20/\n",
            "  inflating: train-data/omgq20/omgq2_2K_Albedo.jpg  \n",
            "  inflating: train-data/omgq20/semanticTags.json  \n",
            "   creating: train-data/omgq50/\n",
            "  inflating: train-data/omgq50/omgq5_2K_Albedo.jpg  \n",
            "  inflating: train-data/omgq50/semanticTags.json  \n",
            "   creating: train-data/omgqI0/\n",
            "  inflating: train-data/omgqI0/omgqI_2K_Albedo.jpg  \n",
            "  inflating: train-data/omgqI0/semanticTags.json  \n",
            "   creating: train-data/omgqK0/\n",
            "  inflating: train-data/omgqK0/omgqK_2K_Albedo.jpg  \n",
            "  inflating: train-data/omgqK0/semanticTags.json  \n",
            "   creating: train-data/omgqN0/\n",
            "  inflating: train-data/omgqN0/omgqN_2K_Albedo.jpg  \n",
            "  inflating: train-data/omgqN0/semanticTags.json  \n",
            "   creating: train-data/omgqP0/\n",
            "  inflating: train-data/omgqP0/omgqP_2K_Albedo.jpg  \n",
            "  inflating: train-data/omgqP0/semanticTags.json  \n",
            "   creating: train-data/omgqU0/\n",
            "  inflating: train-data/omgqU0/omgqU_2K_Albedo.jpg  \n",
            "  inflating: train-data/omgqU0/semanticTags.json  \n",
            "   creating: train-data/pcciV0/\n",
            "  inflating: train-data/pcciV0/pcciV_2K_Albedo.jpg  \n",
            "  inflating: train-data/pcciV0/semanticTags.json  \n",
            "   creating: train-data/peioA0/\n",
            "  inflating: train-data/peioA0/peioA_2K_Albedo.jpg  \n",
            "  inflating: train-data/peioA0/semanticTags.json  \n",
            "   creating: train-data/peioH20/\n",
            "  inflating: train-data/peioH20/peioH2_2K_Albedo.jpg  \n",
            "  inflating: train-data/peioH20/semanticTags.json  \n",
            "   creating: train-data/peiow0/\n",
            "  inflating: train-data/peiow0/peiow_2K_Albedo.jpg  \n",
            "  inflating: train-data/peiow0/semanticTags.json  \n",
            "   creating: train-data/peiqm0/\n",
            "  inflating: train-data/peiqm0/peiqm_2K_Albedo.jpg  \n",
            "  inflating: train-data/peiqm0/semanticTags.json  \n",
            "   creating: train-data/pfois0/\n",
            "  inflating: train-data/pfois0/pfois_2K_Albedo.jpg  \n",
            "  inflating: train-data/pfois0/semanticTags.json  \n",
            "   creating: train-data/pfoiv0/\n",
            "  inflating: train-data/pfoiv0/pfoiv_2K_Albedo.jpg  \n",
            "  inflating: train-data/pfoiv0/semanticTags.json  \n",
            "   creating: train-data/pfoix0/\n",
            "  inflating: train-data/pfoix0/pfoix_2K_Albedo.jpg  \n",
            "  inflating: train-data/pfoix0/semanticTags.json  \n",
            "   creating: train-data/pfth40/\n",
            "  inflating: train-data/pfth40/pfth4_2K_Albedo.jpg  \n",
            "  inflating: train-data/pfth40/semanticTags.json  \n",
            "   creating: train-data/pfth70/\n",
            "  inflating: train-data/pfth70/pfth7_2K_Albedo.jpg  \n",
            "  inflating: train-data/pfth70/semanticTags.json  \n",
            "   creating: train-data/pfthK0/\n",
            "  inflating: train-data/pfthK0/pfthK_2K_Albedo.jpg  \n",
            "  inflating: train-data/pfthK0/semanticTags.json  \n",
            "   creating: train-data/pfthM0/\n",
            "  inflating: train-data/pfthM0/pfthM_2K_Albedo.jpg  \n",
            "  inflating: train-data/pfthM0/semanticTags.json  \n",
            "   creating: train-data/pfthP0/\n",
            "  inflating: train-data/pfthP0/pfthP_2K_Albedo.jpg  \n",
            "  inflating: train-data/pfthP0/semanticTags.json  \n",
            "   creating: train-data/pfthY0/\n",
            "  inflating: train-data/pfthY0/pfthY_2K_Albedo.jpg  \n",
            "  inflating: train-data/pfthY0/semanticTags.json  \n",
            "   creating: train-data/pfti60/\n",
            "  inflating: train-data/pfti60/pfti6_2K_Albedo.jpg  \n",
            "  inflating: train-data/pfti60/semanticTags.json  \n",
            "   creating: train-data/pftiB0/\n",
            "  inflating: train-data/pftiB0/pftiB_2K_Albedo.jpg  \n",
            "  inflating: train-data/pftiB0/semanticTags.json  \n",
            "   creating: train-data/pftig0/\n",
            "  inflating: train-data/pftig0/pftig_2K_Albedo.jpg  \n",
            "  inflating: train-data/pftig0/semanticTags.json  \n",
            "   creating: train-data/pftin0/\n",
            "  inflating: train-data/pftin0/pftin_2K_Albedo.jpg  \n",
            "  inflating: train-data/pftin0/semanticTags.json  \n",
            "   creating: train-data/pftiT0/\n",
            "  inflating: train-data/pftiT0/pftiT_2K_Albedo.jpg  \n",
            "  inflating: train-data/pftiT0/semanticTags.json  \n",
            "   creating: train-data/pftiW0/\n",
            "  inflating: train-data/pftiW0/pftiW_2K_Albedo.jpg  \n",
            "  inflating: train-data/pftiW0/semanticTags.json  \n",
            "   creating: train-data/pftjl20/\n",
            "  inflating: train-data/pftjl20/pftjl2_2K_Albedo.jpg  \n",
            "  inflating: train-data/pftjl20/semanticTags.json  \n",
            "   creating: train-data/pftk30/\n",
            "  inflating: train-data/pftk30/pftk3_2K_Albedo.jpg  \n",
            "  inflating: train-data/pftk30/semanticTags.json  \n",
            "   creating: train-data/pftlE0/\n",
            "  inflating: train-data/pftlE0/pftlE_2K_Albedo.jpg  \n",
            "  inflating: train-data/pftlE0/semanticTags.json  \n",
            "   creating: train-data/pftlI0/\n",
            "  inflating: train-data/pftlI0/pftlI_2K_Albedo.jpg  \n",
            "  inflating: train-data/pftlI0/semanticTags.json  \n",
            "   creating: train-data/pftlS0/\n",
            "  inflating: train-data/pftlS0/pftlS_2K_Albedo.jpg  \n",
            "  inflating: train-data/pftlS0/semanticTags.json  \n",
            "   creating: train-data/pftmA0/\n",
            "  inflating: train-data/pftmA0/pftmA_2K_Albedo.jpg  \n",
            "  inflating: train-data/pftmA0/semanticTags.json  \n",
            "   creating: train-data/pftmc0/\n",
            "  inflating: train-data/pftmc0/pftmc_2K_Albedo.jpg  \n",
            "  inflating: train-data/pftmc0/semanticTags.json  \n",
            "   creating: train-data/pftoG0/\n",
            "  inflating: train-data/pftoG0/pftoG_2K_Albedo.jpg  \n",
            "  inflating: train-data/pftoG0/semanticTags.json  \n",
            "   creating: train-data/pheuazp0/\n",
            "  inflating: train-data/pheuazp0/pheuazp_2K_Albedo.jpg  \n",
            "  inflating: train-data/pheuazp0/semanticTags.json  \n",
            "   creating: train-data/pheubqp0/\n",
            "  inflating: train-data/pheubqp0/pheubqp_2K_Albedo.jpg  \n",
            "  inflating: train-data/pheubqp0/semanticTags.json  \n",
            "   creating: train-data/phfh2up0/\n",
            "  inflating: train-data/phfh2up0/phfh2up_2K_Albedo.jpg  \n",
            "  inflating: train-data/phfh2up0/semanticTags.json  \n",
            "   creating: train-data/phhhubp0/\n",
            "  inflating: train-data/phhhubp0/phhhubp_2K_Albedo.jpg  \n",
            "  inflating: train-data/phhhubp0/semanticTags.json  \n",
            "   creating: train-data/pjDf60/\n",
            "  inflating: train-data/pjDf60/pjDf6_2K_Albedo.jpg  \n",
            "  inflating: train-data/pjDf60/semanticTags.json  \n",
            "   creating: train-data/pjDfL0/\n",
            "  inflating: train-data/pjDfL0/pjDfL_2K_Albedo.jpg  \n",
            "  inflating: train-data/pjDfL0/semanticTags.json  \n",
            "   creating: train-data/pjDfO0/\n",
            "  inflating: train-data/pjDfO0/pjDfO_2K_Albedo.jpg  \n",
            "  inflating: train-data/pjDfO0/semanticTags.json  \n",
            "   creating: train-data/pjDfO20/\n",
            "  inflating: train-data/pjDfO20/pjDfO2_2K_Albedo.jpg  \n",
            "  inflating: train-data/pjDfO20/semanticTags.json  \n",
            "   creating: train-data/pjDfT0/\n",
            "  inflating: train-data/pjDfT0/pjDfT_2K_Albedo.jpg  \n",
            "  inflating: train-data/pjDfT0/semanticTags.json  \n",
            "   creating: train-data/pjDfX0/\n",
            "  inflating: train-data/pjDfX0/pjDfX_2K_Albedo.jpg  \n",
            "  inflating: train-data/pjDfX0/semanticTags.json  \n",
            "   creating: train-data/pjvt70/\n",
            "  inflating: train-data/pjvt70/pjvt7_2K_Albedo.jpg  \n",
            "  inflating: train-data/pjvt70/semanticTags.json  \n",
            "   creating: train-data/pjvuY0/\n",
            "  inflating: train-data/pjvuY0/pjvuY_2K_Albedo.jpg  \n",
            "  inflating: train-data/pjvuY0/semanticTags.json  \n",
            "   creating: train-data/pjwgW0/\n",
            "  inflating: train-data/pjwgW0/pjwgW_2K_Albedo.jpg  \n",
            "  inflating: train-data/pjwgW0/semanticTags.json  \n",
            "   creating: train-data/pjwky0/\n",
            "  inflating: train-data/pjwky0/pjwky_2K_Albedo.jpg  \n",
            "  inflating: train-data/pjwky0/semanticTags.json  \n",
            "   creating: train-data/pkhgD0/\n",
            "  inflating: train-data/pkhgD0/pkhgD_2K_Albedo.jpg  \n",
            "  inflating: train-data/pkhgD0/semanticTags.json  \n",
            "   creating: train-data/pkhgH0/\n",
            "  inflating: train-data/pkhgH0/pkhgH_2K_Albedo.jpg  \n",
            "  inflating: train-data/pkhgH0/semanticTags.json  \n",
            "   creating: train-data/pkhgj0/\n",
            "  inflating: train-data/pkhgj0/pkhgj_2K_Albedo.jpg  \n",
            "  inflating: train-data/pkhgj0/semanticTags.json  \n",
            "   creating: train-data/pkhgL0/\n",
            "  inflating: train-data/pkhgL0/pkhgL_2K_Albedo.jpg  \n",
            "  inflating: train-data/pkhgL0/semanticTags.json  \n",
            "   creating: train-data/pkhgm0/\n",
            "  inflating: train-data/pkhgm0/pkhgm_2K_Albedo.jpg  \n",
            "  inflating: train-data/pkhgm0/semanticTags.json  \n",
            "   creating: train-data/pkhgq0/\n",
            "  inflating: train-data/pkhgq0/pkhgq_2K_Albedo.jpg  \n",
            "  inflating: train-data/pkhgq0/semanticTags.json  \n",
            "   creating: train-data/pkhgz0/\n",
            "  inflating: train-data/pkhgz0/pkhgz_2K_Albedo.jpg  \n",
            "  inflating: train-data/pkhgz0/semanticTags.json  \n",
            "   creating: train-data/qiplf0/\n",
            "  inflating: train-data/qiplf0/qiplf_2K_Albedo.jpg  \n",
            "  inflating: train-data/qiplf0/semanticTags.json  \n",
            "   creating: train-data/qiplx0/\n",
            "  inflating: train-data/qiplx0/qiplx_2K_Albedo.jpg  \n",
            "  inflating: train-data/qiplx0/semanticTags.json  \n",
            "   creating: train-data/rl1kcvp0/\n",
            "  inflating: train-data/rl1kcvp0/rl1kcvp_2K_Albedo.jpg  \n",
            "  inflating: train-data/rl1kcvp0/semanticTags.json  \n",
            "   creating: train-data/rl1kkqp0/\n",
            "  inflating: train-data/rl1kkqp0/rl1kkqp_2K_Albedo.jpg  \n",
            "  inflating: train-data/rl1kkqp0/semanticTags.json  \n",
            "   creating: train-data/rm5kpip0/\n",
            "  inflating: train-data/rm5kpip0/rm5kpip_2K_Albedo.jpg  \n",
            "  inflating: train-data/rm5kpip0/semanticTags.json  \n",
            "   creating: train-data/rmci0up0/\n",
            "  inflating: train-data/rmci0up0/rmci0up_2K_Albedo.jpg  \n",
            "  inflating: train-data/rmci0up0/semanticTags.json  \n",
            "   creating: train-data/rmcig0p0/\n",
            "  inflating: train-data/rmcig0p0/rmcig0p_2K_Albedo.jpg  \n",
            "  inflating: train-data/rmcig0p0/semanticTags.json  \n",
            "   creating: train-data/rmciuhp0/\n",
            "  inflating: train-data/rmciuhp0/rmciuhp_2K_Albedo.jpg  \n",
            "  inflating: train-data/rmciuhp0/semanticTags.json  \n",
            "   creating: train-data/rmcivjp0/\n",
            "  inflating: train-data/rmcivjp0/rmcivjp_2K_Albedo.jpg  \n",
            "  inflating: train-data/rmcivjp0/semanticTags.json  \n",
            "   creating: train-data/rmciw0p0/\n",
            "  inflating: train-data/rmciw0p0/rmciw0p_2K_Albedo.jpg  \n",
            "  inflating: train-data/rmciw0p0/semanticTags.json  \n",
            "   creating: train-data/rmcizqp0/\n",
            "  inflating: train-data/rmcizqp0/rmcizqp_2K_Albedo.jpg  \n",
            "  inflating: train-data/rmcizqp0/semanticTags.json  \n",
            "   creating: train-data/rmclidp0/\n",
            "  inflating: train-data/rmclidp0/rmclidp_2K_Albedo.jpg  \n",
            "  inflating: train-data/rmclidp0/semanticTags.json  \n",
            "   creating: train-data/rmqliip0/\n",
            "  inflating: train-data/rmqliip0/rmqliip_2K_Albedo.jpg  \n",
            "  inflating: train-data/rmqliip0/semanticTags.json  \n",
            "   creating: train-data/rmqljcp0/\n",
            "  inflating: train-data/rmqljcp0/rmqljcp_2K_Albedo.jpg  \n",
            "  inflating: train-data/rmqljcp0/semanticTags.json  \n",
            "   creating: train-data/rmqlw0p0/\n",
            "  inflating: train-data/rmqlw0p0/rmqlw0p_2K_Albedo.jpg  \n",
            "  inflating: train-data/rmqlw0p0/semanticTags.json  \n",
            "   creating: train-data/rmqlwup0/\n",
            "  inflating: train-data/rmqlwup0/rmqlwup_2K_Albedo.jpg  \n",
            "  inflating: train-data/rmqlwup0/semanticTags.json  \n",
            "   creating: train-data/rmqlxmp0/\n",
            "  inflating: train-data/rmqlxmp0/rmqlxmp_2K_Albedo.jpg  \n",
            "  inflating: train-data/rmqlxmp0/semanticTags.json  \n",
            "   creating: train-data/rmqly1p0/\n",
            "  inflating: train-data/rmqly1p0/rmqly1p_2K_Albedo.jpg  \n",
            "  inflating: train-data/rmqly1p0/semanticTags.json  \n",
            "   creating: train-data/rmrk1gp0/\n",
            "  inflating: train-data/rmrk1gp0/rmrk1gp_2K_Albedo.jpg  \n",
            "  inflating: train-data/rmrk1gp0/semanticTags.json  \n",
            "   creating: train-data/rmrkqnp0/\n",
            "  inflating: train-data/rmrkqnp0/rmrkqnp_2K_Albedo.jpg  \n",
            "  inflating: train-data/rmrkqnp0/semanticTags.json  \n",
            "   creating: train-data/rmsivbp0/\n",
            "  inflating: train-data/rmsivbp0/rmsivbp_2K_Albedo.jpg  \n",
            "  inflating: train-data/rmsivbp0/semanticTags.json  \n",
            "   creating: train-data/rmsixbp0/\n",
            "  inflating: train-data/rmsixbp0/rmsixbp_2K_Albedo.jpg  \n",
            "  inflating: train-data/rmsixbp0/semanticTags.json  \n",
            "   creating: train-data/rmsixfp0/\n",
            "  inflating: train-data/rmsixfp0/rmsixfp_2K_Albedo.jpg  \n",
            "  inflating: train-data/rmsixfp0/semanticTags.json  \n",
            "   creating: train-data/rmsjfvp0/\n",
            "  inflating: train-data/rmsjfvp0/rmsjfvp_2K_Albedo.jpg  \n",
            "  inflating: train-data/rmsjfvp0/semanticTags.json  \n",
            "   creating: train-data/rmsjgip0/\n",
            "  inflating: train-data/rmsjgip0/rmsjgip_2K_Albedo.jpg  \n",
            "  inflating: train-data/rmsjgip0/semanticTags.json  \n",
            "   creating: train-data/rmsjgkp0/\n",
            "  inflating: train-data/rmsjgkp0/rmsjgkp_2K_Albedo.jpg  \n",
            "  inflating: train-data/rmsjgkp0/semanticTags.json  \n",
            "   creating: train-data/rmsjhpp0/\n",
            "  inflating: train-data/rmsjhpp0/rmsjhpp_2K_Albedo.jpg  \n",
            "  inflating: train-data/rmsjhpp0/semanticTags.json  \n",
            "   creating: train-data/rmzkknp0/\n",
            "  inflating: train-data/rmzkknp0/rmzkknp_2K_Albedo.jpg  \n",
            "  inflating: train-data/rmzkknp0/semanticTags.json  \n",
            "   creating: train-data/rmzkl0p0/\n",
            "  inflating: train-data/rmzkl0p0/rmzkl0p_2K_Albedo.jpg  \n",
            "  inflating: train-data/rmzkl0p0/semanticTags.json  \n",
            "   creating: train-data/rmzklxp0/\n",
            "  inflating: train-data/rmzklxp0/rmzklxp_2K_Albedo.jpg  \n",
            "  inflating: train-data/rmzklxp0/semanticTags.json  \n",
            "   creating: train-data/rmzkm3p0/\n",
            "  inflating: train-data/rmzkm3p0/rmzkm3p_2K_Albedo.jpg  \n",
            "  inflating: train-data/rmzkm3p0/semanticTags.json  \n",
            "   creating: train-data/rmzkmbp0/\n",
            "  inflating: train-data/rmzkmbp0/rmzkmbp_2K_Albedo.jpg  \n",
            "  inflating: train-data/rmzkmbp0/semanticTags.json  \n",
            "   creating: train-data/rmzknbp0/\n",
            "  inflating: train-data/rmzknbp0/rmzknbp_2K_Albedo.jpg  \n",
            "  inflating: train-data/rmzknbp0/semanticTags.json  \n",
            "   creating: train-data/rmzko0p0/\n",
            "  inflating: train-data/rmzko0p0/rmzko0p_2K_Albedo.jpg  \n",
            "  inflating: train-data/rmzko0p0/semanticTags.json  \n",
            "   creating: train-data/rmzkoyp0/\n",
            "  inflating: train-data/rmzkoyp0/rmzkoyp_2K_Albedo.jpg  \n",
            "  inflating: train-data/rmzkoyp0/semanticTags.json  \n",
            "   creating: train-data/rmzkppp0/\n",
            "  inflating: train-data/rmzkppp0/rmzkppp_2K_Albedo.jpg  \n",
            "  inflating: train-data/rmzkppp0/semanticTags.json  \n",
            "   creating: train-data/rmzkqrp0/\n",
            "  inflating: train-data/rmzkqrp0/rmzkqrp_2K_Albedo.jpg  \n",
            "  inflating: train-data/rmzkqrp0/semanticTags.json  \n",
            "   creating: train-data/rmzkqvp0/\n",
            "  inflating: train-data/rmzkqvp0/rmzkqvp_2K_Albedo.jpg  \n",
            "  inflating: train-data/rmzkqvp0/semanticTags.json  \n",
            "   creating: train-data/rmzkryp0/\n",
            "  inflating: train-data/rmzkryp0/rmzkryp_2K_Albedo.jpg  \n",
            "  inflating: train-data/rmzkryp0/semanticTags.json  \n",
            "   creating: train-data/rmzkshp0/\n",
            "  inflating: train-data/rmzkshp0/rmzkshp_2K_Albedo.jpg  \n",
            "  inflating: train-data/rmzkshp0/semanticTags.json  \n",
            "   creating: train-data/sb0h0sp0/\n",
            "  inflating: train-data/sb0h0sp0/sb0h0sp_2K_Albedo.jpg  \n",
            "  inflating: train-data/sb0h0sp0/semanticTags.json  \n",
            "   creating: train-data/sb0hz1p0/\n",
            "  inflating: train-data/sb0hz1p0/sb0hz1p_2K_Albedo.jpg  \n",
            "  inflating: train-data/sb0hz1p0/semanticTags.json  \n",
            "   creating: train-data/sb0i3pp0/\n",
            "  inflating: train-data/sb0i3pp0/sb0i3pp_2K_Albedo.jpg  \n",
            "  inflating: train-data/sb0i3pp0/semanticTags.json  \n",
            "   creating: train-data/sb0jbmp0/\n",
            "  inflating: train-data/sb0jbmp0/sb0jbmp_2K_Albedo.jpg  \n",
            "  inflating: train-data/sb0jbmp0/semanticTags.json  \n",
            "   creating: train-data/sb0jcgp0/\n",
            "  inflating: train-data/sb0jcgp0/sb0jcgp_2K_Albedo.jpg  \n",
            "  inflating: train-data/sb0jcgp0/semanticTags.json  \n",
            "   creating: train-data/sb1gtep0/\n",
            "  inflating: train-data/sb1gtep0/sb1gtep_2K_Albedo.jpg  \n",
            "  inflating: train-data/sb1gtep0/semanticTags.json  \n",
            "   creating: train-data/sb1gu1p0/\n",
            "  inflating: train-data/sb1gu1p0/sb1gu1p_2K_Albedo.jpg  \n",
            "  inflating: train-data/sb1gu1p0/semanticTags.json  \n",
            "   creating: train-data/sb1gvcp0/\n",
            "  inflating: train-data/sb1gvcp0/sb1gvcp_2K_Albedo.jpg  \n",
            "  inflating: train-data/sb1gvcp0/semanticTags.json  \n",
            "   creating: train-data/sb1gxmp0/\n",
            "  inflating: train-data/sb1gxmp0/sb1gxmp_2K_Albedo.jpg  \n",
            "  inflating: train-data/sb1gxmp0/semanticTags.json  \n",
            "   creating: train-data/sb1gyhp0/\n",
            "  inflating: train-data/sb1gyhp0/sb1gyhp_2K_Albedo.jpg  \n",
            "  inflating: train-data/sb1gyhp0/semanticTags.json  \n",
            "   creating: train-data/sb1gzvp0/\n",
            "  inflating: train-data/sb1gzvp0/sb1gzvp_2K_Albedo.jpg  \n",
            "  inflating: train-data/sb1gzvp0/semanticTags.json  \n",
            "   creating: train-data/sb1hpzp0/\n",
            "  inflating: train-data/sb1hpzp0/sb1hpzp_2K_Albedo.jpg  \n",
            "  inflating: train-data/sb1hpzp0/semanticTags.json  \n",
            "   creating: train-data/sb1hqap0/\n",
            "  inflating: train-data/sb1hqap0/sb1hqap_2K_Albedo.jpg  \n",
            "  inflating: train-data/sb1hqap0/semanticTags.json  \n",
            "   creating: train-data/sb1ma0p0/\n",
            "  inflating: train-data/sb1ma0p0/sb1ma0p_2K_Albedo.jpg  \n",
            "  inflating: train-data/sb1ma0p0/semanticTags.json  \n",
            "   creating: train-data/sbgkvyp0/\n",
            "  inflating: train-data/sbgkvyp0/sbgkvyp_2K_Albedo.jpg  \n",
            "  inflating: train-data/sbgkvyp0/semanticTags.json  \n",
            "   creating: train-data/sbgkwxp0/\n",
            "  inflating: train-data/sbgkwxp0/sbgkwxp_2K_Albedo.jpg  \n",
            "  inflating: train-data/sbgkwxp0/semanticTags.json  \n",
            "   creating: train-data/sbhi01p0/\n",
            "  inflating: train-data/sbhi01p0/sbhi01p_2K_Albedo.jpg  \n",
            "  inflating: train-data/sbhi01p0/semanticTags.json  \n",
            "   creating: train-data/sbhipwp0/\n",
            "  inflating: train-data/sbhipwp0/sbhipwp_2K_Albedo.jpg  \n",
            "  inflating: train-data/sbhipwp0/semanticTags.json  \n",
            "   creating: train-data/sbnkcwp0/\n",
            "  inflating: train-data/sbnkcwp0/sbnkcwp_2K_Albedo.jpg  \n",
            "  inflating: train-data/sbnkcwp0/semanticTags.json  \n",
            "   creating: train-data/sbnkd0p0/\n",
            "  inflating: train-data/sbnkd0p0/sbnkd0p_2K_Albedo.jpg  \n",
            "  inflating: train-data/sbnkd0p0/semanticTags.json  \n",
            "   creating: train-data/sbnkfhp0/\n",
            "  inflating: train-data/sbnkfhp0/sbnkfhp_2K_Albedo.jpg  \n",
            "  inflating: train-data/sbnkfhp0/semanticTags.json  \n",
            "   creating: train-data/sbnkixp0/\n",
            "  inflating: train-data/sbnkixp0/sbnkixp_2K_Albedo.jpg  \n",
            "  inflating: train-data/sbnkixp0/semanticTags.json  \n",
            "   creating: train-data/sbnkysp0/\n",
            "  inflating: train-data/sbnkysp0/sbnkysp_2K_Albedo.jpg  \n",
            "  inflating: train-data/sbnkysp0/semanticTags.json  \n",
            "   creating: train-data/sbnlb0p0/\n",
            "  inflating: train-data/sbnlb0p0/sbnlb0p_2K_Albedo.jpg  \n",
            "  inflating: train-data/sbnlb0p0/semanticTags.json  \n",
            "   creating: train-data/sbnljvp0/\n",
            "  inflating: train-data/sbnljvp0/sbnljvp_2K_Albedo.jpg  \n",
            "  inflating: train-data/sbnljvp0/semanticTags.json  \n",
            "   creating: train-data/sbnlk3p0/\n",
            "  inflating: train-data/sbnlk3p0/sbnlk3p_2K_Albedo.jpg  \n",
            "  inflating: train-data/sbnlk3p0/semanticTags.json  \n",
            "   creating: train-data/scmk1dp0/\n",
            "  inflating: train-data/scmk1dp0/scmk1dp_2K_Albedo.jpg  \n",
            "  inflating: train-data/scmk1dp0/semanticTags.json  \n",
            "   creating: train-data/scmkj0p0/\n",
            "  inflating: train-data/scmkj0p0/scmkj0p_2K_Albedo.jpg  \n",
            "  inflating: train-data/scmkj0p0/semanticTags.json  \n",
            "   creating: train-data/scmkowp0/\n",
            "  inflating: train-data/scmkowp0/scmkowp_2K_Albedo.jpg  \n",
            "  inflating: train-data/scmkowp0/semanticTags.json  \n",
            "   creating: train-data/scmkrup0/\n",
            "  inflating: train-data/scmkrup0/scmkrup_2K_Albedo.jpg  \n",
            "  inflating: train-data/scmkrup0/semanticTags.json  \n",
            "   creating: train-data/scmku1p0/\n",
            "  inflating: train-data/scmku1p0/scmku1p_2K_Albedo.jpg  \n",
            "  inflating: train-data/scmku1p0/semanticTags.json  \n",
            "   creating: train-data/scnmi2p0/\n",
            "  inflating: train-data/scnmi2p0/scnmi2p_2K_Albedo.jpg  \n",
            "  inflating: train-data/scnmi2p0/semanticTags.json  \n",
            "   creating: train-data/scnmjxp0/\n",
            "  inflating: train-data/scnmjxp0/scnmjxp_2K_Albedo.jpg  \n",
            "  inflating: train-data/scnmjxp0/semanticTags.json  \n",
            "   creating: train-data/scnml1p0/\n",
            "  inflating: train-data/scnml1p0/scnml1p_2K_Albedo.jpg  \n",
            "  inflating: train-data/scnml1p0/semanticTags.json  \n",
            "   creating: train-data/scnmqbp0/\n",
            "  inflating: train-data/scnmqbp0/scnmqbp_2K_Albedo.jpg  \n",
            "  inflating: train-data/scnmqbp0/semanticTags.json  \n",
            "   creating: train-data/scnmvrp0/\n",
            "  inflating: train-data/scnmvrp0/scnmvrp_2K_Albedo.jpg  \n",
            "  inflating: train-data/scnmvrp0/semanticTags.json  \n",
            "   creating: train-data/sfjmafua/\n",
            "  inflating: train-data/sfjmafua/semanticTags.json  \n",
            "  inflating: train-data/sfjmafua/sfjmafua_2K_Albedo.jpg  \n",
            "   creating: train-data/sg2ldcek/\n",
            "  inflating: train-data/sg2ldcek/semanticTags.json  \n",
            "  inflating: train-data/sg2ldcek/sg2ldcek_2K_Albedo.jpg  \n",
            "   creating: train-data/sg3jahsk/\n",
            "  inflating: train-data/sg3jahsk/semanticTags.json  \n",
            "  inflating: train-data/sg3jahsk/sg3jahsk_2K_Albedo.jpg  \n",
            "   creating: train-data/shxmeiak/\n",
            "  inflating: train-data/shxmeiak/semanticTags.json  \n",
            "  inflating: train-data/shxmeiak/shxmeiak_2K_Albedo.jpg  \n",
            "   creating: train-data/sihnehqa/\n",
            "  inflating: train-data/sihnehqa/semanticTags.json  \n",
            "  inflating: train-data/sihnehqa/sihnehqa_2K_Albedo.jpg  \n",
            "   creating: train-data/sirjfjda/\n",
            "  inflating: train-data/sirjfjda/semanticTags.json  \n",
            "  inflating: train-data/sirjfjda/sirjfjda_2K_Albedo.jpg  \n",
            "   creating: train-data/smkjdacb/\n",
            "  inflating: train-data/smkjdacb/semanticTags.json  \n",
            "  inflating: train-data/smkjdacb/smkjdacb_2K_Albedo.jpg  \n",
            "   creating: train-data/smkmagnb/\n",
            "  inflating: train-data/smkmagnb/semanticTags.json  \n",
            "  inflating: train-data/smkmagnb/smkmagnb_2K_Albedo.jpg  \n",
            "   creating: train-data/smmsfbgp/\n",
            "  inflating: train-data/smmsfbgp/semanticTags.json  \n",
            "  inflating: train-data/smmsfbgp/smmsfbgp_2K_Albedo.jpg  \n",
            "   creating: train-data/smnnbggp/\n",
            "  inflating: train-data/smnnbggp/semanticTags.json  \n",
            "  inflating: train-data/smnnbggp/smnnbggp_2K_Albedo.jpg  \n",
            "   creating: train-data/smspdebp/\n",
            "  inflating: train-data/smspdebp/semanticTags.json  \n",
            "  inflating: train-data/smspdebp/smspdebp_2K_Albedo.jpg  \n",
            "   creating: train-data/smulddvp/\n",
            "  inflating: train-data/smulddvp/semanticTags.json  \n",
            "  inflating: train-data/smulddvp/smulddvp_2K_Albedo.jpg  \n",
            "   creating: train-data/tdhgeitn/\n",
            "  inflating: train-data/tdhgeitn/semanticTags.json  \n",
            "  inflating: train-data/tdhgeitn/tdhgeitn_2K_Albedo.jpg  \n",
            "   creating: train-data/tebpdeps/\n",
            "  inflating: train-data/tebpdeps/semanticTags.json  \n",
            "  inflating: train-data/tebpdeps/tebpdeps_2K_Albedo.jpg  \n",
            "   creating: train-data/tewkddpn/\n",
            "  inflating: train-data/tewkddpn/semanticTags.json  \n",
            "  inflating: train-data/tewkddpn/tewkddpn_2K_Albedo.jpg  \n",
            "   creating: train-data/tfclaimq/\n",
            "  inflating: train-data/tfclaimq/semanticTags.json  \n",
            "  inflating: train-data/tfclaimq/tfclaimq_2K_Albedo.jpg  \n",
            "   creating: train-data/tfqgdckk/\n",
            "  inflating: train-data/tfqgdckk/semanticTags.json  \n",
            "  inflating: train-data/tfqgdckk/tfqgdckk_2K_Albedo.jpg  \n",
            "   creating: train-data/tigpdd0aw/\n",
            "  inflating: train-data/tigpdd0aw/semanticTags.json  \n",
            "  inflating: train-data/tigpdd0aw/tigpdd0aw_2K_Albedo.jpg  \n",
            "   creating: train-data/tijlcapn/\n",
            "  inflating: train-data/tijlcapn/semanticTags.json  \n",
            "  inflating: train-data/tijlcapn/tijlcapn_2K_Albedo.jpg  \n",
            "   creating: train-data/tijmbf3xa/\n",
            "  inflating: train-data/tijmbf3xa/semanticTags.json  \n",
            "  inflating: train-data/tijmbf3xa/tijmbf3xa_2K_Albedo.jpg  \n",
            "   creating: train-data/tijmbfkxa/\n",
            "  inflating: train-data/tijmbfkxa/semanticTags.json  \n",
            "  inflating: train-data/tijmbfkxa/tijmbfkxa_2K_Albedo.jpg  \n",
            "   creating: train-data/tirifink/\n",
            "  inflating: train-data/tirifink/semanticTags.json  \n",
            "  inflating: train-data/tirifink/tirifink_2K_Albedo.jpg  \n",
            "   creating: train-data/tjckaf3g/\n",
            "  inflating: train-data/tjckaf3g/semanticTags.json  \n",
            "  inflating: train-data/tjckaf3g/tjckaf3g_2K_Albedo.jpg  \n",
            "   creating: train-data/tjeiabug/\n",
            "  inflating: train-data/tjeiabug/semanticTags.json  \n",
            "  inflating: train-data/tjeiabug/tjeiabug_2K_Albedo.jpg  \n",
            "   creating: train-data/tl2neghew/\n",
            "  inflating: train-data/tl2neghew/semanticTags.json  \n",
            "  inflating: train-data/tl2neghew/tl2neghew_2K_Albedo.jpg  \n",
            "   creating: train-data/tl3ndhfdy/\n",
            "  inflating: train-data/tl3ndhfdy/semanticTags.json  \n",
            "  inflating: train-data/tl3ndhfdy/tl3ndhfdy_2K_Albedo.jpg  \n",
            "   creating: train-data/tmenbjzo/\n",
            "  inflating: train-data/tmenbjzo/semanticTags.json  \n",
            "  inflating: train-data/tmenbjzo/tmenbjzo_2K_Albedo.jpg  \n",
            "   creating: train-data/ub4jdihkw/\n",
            "  inflating: train-data/ub4jdihkw/semanticTags.json  \n",
            "  inflating: train-data/ub4jdihkw/ub4jdihkw_2K_Albedo.jpg  \n",
            "   creating: train-data/ub5hbdgkw/\n",
            "  inflating: train-data/ub5hbdgkw/semanticTags.json  \n",
            "  inflating: train-data/ub5hbdgkw/ub5hbdgkw_2K_Albedo.jpg  \n",
            "   creating: train-data/ubhjfjmkw/\n",
            "  inflating: train-data/ubhjfjmkw/semanticTags.json  \n",
            "  inflating: train-data/ubhjfjmkw/ubhjfjmkw_2K_Albedo.jpg  \n",
            "   creating: train-data/ubplcgpkw/\n",
            "  inflating: train-data/ubplcgpkw/semanticTags.json  \n",
            "  inflating: train-data/ubplcgpkw/ubplcgpkw_2K_Albedo.jpg  \n",
            "   creating: train-data/ubyjceikw/\n",
            "  inflating: train-data/ubyjceikw/semanticTags.json  \n",
            "  inflating: train-data/ubyjceikw/ubyjceikw_2K_Albedo.jpg  \n",
            "   creating: train-data/uc0kedqkw/\n",
            "  inflating: train-data/uc0kedqkw/semanticTags.json  \n",
            "  inflating: train-data/uc0kedqkw/uc0kedqkw_2K_Albedo.jpg  \n",
            "   creating: train-data/uc0lbi0ew/\n",
            "  inflating: train-data/uc0lbi0ew/semanticTags.json  \n",
            "  inflating: train-data/uc0lbi0ew/uc0lbi0ew_2K_Albedo.jpg  \n",
            "   creating: train-data/ud0lcdjew/\n",
            "  inflating: train-data/ud0lcdjew/semanticTags.json  \n",
            "  inflating: train-data/ud0lcdjew/ud0lcdjew_2K_Albedo.jpg  \n",
            "   creating: train-data/udroceikw/\n",
            "  inflating: train-data/udroceikw/semanticTags.json  \n",
            "  inflating: train-data/udroceikw/udroceikw_2K_Albedo.jpg  \n",
            "   creating: train-data/uehgcjqlw/\n",
            "  inflating: train-data/uehgcjqlw/semanticTags.json  \n",
            "  inflating: train-data/uehgcjqlw/uehgcjqlw_2K_Albedo.jpg  \n",
            "   creating: train-data/uerhbexkw/\n",
            "  inflating: train-data/uerhbexkw/semanticTags.json  \n",
            "  inflating: train-data/uerhbexkw/uerhbexkw_2K_Albedo.jpg  \n",
            "   creating: train-data/uewhcbakw/\n",
            "  inflating: train-data/uewhcbakw/semanticTags.json  \n",
            "  inflating: train-data/uewhcbakw/uewhcbakw_2K_Albedo.jpg  \n",
            "   creating: train-data/ufhmefun/\n",
            "  inflating: train-data/ufhmefun/semanticTags.json  \n",
            "  inflating: train-data/ufhmefun/ufhmefun_2K_Albedo.jpg  \n",
            "   creating: train-data/ufordjrlw/\n",
            "  inflating: train-data/ufordjrlw/semanticTags.json  \n",
            "  inflating: train-data/ufordjrlw/ufordjrlw_2K_Albedo.jpg  \n",
            "   creating: train-data/ug4oce2lw/\n",
            "  inflating: train-data/ug4oce2lw/semanticTags.json  \n",
            "  inflating: train-data/ug4oce2lw/ug4oce2lw_2K_Albedo.jpg  \n",
            "   creating: train-data/ugsnfawlw/\n",
            "  inflating: train-data/ugsnfawlw/semanticTags.json  \n",
            "  inflating: train-data/ugsnfawlw/ugsnfawlw_2K_Albedo.jpg  \n",
            "   creating: train-data/ugtoabclw/\n",
            "  inflating: train-data/ugtoabclw/semanticTags.json  \n",
            "  inflating: train-data/ugtoabclw/ugtoabclw_2K_Albedo.jpg  \n",
            "   creating: train-data/uh3ofcflw/\n",
            "  inflating: train-data/uh3ofcflw/semanticTags.json  \n",
            "  inflating: train-data/uh3ofcflw/uh3ofcflw_2K_Albedo.jpg  \n",
            "   creating: train-data/uh4kcebo/\n",
            "  inflating: train-data/uh4kcebo/semanticTags.json  \n",
            "  inflating: train-data/uh4kcebo/uh4kcebo_2K_Albedo.jpg  \n",
            "   creating: train-data/uh4ldfclw/\n",
            "  inflating: train-data/uh4ldfclw/semanticTags.json  \n",
            "  inflating: train-data/uh4ldfclw/uh4ldfclw_2K_Albedo.jpg  \n",
            "   creating: train-data/uhomdjolw/\n",
            "  inflating: train-data/uhomdjolw/semanticTags.json  \n",
            "  inflating: train-data/uhomdjolw/uhomdjolw_2K_Albedo.jpg  \n",
            "   creating: train-data/uhpmbido/\n",
            "  inflating: train-data/uhpmbido/semanticTags.json  \n",
            "  inflating: train-data/uhpmbido/uhpmbido_2K_Albedo.jpg  \n",
            "   creating: train-data/uhukeheew/\n",
            "  inflating: train-data/uhukeheew/semanticTags.json  \n",
            "  inflating: train-data/uhukeheew/uhukeheew_2K_Albedo.jpg  \n",
            "   creating: train-data/uhwpehcdy/\n",
            "  inflating: train-data/uhwpehcdy/semanticTags.json  \n",
            "  inflating: train-data/uhwpehcdy/uhwpehcdy_2K_Albedo.jpg  \n",
            "   creating: train-data/uhxnacwn/\n",
            "  inflating: train-data/uhxnacwn/semanticTags.json  \n",
            "  inflating: train-data/uhxnacwn/uhxnacwn_2K_Albedo.jpg  \n",
            "   creating: train-data/ujkifdady/\n",
            "  inflating: train-data/ujkifdady/semanticTags.json  \n",
            "  inflating: train-data/ujkifdady/ujkifdady_2K_Albedo.jpg  \n",
            "   creating: train-data/ujkkcfkew/\n",
            "  inflating: train-data/ujkkcfkew/semanticTags.json  \n",
            "  inflating: train-data/ujkkcfkew/ujkkcfkew_2K_Albedo.jpg  \n",
            "   creating: train-data/ujldajxdy/\n",
            "  inflating: train-data/ujldajxdy/semanticTags.json  \n",
            "  inflating: train-data/ujldajxdy/ujldajxdy_2K_Albedo.jpg  \n",
            "   creating: train-data/ujlgfdllw/\n",
            "  inflating: train-data/ujlgfdllw/semanticTags.json  \n",
            "  inflating: train-data/ujlgfdllw/ujlgfdllw_2K_Albedo.jpg  \n",
            "   creating: train-data/ujpicaufw/\n",
            "  inflating: train-data/ujpicaufw/semanticTags.json  \n",
            "  inflating: train-data/ujpicaufw/ujpicaufw_2K_Albedo.jpg  \n",
            "   creating: train-data/ukijfa0lw/\n",
            "  inflating: train-data/ukijfa0lw/semanticTags.json  \n",
            "  inflating: train-data/ukijfa0lw/ukijfa0lw_2K_Albedo.jpg  \n",
            "   creating: train-data/ukikbe2lw/\n",
            "  inflating: train-data/ukikbe2lw/semanticTags.json  \n",
            "  inflating: train-data/ukikbe2lw/ukikbe2lw_2K_Albedo.jpg  \n",
            "   creating: train-data/ukilfhdfw/\n",
            "  inflating: train-data/ukilfhdfw/semanticTags.json  \n",
            "  inflating: train-data/ukilfhdfw/ukilfhdfw_2K_Albedo.jpg  \n",
            "   creating: train-data/ukjjejelw/\n",
            "  inflating: train-data/ukjjejelw/semanticTags.json  \n",
            "  inflating: train-data/ukjjejelw/ukjjejelw_2K_Albedo.jpg  \n",
            "   creating: train-data/uknicjmmw/\n",
            "  inflating: train-data/uknicjmmw/semanticTags.json  \n",
            "  inflating: train-data/uknicjmmw/uknicjmmw_2K_Albedo.jpg  \n",
            "   creating: train-data/ul0oahblw/\n",
            "  inflating: train-data/ul0oahblw/semanticTags.json  \n",
            "  inflating: train-data/ul0oahblw/ul0oahblw_2K_Albedo.jpg  \n",
            "   creating: train-data/ulgmbhwn/\n",
            "  inflating: train-data/ulgmbhwn/semanticTags.json  \n",
            "  inflating: train-data/ulgmbhwn/ulgmbhwn_2K_Albedo.jpg  \n",
            "   creating: train-data/ulxnehiew/\n",
            "  inflating: train-data/ulxnehiew/semanticTags.json  \n",
            "  inflating: train-data/ulxnehiew/ulxnehiew_2K_Albedo.jpg  \n",
            "   creating: train-data/ulzoadon/\n",
            "  inflating: train-data/ulzoadon/semanticTags.json  \n",
            "  inflating: train-data/ulzoadon/ulzoadon_2K_Albedo.jpg  \n",
            "   creating: train-data/umsldenlw/\n",
            "  inflating: train-data/umsldenlw/semanticTags.json  \n",
            "  inflating: train-data/umsldenlw/umsldenlw_2K_Albedo.jpg  \n",
            "   creating: train-data/umslfbsg/\n",
            "  inflating: train-data/umslfbsg/semanticTags.json  \n",
            "  inflating: train-data/umslfbsg/umslfbsg_2K_Albedo.jpg  \n",
            "   creating: train-data/vb2nabydy/\n",
            "  inflating: train-data/vb2nabydy/semanticTags.json  \n",
            "  inflating: train-data/vb2nabydy/vb2nabydy_2K_Albedo.jpg  \n",
            "   creating: train-data/vb2qdgwew/\n",
            "  inflating: train-data/vb2qdgwew/semanticTags.json  \n",
            "  inflating: train-data/vb2qdgwew/vb2qdgwew_2K_Albedo.jpg  \n",
            "   creating: train-data/vbflajkew/\n",
            "  inflating: train-data/vbflajkew/semanticTags.json  \n",
            "  inflating: train-data/vbflajkew/vbflajkew_2K_Albedo.jpg  \n",
            "   creating: train-data/vbijbhgg/\n",
            "  inflating: train-data/vbijbhgg/semanticTags.json  \n",
            "  inflating: train-data/vbijbhgg/vbijbhgg_2K_Albedo.jpg  \n",
            "   creating: train-data/vbljegefw/\n",
            "  inflating: train-data/vbljegefw/semanticTags.json  \n",
            "  inflating: train-data/vbljegefw/vbljegefw_2K_Albedo.jpg  \n",
            "   creating: train-data/vbmfeaiew/\n",
            "  inflating: train-data/vbmfeaiew/semanticTags.json  \n",
            "  inflating: train-data/vbmfeaiew/vbmfeaiew_2K_Albedo.jpg  \n",
            "   creating: train-data/vbmkeak/\n",
            "  inflating: train-data/vbmkeak/semanticTags.json  \n",
            "  inflating: train-data/vbmkeak/vbmkeak_2K_Albedo.jpg  \n",
            "   creating: train-data/vbnjcbdfw/\n",
            "  inflating: train-data/vbnjcbdfw/semanticTags.json  \n",
            "  inflating: train-data/vbnjcbdfw/vbnjcbdfw_2K_Albedo.jpg  \n",
            "   creating: train-data/vbolcghlw/\n",
            "  inflating: train-data/vbolcghlw/semanticTags.json  \n",
            "  inflating: train-data/vbolcghlw/vbolcghlw_2K_Albedo.jpg  \n",
            "   creating: train-data/vbondfog/\n",
            "  inflating: train-data/vbondfog/semanticTags.json  \n",
            "  inflating: train-data/vbondfog/vbondfog_2K_Albedo.jpg  \n",
            "   creating: train-data/vbtmajon/\n",
            "  inflating: train-data/vbtmajon/semanticTags.json  \n",
            "  inflating: train-data/vbtmajon/vbtmajon_2K_Albedo.jpg  \n",
            "   creating: train-data/vbznfcjo/\n",
            "  inflating: train-data/vbznfcjo/semanticTags.json  \n",
            "  inflating: train-data/vbznfcjo/vbznfcjo_2K_Albedo.jpg  \n",
            "   creating: train-data/vbzoecbdy/\n",
            "  inflating: train-data/vbzoecbdy/semanticTags.json  \n",
            "  inflating: train-data/vbzoecbdy/vbzoecbdy_2K_Albedo.jpg  \n",
            "   creating: train-data/vclhbaslw/\n",
            "  inflating: train-data/vclhbaslw/semanticTags.json  \n",
            "  inflating: train-data/vclhbaslw/vclhbaslw_2K_Albedo.jpg  \n",
            "   creating: train-data/vcrkeeb/\n",
            "  inflating: train-data/vcrkeeb/semanticTags.json  \n",
            "  inflating: train-data/vcrkeeb/vcrkeeb_2K_Albedo.jpg  \n",
            "   creating: train-data/vcsobcnlw/\n",
            "  inflating: train-data/vcsobcnlw/semanticTags.json  \n",
            "  inflating: train-data/vcsobcnlw/vcsobcnlw_2K_Albedo.jpg  \n",
            "   creating: train-data/vctkajjg/\n",
            "  inflating: train-data/vctkajjg/semanticTags.json  \n",
            "  inflating: train-data/vctkajjg/vctkajjg_2K_Albedo.jpg  \n",
            "   creating: train-data/vd5sdas/\n",
            "  inflating: train-data/vd5sdas/semanticTags.json  \n",
            "  inflating: train-data/vd5sdas/vd5sdas_2K_Albedo.jpg  \n",
            "   creating: train-data/vdboae2s/\n",
            "  inflating: train-data/vdboae2s/semanticTags.json  \n",
            "  inflating: train-data/vdboae2s/vdboae2s_2K_Albedo.jpg  \n",
            "   creating: train-data/vdemdim/\n",
            "  inflating: train-data/vdemdim/semanticTags.json  \n",
            "  inflating: train-data/vdemdim/vdemdim_2K_Albedo.jpg  \n",
            "   creating: train-data/vdfmefug/\n",
            "  inflating: train-data/vdfmefug/semanticTags.json  \n",
            "  inflating: train-data/vdfmefug/vdfmefug_2K_Albedo.jpg  \n",
            "   creating: train-data/vdkhdhoo/\n",
            "  inflating: train-data/vdkhdhoo/semanticTags.json  \n",
            "  inflating: train-data/vdkhdhoo/vdkhdhoo_2K_Albedo.jpg  \n",
            "   creating: train-data/vdtlahelw/\n",
            "  inflating: train-data/vdtlahelw/semanticTags.json  \n",
            "  inflating: train-data/vdtlahelw/vdtlahelw_2K_Albedo.jpg  \n",
            "   creating: train-data/ve0hedi/\n",
            "  inflating: train-data/ve0hedi/semanticTags.json  \n",
            "  inflating: train-data/ve0hedi/ve0hedi_2K_Albedo.jpg  \n",
            "   creating: train-data/veimacqs/\n",
            "  inflating: train-data/veimacqs/semanticTags.json  \n",
            "  inflating: train-data/veimacqs/veimacqs_2K_Albedo.jpg  \n",
            "   creating: train-data/verqcbxaw/\n",
            "  inflating: train-data/verqcbxaw/semanticTags.json  \n",
            "  inflating: train-data/verqcbxaw/verqcbxaw_2K_Albedo.jpg  \n",
            "   creating: train-data/veslebfaw/\n",
            "  inflating: train-data/veslebfaw/semanticTags.json  \n",
            "  inflating: train-data/veslebfaw/veslebfaw_2K_Albedo.jpg  \n",
            "   creating: train-data/veslfckbw/\n",
            "  inflating: train-data/veslfckbw/semanticTags.json  \n",
            "  inflating: train-data/veslfckbw/veslfckbw_2K_Albedo.jpg  \n",
            "   creating: train-data/vesobghbw/\n",
            "  inflating: train-data/vesobghbw/semanticTags.json  \n",
            "  inflating: train-data/vesobghbw/vesobghbw_2K_Albedo.jpg  \n",
            "   creating: train-data/vewpadubw/\n",
            "  inflating: train-data/vewpadubw/semanticTags.json  \n",
            "  inflating: train-data/vewpadubw/vewpadubw_2K_Albedo.jpg  \n",
            "   creating: train-data/vfeiaha/\n",
            "  inflating: train-data/vfeiaha/semanticTags.json  \n",
            "  inflating: train-data/vfeiaha/vfeiaha_2K_Albedo.jpg  \n",
            "   creating: train-data/vfylbge/\n",
            "  inflating: train-data/vfylbge/semanticTags.json  \n",
            "  inflating: train-data/vfylbge/vfylbge_2K_Albedo.jpg  \n",
            "   creating: train-data/vgxidii/\n",
            "  inflating: train-data/vgxidii/semanticTags.json  \n",
            "  inflating: train-data/vgxidii/vgxidii_2K_Albedo.jpg  \n",
            "   creating: train-data/vi1qbermw/\n",
            "  inflating: train-data/vi1qbermw/semanticTags.json  \n",
            "  inflating: train-data/vi1qbermw/vi1qbermw_2K_Albedo.jpg  \n",
            "   creating: train-data/vi2iehemw/\n",
            "  inflating: train-data/vi2iehemw/semanticTags.json  \n",
            "  inflating: train-data/vi2iehemw/vi2iehemw_2K_Albedo.jpg  \n",
            "   creating: train-data/vi2jcbxmw/\n",
            "  inflating: train-data/vi2jcbxmw/semanticTags.json  \n",
            "  inflating: train-data/vi2jcbxmw/vi2jcbxmw_2K_Albedo.jpg  \n",
            "   creating: train-data/vicpbao/\n",
            "  inflating: train-data/vicpbao/semanticTags.json  \n",
            "  inflating: train-data/vicpbao/vicpbao_2K_Albedo.jpg  \n",
            "   creating: train-data/vidpehm/\n",
            "  inflating: train-data/vidpehm/semanticTags.json  \n",
            "  inflating: train-data/vidpehm/vidpehm_2K_Albedo.jpg  \n",
            "   creating: train-data/vidpfdt/\n",
            "  inflating: train-data/vidpfdt/semanticTags.json  \n",
            "  inflating: train-data/vidpfdt/vidpfdt_2K_Albedo.jpg  \n",
            "   creating: train-data/vidpfgt/\n",
            "  inflating: train-data/vidpfgt/semanticTags.json  \n",
            "  inflating: train-data/vidpfgt/vidpfgt_2K_Albedo.jpg  \n",
            "   creating: train-data/vigjcgpg/\n",
            "  inflating: train-data/vigjcgpg/semanticTags.json  \n",
            "  inflating: train-data/vigjcgpg/vigjcgpg_2K_Albedo.jpg  \n",
            "   creating: train-data/vitiadt/\n",
            "  inflating: train-data/vitiadt/semanticTags.json  \n",
            "  inflating: train-data/vitiadt/vitiadt_2K_Albedo.jpg  \n",
            "   creating: train-data/viudajm/\n",
            "  inflating: train-data/viudajm/semanticTags.json  \n",
            "  inflating: train-data/viudajm/viudajm_2K_Albedo.jpg  \n",
            "   creating: train-data/vixsbfqdw/\n",
            "  inflating: train-data/vixsbfqdw/semanticTags.json  \n",
            "  inflating: train-data/vixsbfqdw/vixsbfqdw_2K_Albedo.jpg  \n",
            "   creating: train-data/vixsbizdw/\n",
            "  inflating: train-data/vixsbizdw/semanticTags.json  \n",
            "  inflating: train-data/vixsbizdw/vixsbizdw_2K_Albedo.jpg  \n",
            "   creating: train-data/vj3qfiq/\n",
            "  inflating: train-data/vj3qfiq/semanticTags.json  \n",
            "  inflating: train-data/vj3qfiq/vj3qfiq_2K_Albedo.jpg  \n",
            "   creating: train-data/vjctbhr/\n",
            "  inflating: train-data/vjctbhr/semanticTags.json  \n",
            "  inflating: train-data/vjctbhr/vjctbhr_2K_Albedo.jpg  \n",
            "   creating: train-data/vjoefgo/\n",
            "  inflating: train-data/vjoefgo/semanticTags.json  \n",
            "  inflating: train-data/vjoefgo/vjoefgo_2K_Albedo.jpg  \n",
            "   creating: train-data/vjofbjs/\n",
            "  inflating: train-data/vjofbjs/semanticTags.json  \n",
            "  inflating: train-data/vjofbjs/vjofbjs_2K_Albedo.jpg  \n",
            "   creating: train-data/vketahu/\n",
            "  inflating: train-data/vketahu/semanticTags.json  \n",
            "  inflating: train-data/vketahu/vketahu_2K_Albedo.jpg  \n",
            "   creating: train-data/vkvpddd/\n",
            "  inflating: train-data/vkvpddd/semanticTags.json  \n",
            "  inflating: train-data/vkvpddd/vkvpddd_2K_Albedo.jpg  \n",
            "   creating: train-data/vl0gaiso/\n",
            "  inflating: train-data/vl0gaiso/semanticTags.json  \n",
            "  inflating: train-data/vl0gaiso/vl0gaiso_2K_Albedo.jpg  \n",
            "   creating: train-data/vl0hchslw/\n",
            "  inflating: train-data/vl0hchslw/semanticTags.json  \n",
            "  inflating: train-data/vl0hchslw/vl0hchslw_2K_Albedo.jpg  \n",
            "   creating: train-data/vl0hfgwg/\n",
            "  inflating: train-data/vl0hfgwg/semanticTags.json  \n",
            "  inflating: train-data/vl0hfgwg/vl0hfgwg_2K_Albedo.jpg  \n",
            "   creating: train-data/vl0ibbvg/\n",
            "  inflating: train-data/vl0ibbvg/semanticTags.json  \n",
            "  inflating: train-data/vl0ibbvg/vl0ibbvg_2K_Albedo.jpg  \n",
            "   creating: train-data/vl0jdhrg/\n",
            "  inflating: train-data/vl0jdhrg/semanticTags.json  \n",
            "  inflating: train-data/vl0jdhrg/vl0jdhrg_2K_Albedo.jpg  \n",
            "   creating: train-data/vl0jec1g/\n",
            "  inflating: train-data/vl0jec1g/semanticTags.json  \n",
            "  inflating: train-data/vl0jec1g/vl0jec1g_2K_Albedo.jpg  \n",
            "   creating: train-data/vl0jeg3g/\n",
            "  inflating: train-data/vl0jeg3g/semanticTags.json  \n",
            "  inflating: train-data/vl0jeg3g/vl0jeg3g_2K_Albedo.jpg  \n",
            "   creating: train-data/vl0jfb1g/\n",
            "  inflating: train-data/vl0jfb1g/semanticTags.json  \n",
            "  inflating: train-data/vl0jfb1g/vl0jfb1g_2K_Albedo.jpg  \n",
            "   creating: train-data/vl0kabcg/\n",
            "  inflating: train-data/vl0kabcg/semanticTags.json  \n",
            "  inflating: train-data/vl0kabcg/vl0kabcg_2K_Albedo.jpg  \n",
            "   creating: train-data/vl0kbb0g/\n",
            "  inflating: train-data/vl0kbb0g/semanticTags.json  \n",
            "  inflating: train-data/vl0kbb0g/vl0kbb0g_2K_Albedo.jpg  \n",
            "   creating: train-data/vl0oadqfw/\n",
            "  inflating: train-data/vl0oadqfw/semanticTags.json  \n",
            "  inflating: train-data/vl0oadqfw/vl0oadqfw_2K_Albedo.jpg  \n",
            "   creating: train-data/vl1heiolw/\n",
            "  inflating: train-data/vl1heiolw/semanticTags.json  \n",
            "  inflating: train-data/vl1heiolw/vl1heiolw_2K_Albedo.jpg  \n",
            "   creating: train-data/vl1jbbtlw/\n",
            "  inflating: train-data/vl1jbbtlw/semanticTags.json  \n",
            "  inflating: train-data/vl1jbbtlw/vl1jbbtlw_2K_Albedo.jpg  \n",
            "   creating: train-data/vl1kdgpfw/\n",
            "  inflating: train-data/vl1kdgpfw/semanticTags.json  \n",
            "  inflating: train-data/vl1kdgpfw/vl1kdgpfw_2K_Albedo.jpg  \n",
            "   creating: train-data/vl1lbaolw/\n",
            "  inflating: train-data/vl1lbaolw/semanticTags.json  \n",
            "  inflating: train-data/vl1lbaolw/vl1lbaolw_2K_Albedo.jpg  \n",
            "   creating: train-data/vl1lfirfw/\n",
            "  inflating: train-data/vl1lfirfw/semanticTags.json  \n",
            "  inflating: train-data/vl1lfirfw/vl1lfirfw_2K_Albedo.jpg  \n",
            "   creating: train-data/vl1nahbfw/\n",
            "  inflating: train-data/vl1nahbfw/semanticTags.json  \n",
            "  inflating: train-data/vl1nahbfw/vl1nahbfw_2K_Albedo.jpg  \n",
            "   creating: train-data/vl1nbcdfw/\n",
            "  inflating: train-data/vl1nbcdfw/semanticTags.json  \n",
            "  inflating: train-data/vl1nbcdfw/vl1nbcdfw_2K_Albedo.jpg  \n",
            "   creating: train-data/vl3hebmg/\n",
            "  inflating: train-data/vl3hebmg/semanticTags.json  \n",
            "  inflating: train-data/vl3hebmg/vl3hebmg_2K_Albedo.jpg  \n",
            "   creating: train-data/vl3heftg/\n",
            "  inflating: train-data/vl3heftg/semanticTags.json  \n",
            "  inflating: train-data/vl3heftg/vl3heftg_2K_Albedo.jpg  \n",
            "   creating: train-data/vl3kdh3g/\n",
            "  inflating: train-data/vl3kdh3g/semanticTags.json  \n",
            "  inflating: train-data/vl3kdh3g/vl3kdh3g_2K_Albedo.jpg  \n",
            "   creating: train-data/vl4lccvn/\n",
            "  inflating: train-data/vl4lccvn/semanticTags.json  \n",
            "  inflating: train-data/vl4lccvn/vl4lccvn_2K_Albedo.jpg  \n",
            "   creating: train-data/vl4lcgflw/\n",
            "  inflating: train-data/vl4lcgflw/semanticTags.json  \n",
            "  inflating: train-data/vl4lcgflw/vl4lcgflw_2K_Albedo.jpg  \n",
            "   creating: train-data/vl4odesfw/\n",
            "  inflating: train-data/vl4odesfw/semanticTags.json  \n",
            "  inflating: train-data/vl4odesfw/vl4odesfw_2K_Albedo.jpg  \n",
            "   creating: train-data/vlkiccc/\n",
            "  inflating: train-data/vlkiccc/semanticTags.json  \n",
            "  inflating: train-data/vlkiccc/vlkiccc_2K_Albedo.jpg  \n",
            "   creating: train-data/vlkiddy/\n",
            "  inflating: train-data/vlkiddy/semanticTags.json  \n",
            "  inflating: train-data/vlkiddy/vlkiddy_2K_Albedo.jpg  \n",
            "   creating: train-data/vlsqeips/\n",
            "  inflating: train-data/vlsqeips/semanticTags.json  \n",
            "  inflating: train-data/vlsqeips/vlsqeips_2K_Albedo.jpg  \n",
            "   creating: train-data/vlyrdcs/\n",
            "  inflating: train-data/vlyrdcs/semanticTags.json  \n",
            "  inflating: train-data/vlyrdcs/vlyrdcs_2K_Albedo.jpg  \n",
            "   creating: train-data/vlzneern/\n",
            "  inflating: train-data/vlzneern/semanticTags.json  \n",
            "  inflating: train-data/vlzneern/vlzneern_2K_Albedo.jpg  \n",
            "   creating: train-data/vmbjahcfw/\n",
            "  inflating: train-data/vmbjahcfw/semanticTags.json  \n",
            "  inflating: train-data/vmbjahcfw/vmbjahcfw_2K_Albedo.jpg  \n",
            "   creating: train-data/vmchfjpn/\n",
            "  inflating: train-data/vmchfjpn/semanticTags.json  \n",
            "  inflating: train-data/vmchfjpn/vmchfjpn_2K_Albedo.jpg  \n",
            "   creating: train-data/vmciaekg/\n",
            "  inflating: train-data/vmciaekg/semanticTags.json  \n",
            "  inflating: train-data/vmciaekg/vmciaekg_2K_Albedo.jpg  \n",
            "   creating: train-data/vmcjadofw/\n",
            "  inflating: train-data/vmcjadofw/semanticTags.json  \n",
            "  inflating: train-data/vmcjadofw/vmcjadofw_2K_Albedo.jpg  \n",
            "   creating: train-data/vmcjcdsfw/\n",
            "  inflating: train-data/vmcjcdsfw/semanticTags.json  \n",
            "  inflating: train-data/vmcjcdsfw/vmcjcdsfw_2K_Albedo.jpg  \n",
            "   creating: train-data/vmclaaalw/\n",
            "  inflating: train-data/vmclaaalw/semanticTags.json  \n",
            "  inflating: train-data/vmclaaalw/vmclaaalw_2K_Albedo.jpg  \n",
            "   creating: train-data/vmclbc1n/\n",
            "  inflating: train-data/vmclbc1n/semanticTags.json  \n",
            "  inflating: train-data/vmclbc1n/vmclbc1n_2K_Albedo.jpg  \n",
            "   creating: train-data/vmghfaro/\n",
            "  inflating: train-data/vmghfaro/semanticTags.json  \n",
            "  inflating: train-data/vmghfaro/vmghfaro_2K_Albedo.jpg  \n",
            "   creating: train-data/vmghfddlw/\n",
            "  inflating: train-data/vmghfddlw/semanticTags.json  \n",
            "  inflating: train-data/vmghfddlw/vmghfddlw_2K_Albedo.jpg  \n",
            "   creating: train-data/vmhkbcug/\n",
            "  inflating: train-data/vmhkbcug/semanticTags.json  \n",
            "  inflating: train-data/vmhkbcug/vmhkbcug_2K_Albedo.jpg  \n",
            "   creating: train-data/vmilaalg/\n",
            "  inflating: train-data/vmilaalg/semanticTags.json  \n",
            "  inflating: train-data/vmilaalg/vmilaalg_2K_Albedo.jpg  \n",
            "   creating: train-data/wcekcbdfw/\n",
            "  inflating: train-data/wcekcbdfw/semanticTags.json  \n",
            "  inflating: train-data/wcekcbdfw/wcekcbdfw_2K_Albedo.jpg  \n"
          ]
        },
        {
          "output_type": "stream",
          "name": "stderr",
          "text": [
            "Downloading...\n",
            "From: https://drive.google.com/u/0/uc?id=10J97YhL_0YB298fqekLm0t9rU9jRWEoD\n",
            "To: /content/dataset.zip\n",
            "\r  0%|          | 0.00/1.16G [00:00<?, ?B/s]\r  0%|          | 4.72M/1.16G [00:00<01:31, 12.6MB/s]\r  3%|▎         | 33.0M/1.16G [00:00<00:12, 87.5MB/s]\r  4%|▍         | 50.3M/1.16G [00:00<00:13, 84.5MB/s]\r  5%|▌         | 63.4M/1.16G [00:00<00:12, 88.9MB/s]\r  7%|▋         | 78.1M/1.16G [00:00<00:10, 102MB/s] \r  8%|▊         | 91.2M/1.16G [00:01<00:10, 98.6MB/s]\r  9%|▉         | 110M/1.16G [00:01<00:09, 116MB/s]  \r 11%|█         | 123M/1.16G [00:01<00:08, 120MB/s]\r 12%|█▏        | 137M/1.16G [00:01<00:09, 110MB/s]\r 13%|█▎        | 152M/1.16G [00:01<00:09, 111MB/s]\r 15%|█▍        | 168M/1.16G [00:01<00:08, 115MB/s]\r 16%|█▌        | 185M/1.16G [00:01<00:07, 127MB/s]\r 17%|█▋        | 199M/1.16G [00:01<00:07, 129MB/s]\r 18%|█▊        | 212M/1.16G [00:02<00:12, 75.6MB/s]\r 20%|██        | 234M/1.16G [00:02<00:09, 102MB/s] \r 21%|██▏       | 249M/1.16G [00:02<00:09, 94.2MB/s]\r 23%|██▎       | 261M/1.16G [00:02<00:08, 100MB/s] \r 24%|██▎       | 274M/1.16G [00:02<00:08, 99.1MB/s]\r 25%|██▍       | 285M/1.16G [00:02<00:09, 91.7MB/s]\r 26%|██▌       | 303M/1.16G [00:03<00:07, 111MB/s] \r 27%|██▋       | 316M/1.16G [00:03<00:07, 110MB/s]\r 28%|██▊       | 328M/1.16G [00:03<00:09, 91.4MB/s]\r 30%|██▉       | 343M/1.16G [00:03<00:07, 106MB/s] \r 31%|███       | 361M/1.16G [00:03<00:08, 95.7MB/s]\r 32%|███▏      | 372M/1.16G [00:03<00:08, 87.7MB/s]\r 34%|███▎      | 389M/1.16G [00:03<00:07, 104MB/s] \r 35%|███▌      | 409M/1.16G [00:04<00:05, 127MB/s]\r 37%|███▋      | 424M/1.16G [00:04<00:05, 129MB/s]\r 38%|███▊      | 438M/1.16G [00:04<00:06, 111MB/s]\r 39%|███▉      | 454M/1.16G [00:04<00:05, 119MB/s]\r 41%|████      | 470M/1.16G [00:04<00:07, 92.1MB/s]\r 42%|████▏     | 485M/1.16G [00:04<00:06, 99.8MB/s]\r 43%|████▎     | 497M/1.16G [00:04<00:07, 91.9MB/s]\r 45%|████▍     | 520M/1.16G [00:05<00:05, 121MB/s] \r 46%|████▌     | 534M/1.16G [00:05<00:04, 125MB/s]\r 48%|████▊     | 554M/1.16G [00:05<00:04, 135MB/s]\r 49%|████▉     | 569M/1.16G [00:05<00:04, 118MB/s]\r 50%|█████     | 582M/1.16G [00:05<00:04, 117MB/s]\r 52%|█████▏    | 596M/1.16G [00:05<00:04, 123MB/s]\r 53%|█████▎    | 609M/1.16G [00:05<00:04, 122MB/s]\r 54%|█████▍    | 623M/1.16G [00:05<00:04, 126MB/s]\r 55%|█████▍    | 636M/1.16G [00:06<00:04, 119MB/s]\r 56%|█████▌    | 649M/1.16G [00:06<00:05, 88.9MB/s]\r 57%|█████▋    | 663M/1.16G [00:06<00:04, 101MB/s] \r 59%|█████▊    | 679M/1.16G [00:06<00:04, 115MB/s]\r 60%|█████▉    | 692M/1.16G [00:06<00:05, 86.8MB/s]\r 61%|██████    | 705M/1.16G [00:06<00:04, 94.1MB/s]\r 62%|██████▏   | 721M/1.16G [00:06<00:04, 109MB/s] \r 63%|██████▎   | 734M/1.16G [00:07<00:03, 113MB/s]\r 65%|██████▍   | 747M/1.16G [00:07<00:04, 88.9MB/s]\r 66%|██████▋   | 769M/1.16G [00:07<00:03, 117MB/s] \r 68%|██████▊   | 782M/1.16G [00:07<00:03, 111MB/s]\r 69%|██████▊   | 795M/1.16G [00:07<00:03, 103MB/s]\r 70%|██████▉   | 806M/1.16G [00:07<00:03, 88.2MB/s]\r 71%|███████   | 816M/1.16G [00:07<00:03, 87.5MB/s]\r 73%|███████▎  | 840M/1.16G [00:08<00:02, 122MB/s] \r 74%|███████▎  | 854M/1.16G [00:08<00:02, 113MB/s]\r 75%|███████▍  | 866M/1.16G [00:08<00:02, 103MB/s]\r 76%|███████▌  | 878M/1.16G [00:08<00:02, 97.7MB/s]\r 77%|███████▋  | 892M/1.16G [00:08<00:02, 105MB/s] \r 78%|███████▊  | 904M/1.16G [00:08<00:02, 108MB/s]\r 79%|███████▉  | 919M/1.16G [00:08<00:01, 119MB/s]\r 81%|████████  | 936M/1.16G [00:08<00:01, 132MB/s]\r 82%|████████▏ | 950M/1.16G [00:09<00:01, 118MB/s]\r 84%|████████▎ | 967M/1.16G [00:09<00:01, 131MB/s]\r 85%|████████▍ | 982M/1.16G [00:09<00:01, 126MB/s]\r 86%|████████▌ | 995M/1.16G [00:09<00:01, 118MB/s]\r 87%|████████▋ | 1.01G/1.16G [00:09<00:01, 122MB/s]\r 88%|████████▊ | 1.02G/1.16G [00:09<00:01, 125MB/s]\r 90%|████████▉ | 1.04G/1.16G [00:09<00:01, 120MB/s]\r 91%|█████████ | 1.05G/1.16G [00:09<00:01, 104MB/s]\r 92%|█████████▏| 1.06G/1.16G [00:09<00:00, 115MB/s]\r 93%|█████████▎| 1.08G/1.16G [00:10<00:00, 123MB/s]\r 94%|█████████▍| 1.09G/1.16G [00:10<00:00, 105MB/s]\r 95%|█████████▌| 1.10G/1.16G [00:10<00:00, 105MB/s]\r 97%|█████████▋| 1.12G/1.16G [00:10<00:00, 119MB/s]\r 98%|█████████▊| 1.14G/1.16G [00:10<00:00, 130MB/s]\r 99%|█████████▉| 1.15G/1.16G [00:10<00:00, 130MB/s]\r100%|██████████| 1.16G/1.16G [00:10<00:00, 108MB/s]\n"
          ]
        }
      ],
      "source": [
        "%%bash\n",
        "# download zip dataset file \n",
        "gdown \"https://drive.google.com/u/0/uc?id=10J97YhL_0YB298fqekLm0t9rU9jRWEoD\" -O dataset.zip\n",
        "\n",
        "# upzip dataset\n",
        "unzip dataset.zip\n",
        "\n",
        "# remove original zip file \n",
        "rm dataset.zip"
      ]
    },
    {
      "cell_type": "markdown",
      "source": [
        "# Loading Preprocessed Labels"
      ],
      "metadata": {
        "id": "D3ccUYwagH20"
      }
    },
    {
      "cell_type": "code",
      "source": [
        "import numpy as np \n",
        "import pandas as pd\n",
        "import matplotlib.pyplot as plt"
      ],
      "metadata": {
        "id": "OedYLVLtfl9A"
      },
      "execution_count": 4,
      "outputs": []
    },
    {
      "cell_type": "code",
      "source": [
        "df = pd.read_csv(\"labels.csv\", index_col=0)"
      ],
      "metadata": {
        "id": "WK5nXNOHgR4B"
      },
      "execution_count": 7,
      "outputs": []
    },
    {
      "cell_type": "code",
      "source": [
        "df.head()"
      ],
      "metadata": {
        "colab": {
          "base_uri": "https://localhost:8080/",
          "height": 367
        },
        "id": "ipEjI0-_gRvJ",
        "outputId": "785ea5bc-7f4d-4bc8-8e68-093bd131df10"
      },
      "execution_count": 8,
      "outputs": [
        {
          "output_type": "execute_result",
          "data": {
            "text/plain": [
              "                                        img_path  state_damaged  state_new  \\\n",
              "id                                                                           \n",
              "0   train-data/uc0kedqkw/uc0kedqkw_2K_Albedo.jpg            0.0        0.0   \n",
              "1   train-data/umsldenlw/umsldenlw_2K_Albedo.jpg            1.0        0.0   \n",
              "2          train-data/pftlI0/pftlI_2K_Albedo.jpg            0.0        0.0   \n",
              "3   train-data/tijmbfkxa/tijmbfkxa_2K_Albedo.jpg            0.0        0.0   \n",
              "4     train-data/vmciaekg/vmciaekg_2K_Albedo.jpg            0.0        0.0   \n",
              "\n",
              "    state_old  color_black  color_brown  color_gold  color_gray  color_green  \\\n",
              "id                                                                             \n",
              "0         1.0          0.0          0.0         0.0         0.0          0.0   \n",
              "1         1.0          0.0          1.0         0.0         0.0          0.0   \n",
              "2         1.0          0.0          1.0         0.0         0.0          1.0   \n",
              "3         1.0          1.0          0.0         0.0         0.0          0.0   \n",
              "4         1.0          0.0          1.0         0.0         0.0          1.0   \n",
              "\n",
              "    color_ivory  color_ochre  color_orange  color_red  color_silver  \\\n",
              "id                                                                    \n",
              "0           0.0          0.0           0.0        0.0           0.0   \n",
              "1           0.0          0.0           0.0        0.0           0.0   \n",
              "2           0.0          0.0           0.0        0.0           0.0   \n",
              "3           0.0          0.0           0.0        0.0           0.0   \n",
              "4           0.0          0.0           0.0        0.0           0.0   \n",
              "\n",
              "    color_tan  color_taupe  color_umber  color_white  color_yellow  \n",
              "id                                                                  \n",
              "0         0.0          0.0          0.0          0.0           0.0  \n",
              "1         0.0          0.0          0.0          0.0           0.0  \n",
              "2         0.0          0.0          0.0          0.0           0.0  \n",
              "3         0.0          0.0          0.0          0.0           0.0  \n",
              "4         0.0          0.0          0.0          0.0           0.0  "
            ],
            "text/html": [
              "\n",
              "  <div id=\"df-da459d3d-5394-4809-85bc-2dc6bda12708\">\n",
              "    <div class=\"colab-df-container\">\n",
              "      <div>\n",
              "<style scoped>\n",
              "    .dataframe tbody tr th:only-of-type {\n",
              "        vertical-align: middle;\n",
              "    }\n",
              "\n",
              "    .dataframe tbody tr th {\n",
              "        vertical-align: top;\n",
              "    }\n",
              "\n",
              "    .dataframe thead th {\n",
              "        text-align: right;\n",
              "    }\n",
              "</style>\n",
              "<table border=\"1\" class=\"dataframe\">\n",
              "  <thead>\n",
              "    <tr style=\"text-align: right;\">\n",
              "      <th></th>\n",
              "      <th>img_path</th>\n",
              "      <th>state_damaged</th>\n",
              "      <th>state_new</th>\n",
              "      <th>state_old</th>\n",
              "      <th>color_black</th>\n",
              "      <th>color_brown</th>\n",
              "      <th>color_gold</th>\n",
              "      <th>color_gray</th>\n",
              "      <th>color_green</th>\n",
              "      <th>color_ivory</th>\n",
              "      <th>color_ochre</th>\n",
              "      <th>color_orange</th>\n",
              "      <th>color_red</th>\n",
              "      <th>color_silver</th>\n",
              "      <th>color_tan</th>\n",
              "      <th>color_taupe</th>\n",
              "      <th>color_umber</th>\n",
              "      <th>color_white</th>\n",
              "      <th>color_yellow</th>\n",
              "    </tr>\n",
              "    <tr>\n",
              "      <th>id</th>\n",
              "      <th></th>\n",
              "      <th></th>\n",
              "      <th></th>\n",
              "      <th></th>\n",
              "      <th></th>\n",
              "      <th></th>\n",
              "      <th></th>\n",
              "      <th></th>\n",
              "      <th></th>\n",
              "      <th></th>\n",
              "      <th></th>\n",
              "      <th></th>\n",
              "      <th></th>\n",
              "      <th></th>\n",
              "      <th></th>\n",
              "      <th></th>\n",
              "      <th></th>\n",
              "      <th></th>\n",
              "      <th></th>\n",
              "    </tr>\n",
              "  </thead>\n",
              "  <tbody>\n",
              "    <tr>\n",
              "      <th>0</th>\n",
              "      <td>train-data/uc0kedqkw/uc0kedqkw_2K_Albedo.jpg</td>\n",
              "      <td>0.0</td>\n",
              "      <td>0.0</td>\n",
              "      <td>1.0</td>\n",
              "      <td>0.0</td>\n",
              "      <td>0.0</td>\n",
              "      <td>0.0</td>\n",
              "      <td>0.0</td>\n",
              "      <td>0.0</td>\n",
              "      <td>0.0</td>\n",
              "      <td>0.0</td>\n",
              "      <td>0.0</td>\n",
              "      <td>0.0</td>\n",
              "      <td>0.0</td>\n",
              "      <td>0.0</td>\n",
              "      <td>0.0</td>\n",
              "      <td>0.0</td>\n",
              "      <td>0.0</td>\n",
              "      <td>0.0</td>\n",
              "    </tr>\n",
              "    <tr>\n",
              "      <th>1</th>\n",
              "      <td>train-data/umsldenlw/umsldenlw_2K_Albedo.jpg</td>\n",
              "      <td>1.0</td>\n",
              "      <td>0.0</td>\n",
              "      <td>1.0</td>\n",
              "      <td>0.0</td>\n",
              "      <td>1.0</td>\n",
              "      <td>0.0</td>\n",
              "      <td>0.0</td>\n",
              "      <td>0.0</td>\n",
              "      <td>0.0</td>\n",
              "      <td>0.0</td>\n",
              "      <td>0.0</td>\n",
              "      <td>0.0</td>\n",
              "      <td>0.0</td>\n",
              "      <td>0.0</td>\n",
              "      <td>0.0</td>\n",
              "      <td>0.0</td>\n",
              "      <td>0.0</td>\n",
              "      <td>0.0</td>\n",
              "    </tr>\n",
              "    <tr>\n",
              "      <th>2</th>\n",
              "      <td>train-data/pftlI0/pftlI_2K_Albedo.jpg</td>\n",
              "      <td>0.0</td>\n",
              "      <td>0.0</td>\n",
              "      <td>1.0</td>\n",
              "      <td>0.0</td>\n",
              "      <td>1.0</td>\n",
              "      <td>0.0</td>\n",
              "      <td>0.0</td>\n",
              "      <td>1.0</td>\n",
              "      <td>0.0</td>\n",
              "      <td>0.0</td>\n",
              "      <td>0.0</td>\n",
              "      <td>0.0</td>\n",
              "      <td>0.0</td>\n",
              "      <td>0.0</td>\n",
              "      <td>0.0</td>\n",
              "      <td>0.0</td>\n",
              "      <td>0.0</td>\n",
              "      <td>0.0</td>\n",
              "    </tr>\n",
              "    <tr>\n",
              "      <th>3</th>\n",
              "      <td>train-data/tijmbfkxa/tijmbfkxa_2K_Albedo.jpg</td>\n",
              "      <td>0.0</td>\n",
              "      <td>0.0</td>\n",
              "      <td>1.0</td>\n",
              "      <td>1.0</td>\n",
              "      <td>0.0</td>\n",
              "      <td>0.0</td>\n",
              "      <td>0.0</td>\n",
              "      <td>0.0</td>\n",
              "      <td>0.0</td>\n",
              "      <td>0.0</td>\n",
              "      <td>0.0</td>\n",
              "      <td>0.0</td>\n",
              "      <td>0.0</td>\n",
              "      <td>0.0</td>\n",
              "      <td>0.0</td>\n",
              "      <td>0.0</td>\n",
              "      <td>0.0</td>\n",
              "      <td>0.0</td>\n",
              "    </tr>\n",
              "    <tr>\n",
              "      <th>4</th>\n",
              "      <td>train-data/vmciaekg/vmciaekg_2K_Albedo.jpg</td>\n",
              "      <td>0.0</td>\n",
              "      <td>0.0</td>\n",
              "      <td>1.0</td>\n",
              "      <td>0.0</td>\n",
              "      <td>1.0</td>\n",
              "      <td>0.0</td>\n",
              "      <td>0.0</td>\n",
              "      <td>1.0</td>\n",
              "      <td>0.0</td>\n",
              "      <td>0.0</td>\n",
              "      <td>0.0</td>\n",
              "      <td>0.0</td>\n",
              "      <td>0.0</td>\n",
              "      <td>0.0</td>\n",
              "      <td>0.0</td>\n",
              "      <td>0.0</td>\n",
              "      <td>0.0</td>\n",
              "      <td>0.0</td>\n",
              "    </tr>\n",
              "  </tbody>\n",
              "</table>\n",
              "</div>\n",
              "      <button class=\"colab-df-convert\" onclick=\"convertToInteractive('df-da459d3d-5394-4809-85bc-2dc6bda12708')\"\n",
              "              title=\"Convert this dataframe to an interactive table.\"\n",
              "              style=\"display:none;\">\n",
              "        \n",
              "  <svg xmlns=\"http://www.w3.org/2000/svg\" height=\"24px\"viewBox=\"0 0 24 24\"\n",
              "       width=\"24px\">\n",
              "    <path d=\"M0 0h24v24H0V0z\" fill=\"none\"/>\n",
              "    <path d=\"M18.56 5.44l.94 2.06.94-2.06 2.06-.94-2.06-.94-.94-2.06-.94 2.06-2.06.94zm-11 1L8.5 8.5l.94-2.06 2.06-.94-2.06-.94L8.5 2.5l-.94 2.06-2.06.94zm10 10l.94 2.06.94-2.06 2.06-.94-2.06-.94-.94-2.06-.94 2.06-2.06.94z\"/><path d=\"M17.41 7.96l-1.37-1.37c-.4-.4-.92-.59-1.43-.59-.52 0-1.04.2-1.43.59L10.3 9.45l-7.72 7.72c-.78.78-.78 2.05 0 2.83L4 21.41c.39.39.9.59 1.41.59.51 0 1.02-.2 1.41-.59l7.78-7.78 2.81-2.81c.8-.78.8-2.07 0-2.86zM5.41 20L4 18.59l7.72-7.72 1.47 1.35L5.41 20z\"/>\n",
              "  </svg>\n",
              "      </button>\n",
              "      \n",
              "  <style>\n",
              "    .colab-df-container {\n",
              "      display:flex;\n",
              "      flex-wrap:wrap;\n",
              "      gap: 12px;\n",
              "    }\n",
              "\n",
              "    .colab-df-convert {\n",
              "      background-color: #E8F0FE;\n",
              "      border: none;\n",
              "      border-radius: 50%;\n",
              "      cursor: pointer;\n",
              "      display: none;\n",
              "      fill: #1967D2;\n",
              "      height: 32px;\n",
              "      padding: 0 0 0 0;\n",
              "      width: 32px;\n",
              "    }\n",
              "\n",
              "    .colab-df-convert:hover {\n",
              "      background-color: #E2EBFA;\n",
              "      box-shadow: 0px 1px 2px rgba(60, 64, 67, 0.3), 0px 1px 3px 1px rgba(60, 64, 67, 0.15);\n",
              "      fill: #174EA6;\n",
              "    }\n",
              "\n",
              "    [theme=dark] .colab-df-convert {\n",
              "      background-color: #3B4455;\n",
              "      fill: #D2E3FC;\n",
              "    }\n",
              "\n",
              "    [theme=dark] .colab-df-convert:hover {\n",
              "      background-color: #434B5C;\n",
              "      box-shadow: 0px 1px 3px 1px rgba(0, 0, 0, 0.15);\n",
              "      filter: drop-shadow(0px 1px 2px rgba(0, 0, 0, 0.3));\n",
              "      fill: #FFFFFF;\n",
              "    }\n",
              "  </style>\n",
              "\n",
              "      <script>\n",
              "        const buttonEl =\n",
              "          document.querySelector('#df-da459d3d-5394-4809-85bc-2dc6bda12708 button.colab-df-convert');\n",
              "        buttonEl.style.display =\n",
              "          google.colab.kernel.accessAllowed ? 'block' : 'none';\n",
              "\n",
              "        async function convertToInteractive(key) {\n",
              "          const element = document.querySelector('#df-da459d3d-5394-4809-85bc-2dc6bda12708');\n",
              "          const dataTable =\n",
              "            await google.colab.kernel.invokeFunction('convertToInteractive',\n",
              "                                                     [key], {});\n",
              "          if (!dataTable) return;\n",
              "\n",
              "          const docLinkHtml = 'Like what you see? Visit the ' +\n",
              "            '<a target=\"_blank\" href=https://colab.research.google.com/notebooks/data_table.ipynb>data table notebook</a>'\n",
              "            + ' to learn more about interactive tables.';\n",
              "          element.innerHTML = '';\n",
              "          dataTable['output_type'] = 'display_data';\n",
              "          await google.colab.output.renderOutput(dataTable, element);\n",
              "          const docLink = document.createElement('div');\n",
              "          docLink.innerHTML = docLinkHtml;\n",
              "          element.appendChild(docLink);\n",
              "        }\n",
              "      </script>\n",
              "    </div>\n",
              "  </div>\n",
              "  "
            ]
          },
          "metadata": {},
          "execution_count": 8
        }
      ]
    },
    {
      "cell_type": "markdown",
      "source": [
        "# Train-Val-Test Split"
      ],
      "metadata": {
        "id": "3Bc9vxnbg2eq"
      }
    },
    {
      "cell_type": "code",
      "source": [
        "from sklearn.model_selection import train_test_split"
      ],
      "metadata": {
        "id": "_wDaT_YSg5LX"
      },
      "execution_count": 9,
      "outputs": []
    },
    {
      "cell_type": "code",
      "source": [
        "# using 70% for training \n",
        "df_train, df_val_test = train_test_split(df, test_size=0.3, shuffle=True, random_state=CONFIG['SEED'])"
      ],
      "metadata": {
        "id": "y0zZxbvTg4_h"
      },
      "execution_count": 10,
      "outputs": []
    },
    {
      "cell_type": "code",
      "source": [
        "# val=15%; test=15%\n",
        "df_val, df_test = train_test_split(df_val_test, test_size=0.5, shuffle=True, random_state=CONFIG['SEED'])"
      ],
      "metadata": {
        "id": "vVtT8jBfhjhe"
      },
      "execution_count": 11,
      "outputs": []
    },
    {
      "cell_type": "code",
      "source": [
        "print(f\"Number of TRAIN samples: {len(df_train)}\")\n",
        "print(f\"Number of VAL samples: {len(df_val)}\")\n",
        "print(f\"Number of TEST samples: {len(df_test)}\")"
      ],
      "metadata": {
        "colab": {
          "base_uri": "https://localhost:8080/"
        },
        "id": "99Le23lLh0PC",
        "outputId": "527b8d4c-818e-4a9c-cd6d-21b91b2e24a2"
      },
      "execution_count": 12,
      "outputs": [
        {
          "output_type": "stream",
          "name": "stdout",
          "text": [
            "Number of TRAIN samples: 210\n",
            "Number of VAL samples: 45\n",
            "Number of TEST samples: 45\n"
          ]
        }
      ]
    },
    {
      "cell_type": "code",
      "source": [
        "df_train.head()"
      ],
      "metadata": {
        "colab": {
          "base_uri": "https://localhost:8080/",
          "height": 350
        },
        "id": "7_KU6enyjNVd",
        "outputId": "4d997aef-a8dd-4301-de23-0d02a3aaa4bc"
      },
      "execution_count": 13,
      "outputs": [
        {
          "output_type": "execute_result",
          "data": {
            "text/plain": [
              "                                       img_path  state_damaged  state_new  \\\n",
              "id                                                                          \n",
              "282   train-data/sb1gvcp0/sb1gvcp_2K_Albedo.jpg            1.0        0.0   \n",
              "44    train-data/rmzkqvp0/rmzkqvp_2K_Albedo.jpg            1.0        0.0   \n",
              "272       train-data/pftlE0/pftlE_2K_Albedo.jpg            0.0        0.0   \n",
              "189       train-data/pftmc0/pftmc_2K_Albedo.jpg            0.0        0.0   \n",
              "152  train-data/veimacqs/veimacqs_2K_Albedo.jpg            0.0        0.0   \n",
              "\n",
              "     state_old  color_black  color_brown  color_gold  color_gray  color_green  \\\n",
              "id                                                                              \n",
              "282        1.0          0.0          1.0         0.0         0.0          0.0   \n",
              "44         1.0          0.0          1.0         0.0         0.0          0.0   \n",
              "272        1.0          0.0          1.0         0.0         0.0          0.0   \n",
              "189        1.0          0.0          1.0         0.0         0.0          0.0   \n",
              "152        1.0          1.0          1.0         0.0         0.0          1.0   \n",
              "\n",
              "     color_ivory  color_ochre  color_orange  color_red  color_silver  \\\n",
              "id                                                                     \n",
              "282          0.0          0.0           0.0        0.0           0.0   \n",
              "44           0.0          0.0           0.0        0.0           0.0   \n",
              "272          0.0          0.0           0.0        0.0           0.0   \n",
              "189          0.0          0.0           0.0        0.0           0.0   \n",
              "152          0.0          0.0           0.0        0.0           0.0   \n",
              "\n",
              "     color_tan  color_taupe  color_umber  color_white  color_yellow  \n",
              "id                                                                   \n",
              "282        1.0          0.0          0.0          0.0           1.0  \n",
              "44         1.0          0.0          0.0          0.0           1.0  \n",
              "272        0.0          0.0          0.0          0.0           0.0  \n",
              "189        0.0          0.0          0.0          0.0           0.0  \n",
              "152        0.0          0.0          0.0          0.0           0.0  "
            ],
            "text/html": [
              "\n",
              "  <div id=\"df-147032a5-978b-4bd3-a7fb-3c0f2a5496d0\">\n",
              "    <div class=\"colab-df-container\">\n",
              "      <div>\n",
              "<style scoped>\n",
              "    .dataframe tbody tr th:only-of-type {\n",
              "        vertical-align: middle;\n",
              "    }\n",
              "\n",
              "    .dataframe tbody tr th {\n",
              "        vertical-align: top;\n",
              "    }\n",
              "\n",
              "    .dataframe thead th {\n",
              "        text-align: right;\n",
              "    }\n",
              "</style>\n",
              "<table border=\"1\" class=\"dataframe\">\n",
              "  <thead>\n",
              "    <tr style=\"text-align: right;\">\n",
              "      <th></th>\n",
              "      <th>img_path</th>\n",
              "      <th>state_damaged</th>\n",
              "      <th>state_new</th>\n",
              "      <th>state_old</th>\n",
              "      <th>color_black</th>\n",
              "      <th>color_brown</th>\n",
              "      <th>color_gold</th>\n",
              "      <th>color_gray</th>\n",
              "      <th>color_green</th>\n",
              "      <th>color_ivory</th>\n",
              "      <th>color_ochre</th>\n",
              "      <th>color_orange</th>\n",
              "      <th>color_red</th>\n",
              "      <th>color_silver</th>\n",
              "      <th>color_tan</th>\n",
              "      <th>color_taupe</th>\n",
              "      <th>color_umber</th>\n",
              "      <th>color_white</th>\n",
              "      <th>color_yellow</th>\n",
              "    </tr>\n",
              "    <tr>\n",
              "      <th>id</th>\n",
              "      <th></th>\n",
              "      <th></th>\n",
              "      <th></th>\n",
              "      <th></th>\n",
              "      <th></th>\n",
              "      <th></th>\n",
              "      <th></th>\n",
              "      <th></th>\n",
              "      <th></th>\n",
              "      <th></th>\n",
              "      <th></th>\n",
              "      <th></th>\n",
              "      <th></th>\n",
              "      <th></th>\n",
              "      <th></th>\n",
              "      <th></th>\n",
              "      <th></th>\n",
              "      <th></th>\n",
              "      <th></th>\n",
              "    </tr>\n",
              "  </thead>\n",
              "  <tbody>\n",
              "    <tr>\n",
              "      <th>282</th>\n",
              "      <td>train-data/sb1gvcp0/sb1gvcp_2K_Albedo.jpg</td>\n",
              "      <td>1.0</td>\n",
              "      <td>0.0</td>\n",
              "      <td>1.0</td>\n",
              "      <td>0.0</td>\n",
              "      <td>1.0</td>\n",
              "      <td>0.0</td>\n",
              "      <td>0.0</td>\n",
              "      <td>0.0</td>\n",
              "      <td>0.0</td>\n",
              "      <td>0.0</td>\n",
              "      <td>0.0</td>\n",
              "      <td>0.0</td>\n",
              "      <td>0.0</td>\n",
              "      <td>1.0</td>\n",
              "      <td>0.0</td>\n",
              "      <td>0.0</td>\n",
              "      <td>0.0</td>\n",
              "      <td>1.0</td>\n",
              "    </tr>\n",
              "    <tr>\n",
              "      <th>44</th>\n",
              "      <td>train-data/rmzkqvp0/rmzkqvp_2K_Albedo.jpg</td>\n",
              "      <td>1.0</td>\n",
              "      <td>0.0</td>\n",
              "      <td>1.0</td>\n",
              "      <td>0.0</td>\n",
              "      <td>1.0</td>\n",
              "      <td>0.0</td>\n",
              "      <td>0.0</td>\n",
              "      <td>0.0</td>\n",
              "      <td>0.0</td>\n",
              "      <td>0.0</td>\n",
              "      <td>0.0</td>\n",
              "      <td>0.0</td>\n",
              "      <td>0.0</td>\n",
              "      <td>1.0</td>\n",
              "      <td>0.0</td>\n",
              "      <td>0.0</td>\n",
              "      <td>0.0</td>\n",
              "      <td>1.0</td>\n",
              "    </tr>\n",
              "    <tr>\n",
              "      <th>272</th>\n",
              "      <td>train-data/pftlE0/pftlE_2K_Albedo.jpg</td>\n",
              "      <td>0.0</td>\n",
              "      <td>0.0</td>\n",
              "      <td>1.0</td>\n",
              "      <td>0.0</td>\n",
              "      <td>1.0</td>\n",
              "      <td>0.0</td>\n",
              "      <td>0.0</td>\n",
              "      <td>0.0</td>\n",
              "      <td>0.0</td>\n",
              "      <td>0.0</td>\n",
              "      <td>0.0</td>\n",
              "      <td>0.0</td>\n",
              "      <td>0.0</td>\n",
              "      <td>0.0</td>\n",
              "      <td>0.0</td>\n",
              "      <td>0.0</td>\n",
              "      <td>0.0</td>\n",
              "      <td>0.0</td>\n",
              "    </tr>\n",
              "    <tr>\n",
              "      <th>189</th>\n",
              "      <td>train-data/pftmc0/pftmc_2K_Albedo.jpg</td>\n",
              "      <td>0.0</td>\n",
              "      <td>0.0</td>\n",
              "      <td>1.0</td>\n",
              "      <td>0.0</td>\n",
              "      <td>1.0</td>\n",
              "      <td>0.0</td>\n",
              "      <td>0.0</td>\n",
              "      <td>0.0</td>\n",
              "      <td>0.0</td>\n",
              "      <td>0.0</td>\n",
              "      <td>0.0</td>\n",
              "      <td>0.0</td>\n",
              "      <td>0.0</td>\n",
              "      <td>0.0</td>\n",
              "      <td>0.0</td>\n",
              "      <td>0.0</td>\n",
              "      <td>0.0</td>\n",
              "      <td>0.0</td>\n",
              "    </tr>\n",
              "    <tr>\n",
              "      <th>152</th>\n",
              "      <td>train-data/veimacqs/veimacqs_2K_Albedo.jpg</td>\n",
              "      <td>0.0</td>\n",
              "      <td>0.0</td>\n",
              "      <td>1.0</td>\n",
              "      <td>1.0</td>\n",
              "      <td>1.0</td>\n",
              "      <td>0.0</td>\n",
              "      <td>0.0</td>\n",
              "      <td>1.0</td>\n",
              "      <td>0.0</td>\n",
              "      <td>0.0</td>\n",
              "      <td>0.0</td>\n",
              "      <td>0.0</td>\n",
              "      <td>0.0</td>\n",
              "      <td>0.0</td>\n",
              "      <td>0.0</td>\n",
              "      <td>0.0</td>\n",
              "      <td>0.0</td>\n",
              "      <td>0.0</td>\n",
              "    </tr>\n",
              "  </tbody>\n",
              "</table>\n",
              "</div>\n",
              "      <button class=\"colab-df-convert\" onclick=\"convertToInteractive('df-147032a5-978b-4bd3-a7fb-3c0f2a5496d0')\"\n",
              "              title=\"Convert this dataframe to an interactive table.\"\n",
              "              style=\"display:none;\">\n",
              "        \n",
              "  <svg xmlns=\"http://www.w3.org/2000/svg\" height=\"24px\"viewBox=\"0 0 24 24\"\n",
              "       width=\"24px\">\n",
              "    <path d=\"M0 0h24v24H0V0z\" fill=\"none\"/>\n",
              "    <path d=\"M18.56 5.44l.94 2.06.94-2.06 2.06-.94-2.06-.94-.94-2.06-.94 2.06-2.06.94zm-11 1L8.5 8.5l.94-2.06 2.06-.94-2.06-.94L8.5 2.5l-.94 2.06-2.06.94zm10 10l.94 2.06.94-2.06 2.06-.94-2.06-.94-.94-2.06-.94 2.06-2.06.94z\"/><path d=\"M17.41 7.96l-1.37-1.37c-.4-.4-.92-.59-1.43-.59-.52 0-1.04.2-1.43.59L10.3 9.45l-7.72 7.72c-.78.78-.78 2.05 0 2.83L4 21.41c.39.39.9.59 1.41.59.51 0 1.02-.2 1.41-.59l7.78-7.78 2.81-2.81c.8-.78.8-2.07 0-2.86zM5.41 20L4 18.59l7.72-7.72 1.47 1.35L5.41 20z\"/>\n",
              "  </svg>\n",
              "      </button>\n",
              "      \n",
              "  <style>\n",
              "    .colab-df-container {\n",
              "      display:flex;\n",
              "      flex-wrap:wrap;\n",
              "      gap: 12px;\n",
              "    }\n",
              "\n",
              "    .colab-df-convert {\n",
              "      background-color: #E8F0FE;\n",
              "      border: none;\n",
              "      border-radius: 50%;\n",
              "      cursor: pointer;\n",
              "      display: none;\n",
              "      fill: #1967D2;\n",
              "      height: 32px;\n",
              "      padding: 0 0 0 0;\n",
              "      width: 32px;\n",
              "    }\n",
              "\n",
              "    .colab-df-convert:hover {\n",
              "      background-color: #E2EBFA;\n",
              "      box-shadow: 0px 1px 2px rgba(60, 64, 67, 0.3), 0px 1px 3px 1px rgba(60, 64, 67, 0.15);\n",
              "      fill: #174EA6;\n",
              "    }\n",
              "\n",
              "    [theme=dark] .colab-df-convert {\n",
              "      background-color: #3B4455;\n",
              "      fill: #D2E3FC;\n",
              "    }\n",
              "\n",
              "    [theme=dark] .colab-df-convert:hover {\n",
              "      background-color: #434B5C;\n",
              "      box-shadow: 0px 1px 3px 1px rgba(0, 0, 0, 0.15);\n",
              "      filter: drop-shadow(0px 1px 2px rgba(0, 0, 0, 0.3));\n",
              "      fill: #FFFFFF;\n",
              "    }\n",
              "  </style>\n",
              "\n",
              "      <script>\n",
              "        const buttonEl =\n",
              "          document.querySelector('#df-147032a5-978b-4bd3-a7fb-3c0f2a5496d0 button.colab-df-convert');\n",
              "        buttonEl.style.display =\n",
              "          google.colab.kernel.accessAllowed ? 'block' : 'none';\n",
              "\n",
              "        async function convertToInteractive(key) {\n",
              "          const element = document.querySelector('#df-147032a5-978b-4bd3-a7fb-3c0f2a5496d0');\n",
              "          const dataTable =\n",
              "            await google.colab.kernel.invokeFunction('convertToInteractive',\n",
              "                                                     [key], {});\n",
              "          if (!dataTable) return;\n",
              "\n",
              "          const docLinkHtml = 'Like what you see? Visit the ' +\n",
              "            '<a target=\"_blank\" href=https://colab.research.google.com/notebooks/data_table.ipynb>data table notebook</a>'\n",
              "            + ' to learn more about interactive tables.';\n",
              "          element.innerHTML = '';\n",
              "          dataTable['output_type'] = 'display_data';\n",
              "          await google.colab.output.renderOutput(dataTable, element);\n",
              "          const docLink = document.createElement('div');\n",
              "          docLink.innerHTML = docLinkHtml;\n",
              "          element.appendChild(docLink);\n",
              "        }\n",
              "      </script>\n",
              "    </div>\n",
              "  </div>\n",
              "  "
            ]
          },
          "metadata": {},
          "execution_count": 13
        }
      ]
    },
    {
      "cell_type": "markdown",
      "source": [
        "# Data Loader and Generator"
      ],
      "metadata": {
        "id": "6mQ0vswjfmnd"
      }
    },
    {
      "cell_type": "code",
      "source": [
        "import torch\n",
        "from torch.utils.data import Dataset, DataLoader\n",
        "from torchvision import transforms"
      ],
      "metadata": {
        "id": "pMbj7tzMf3ww"
      },
      "execution_count": 14,
      "outputs": []
    },
    {
      "cell_type": "code",
      "source": [
        "from torch import optim\n",
        "from tqdm import tqdm"
      ],
      "metadata": {
        "id": "o6D3aJq257A7"
      },
      "execution_count": 15,
      "outputs": []
    },
    {
      "cell_type": "code",
      "source": [
        "from PIL import Image"
      ],
      "metadata": {
        "id": "AXfc-tXggGQz"
      },
      "execution_count": 16,
      "outputs": []
    },
    {
      "cell_type": "code",
      "source": [
        "class Dataset(Dataset):\n",
        "    def __init__(\n",
        "            self,\n",
        "            dataframe,\n",
        "            output_shape=(224, 224),\n",
        "            transform=None,\n",
        "            mean=[0.485, 0.456, 0.406],\n",
        "            std=[0.229, 0.224, 0.225],\n",
        "        ):\n",
        "        self.dataframe = dataframe\n",
        "        self.output_shape = output_shape\n",
        "        self.transform = transform\n",
        "        self.mean = mean\n",
        "        self.std = std\n",
        "\n",
        "        self.normalize = transforms.Normalize(mean=mean, std=std)\n",
        "\n",
        "    def __len__(self):\n",
        "        'Denotes the total number of samples'\n",
        "        return len(self.dataframe)\n",
        "    \n",
        "    def __getitem__(self, index):\n",
        "        'Generates one sample of data'\n",
        "        img_path = self.dataframe.iloc[index, 0]                    # col=0 == img_path \n",
        "        Y = self.dataframe.iloc[index, 1:].values                   # remain cols as label\n",
        "        Y = Y.astype(np.float32)                                    # converting to float32 np array\n",
        "        Y = torch.tensor(Y, dtype=torch.float32)                    # converting to tensor \n",
        "\n",
        "        X = Image.open(img_path)                                    # loading image\n",
        "        X = X.resize(self.output_shape)                             # resizing image \n",
        "        X = transforms.functional.to_tensor(X)                      # PIL image to Tensor\n",
        "\n",
        "        if self.transform:\n",
        "            X = self.transform(X)\n",
        "\n",
        "        X = self.normalize(X)                                       # normalizing image \n",
        "\n",
        "        return X, Y"
      ],
      "metadata": {
        "id": "krebYxA6gvYb"
      },
      "execution_count": 17,
      "outputs": []
    },
    {
      "cell_type": "markdown",
      "source": [
        "# Training Utilities"
      ],
      "metadata": {
        "id": "ee0_BxF15uSy"
      }
    },
    {
      "cell_type": "code",
      "source": [
        "# Use GPU if available\n",
        "device = torch.device(\"cuda\" if torch.cuda.is_available() else \"cpu\")"
      ],
      "metadata": {
        "id": "nPtPLQouHN7x"
      },
      "execution_count": 18,
      "outputs": []
    },
    {
      "cell_type": "code",
      "source": [
        "def train_model(\n",
        "    model, \n",
        "    training_generator, \n",
        "    validation_generator, \n",
        "    criterion, \n",
        "    optimizer, \n",
        "    epochs=20, \n",
        "    threshold=0.5, \n",
        "    device=\"cpu\"\n",
        "):\n",
        "    train_losses = []\n",
        "    train_accs = []\n",
        "\n",
        "    val_losses = []\n",
        "    val_accs = []\n",
        "\n",
        "    for e in range(epochs): \n",
        "        # logging current epoch \n",
        "        print(f\"Epoch {e+1}/{epochs}\")\n",
        "\n",
        "        # processing an epoch\n",
        "        train_loss = 0\n",
        "        train_accuracy = 0\n",
        "        for images, labels in tqdm(training_generator): \n",
        "            # moving X, Y to device \n",
        "            images, labels = images.to(device), labels.to(device)\n",
        "\n",
        "            # forward pass \n",
        "            logits = model(images)\n",
        "            loss = criterion(logits, labels)\n",
        "\n",
        "            # backward pass \n",
        "            optimizer.zero_grad()\n",
        "            loss.backward()\n",
        "            optimizer.step()\n",
        "\n",
        "            # accumulating loss \n",
        "            train_loss += loss.item()\n",
        "\n",
        "            # accumulating accuracy \n",
        "            ps = torch.sigmoid(logits)          # logits to probs\n",
        "            preds = (ps >= threshold).float()   # probs to [0, 1]\n",
        "            equals = preds == labels\n",
        "            train_accuracy += torch.mean(equals.type(torch.FloatTensor))\n",
        "        else: \n",
        "            # total train epoch loss \n",
        "            total_train_loss = train_loss / len(training_generator)\n",
        "            train_losses.append(total_train_loss)\n",
        "\n",
        "            # total train accuracy \n",
        "            total_train_accuracy = train_accuracy / len(training_generator)\n",
        "            train_accs.append(total_train_accuracy)\n",
        "\n",
        "            val_loss = 0\n",
        "            val_accuracy = 0\n",
        "            \n",
        "            # turn off gradients for validation \n",
        "            with torch.no_grad(): \n",
        "                model.eval()    # switch model to eval mode\n",
        "                for val_images, val_labels in validation_generator:\n",
        "                    val_images, val_labels = val_images.to(device), val_labels.to(device)\n",
        "                    logits = model(val_images)\n",
        "                    \n",
        "                    # calculating loss \n",
        "                    loss = criterion(logits, val_labels)\n",
        "                    val_loss += loss.item()\n",
        "\n",
        "                    # calculating acc\n",
        "                    ps = torch.sigmoid(logits)          # logits to probs\n",
        "                    preds = (ps >= threshold).float()   # probs to [0, 1]\n",
        "                    equals = preds == val_labels\n",
        "                    val_accuracy += torch.mean(equals.type(torch.FloatTensor))\n",
        "                    \n",
        "            # total val epoch loss \n",
        "            total_val_loss = val_loss / len(validation_generator)\n",
        "            val_losses.append(total_val_loss)\n",
        "\n",
        "            # total val accuracy \n",
        "            total_val_accuracy = val_accuracy / len(validation_generator)\n",
        "            val_accs.append(total_val_accuracy)\n",
        "\n",
        "            # logging stats \n",
        "            print(\n",
        "                f\"loss: {total_train_loss:.4f} - accuracy: {total_train_accuracy:.4f}\",\n",
        "                f\"- val_loss: {total_val_loss:.4f} - val_accuracy: {total_val_accuracy:.4f}\\n\"\n",
        "            )\n",
        "\n",
        "            # switch model back to train mode\n",
        "            model.train()\n",
        "    \n",
        "    return train_losses, train_accs, val_losses, val_accs"
      ],
      "metadata": {
        "id": "ocGmZ2PQ5yi3"
      },
      "execution_count": 19,
      "outputs": []
    },
    {
      "cell_type": "code",
      "source": [
        "def evaluate(\n",
        "    model, \n",
        "    test_generator, \n",
        "    criterion, \n",
        "    threshold=0.5, \n",
        "    device=\"cpu\"\n",
        "): \n",
        "    test_loss = 0\n",
        "    test_accuracy = 0\n",
        "    \n",
        "    # turn off gradients for validation \n",
        "    with torch.no_grad(): \n",
        "        model.eval()    # switch model to eval mode\n",
        "        for test_images, test_labels in tqdm(test_generator):\n",
        "            test_images, test_labels = test_images.to(device), test_labels.to(device)\n",
        "            logits = model(test_images)\n",
        "            \n",
        "            # calculating loss \n",
        "            loss = criterion(logits, test_labels)\n",
        "            test_loss += loss.item()\n",
        "\n",
        "            # calculating acc\n",
        "            ps = torch.sigmoid(logits)          # logits to probs\n",
        "            preds = (ps >= threshold).float()   # probs to [0, 1]\n",
        "            equals = preds == test_labels\n",
        "            test_accuracy += torch.mean(equals.type(torch.FloatTensor))\n",
        "\n",
        "    test_loss /= len(test_generator)\n",
        "    test_accuracy /= len(test_generator)\n",
        "\n",
        "    print(f\"\\nTest Loss: {test_loss:.4f}\")\n",
        "    print(f\"Test Accuracy: {test_accuracy:.4f}\")"
      ],
      "metadata": {
        "id": "Ym813UGS5yRb"
      },
      "execution_count": 20,
      "outputs": []
    },
    {
      "cell_type": "code",
      "source": [
        "# Plot training & validation loss/ acc values\n",
        "def plot_curve(train, val, plot_type=\"Loss\"):\n",
        "    plt.plot(train)\n",
        "    plt.plot(val)\n",
        "    plt.title(f\"{plot_type} Plot\")\n",
        "    plt.ylabel(plot_type)\n",
        "    plt.xlabel('Epoch')\n",
        "    plt.legend(['Train', 'Valid'], loc='upper left')\n",
        "    plt.show()"
      ],
      "metadata": {
        "id": "_j-flm_Z7G0L"
      },
      "execution_count": 21,
      "outputs": []
    },
    {
      "cell_type": "markdown",
      "source": [
        "# Base Model"
      ],
      "metadata": {
        "id": "XrrBG5y7ulvS"
      }
    },
    {
      "cell_type": "code",
      "source": [
        "from torch import nn"
      ],
      "metadata": {
        "id": "vMPCNwGvu_OK"
      },
      "execution_count": 22,
      "outputs": []
    },
    {
      "cell_type": "code",
      "source": [
        "class BaseNet(nn.Module):\n",
        "    def __init__(self):\n",
        "        super().__init__()\n",
        "\n",
        "        self.conv_block1 = self.gen_conv_block(in_channels=3, out_channels=32)\n",
        "        self.conv_block2 = self.gen_conv_block(in_channels=32, out_channels=64)\n",
        "        self.conv_block3 = self.gen_conv_block(in_channels=64, out_channels=128)\n",
        "        self.conv_block4 = self.gen_conv_block(in_channels=128, out_channels=256)\n",
        "        self.conv_block5_1 = self.gen_conv_block(in_channels=256, out_channels=512)\n",
        "        self.conv_block5_2 = self.gen_conv_block(in_channels=512, out_channels=512)\n",
        "        self.conv_block5_3 = self.gen_conv_block(in_channels=512, out_channels=512)\n",
        "    \n",
        "        self.hidden = nn.Linear(512, 128)\n",
        "        self.output = nn.Linear(128, 18)\n",
        "\n",
        "    def gen_conv_block(self, in_channels, out_channels): \n",
        "        return nn.Sequential(\n",
        "            nn.Conv2d(in_channels, out_channels, kernel_size=3, padding='same', stride=1),\n",
        "            nn.ReLU(inplace=True),\n",
        "            nn.BatchNorm2d(out_channels),\n",
        "            nn.MaxPool2d(kernel_size=2, stride=2),\n",
        "        )\n",
        "\n",
        "    def forward(self, x):\n",
        "        x = self.conv_block1(x)\n",
        "        x = self.conv_block2(x)\n",
        "        x = self.conv_block3(x)\n",
        "        x = self.conv_block4(x)\n",
        "        x = self.conv_block5_1(x)\n",
        "        x = self.conv_block5_2(x)\n",
        "        x = self.conv_block5_3(x)\n",
        "        \n",
        "        # Flatten\n",
        "        x = x.view(x.size(0), -1)\n",
        "\n",
        "        # fully connected layer\n",
        "        x = self.hidden(x)\n",
        "        x = self.output(x)\n",
        "\n",
        "        return x"
      ],
      "metadata": {
        "id": "qQtHZ2BIn3wf"
      },
      "execution_count": 20,
      "outputs": []
    },
    {
      "cell_type": "code",
      "source": [
        "model = BaseNet()"
      ],
      "metadata": {
        "id": "9kZigeJa1v7_"
      },
      "execution_count": 21,
      "outputs": []
    },
    {
      "cell_type": "code",
      "source": [
        "# moving model to GPU if available\n",
        "model.to(device)"
      ],
      "metadata": {
        "colab": {
          "base_uri": "https://localhost:8080/"
        },
        "id": "TOug2O3X24fN",
        "outputId": "f56aeeca-20f8-4033-b2d8-086af15df3d2"
      },
      "execution_count": 22,
      "outputs": [
        {
          "output_type": "execute_result",
          "data": {
            "text/plain": [
              "BaseNet(\n",
              "  (conv_block1): Sequential(\n",
              "    (0): Conv2d(3, 32, kernel_size=(3, 3), stride=(1, 1), padding=same)\n",
              "    (1): ReLU(inplace=True)\n",
              "    (2): BatchNorm2d(32, eps=1e-05, momentum=0.1, affine=True, track_running_stats=True)\n",
              "    (3): MaxPool2d(kernel_size=2, stride=2, padding=0, dilation=1, ceil_mode=False)\n",
              "  )\n",
              "  (conv_block2): Sequential(\n",
              "    (0): Conv2d(32, 64, kernel_size=(3, 3), stride=(1, 1), padding=same)\n",
              "    (1): ReLU(inplace=True)\n",
              "    (2): BatchNorm2d(64, eps=1e-05, momentum=0.1, affine=True, track_running_stats=True)\n",
              "    (3): MaxPool2d(kernel_size=2, stride=2, padding=0, dilation=1, ceil_mode=False)\n",
              "  )\n",
              "  (conv_block3): Sequential(\n",
              "    (0): Conv2d(64, 128, kernel_size=(3, 3), stride=(1, 1), padding=same)\n",
              "    (1): ReLU(inplace=True)\n",
              "    (2): BatchNorm2d(128, eps=1e-05, momentum=0.1, affine=True, track_running_stats=True)\n",
              "    (3): MaxPool2d(kernel_size=2, stride=2, padding=0, dilation=1, ceil_mode=False)\n",
              "  )\n",
              "  (conv_block4): Sequential(\n",
              "    (0): Conv2d(128, 256, kernel_size=(3, 3), stride=(1, 1), padding=same)\n",
              "    (1): ReLU(inplace=True)\n",
              "    (2): BatchNorm2d(256, eps=1e-05, momentum=0.1, affine=True, track_running_stats=True)\n",
              "    (3): MaxPool2d(kernel_size=2, stride=2, padding=0, dilation=1, ceil_mode=False)\n",
              "  )\n",
              "  (conv_block5_1): Sequential(\n",
              "    (0): Conv2d(256, 512, kernel_size=(3, 3), stride=(1, 1), padding=same)\n",
              "    (1): ReLU(inplace=True)\n",
              "    (2): BatchNorm2d(512, eps=1e-05, momentum=0.1, affine=True, track_running_stats=True)\n",
              "    (3): MaxPool2d(kernel_size=2, stride=2, padding=0, dilation=1, ceil_mode=False)\n",
              "  )\n",
              "  (conv_block5_2): Sequential(\n",
              "    (0): Conv2d(512, 512, kernel_size=(3, 3), stride=(1, 1), padding=same)\n",
              "    (1): ReLU(inplace=True)\n",
              "    (2): BatchNorm2d(512, eps=1e-05, momentum=0.1, affine=True, track_running_stats=True)\n",
              "    (3): MaxPool2d(kernel_size=2, stride=2, padding=0, dilation=1, ceil_mode=False)\n",
              "  )\n",
              "  (conv_block5_3): Sequential(\n",
              "    (0): Conv2d(512, 512, kernel_size=(3, 3), stride=(1, 1), padding=same)\n",
              "    (1): ReLU(inplace=True)\n",
              "    (2): BatchNorm2d(512, eps=1e-05, momentum=0.1, affine=True, track_running_stats=True)\n",
              "    (3): MaxPool2d(kernel_size=2, stride=2, padding=0, dilation=1, ceil_mode=False)\n",
              "  )\n",
              "  (hidden): Linear(in_features=512, out_features=128, bias=True)\n",
              "  (output): Linear(in_features=128, out_features=18, bias=True)\n",
              ")"
            ]
          },
          "metadata": {},
          "execution_count": 22
        }
      ]
    },
    {
      "cell_type": "code",
      "source": [
        "criterion = torch.nn.BCEWithLogitsLoss()    # Sigmoid + BCE \n",
        "optimizer = torch.optim.Adam(params=model.parameters(), lr=CONFIG['LEARNING_RATE']) "
      ],
      "metadata": {
        "id": "kuuZ08-L163N"
      },
      "execution_count": 23,
      "outputs": []
    },
    {
      "cell_type": "code",
      "source": [
        "# training data loader \n",
        "training_set = Dataset(df_train)\n",
        "training_generator = DataLoader(training_set, batch_size=CONFIG['TRAIN_BATCH_SIZE'], num_workers=CONFIG['NUM_WORKERS'], shuffle=True)"
      ],
      "metadata": {
        "id": "R7zsLEHBnW20"
      },
      "execution_count": 24,
      "outputs": []
    },
    {
      "cell_type": "code",
      "source": [
        "# validation data loader \n",
        "validation_set = Dataset(df_val)\n",
        "validation_generator = DataLoader(validation_set, batch_size=CONFIG['VAL_BATCH_SIZE'], num_workers=CONFIG['NUM_WORKERS'], shuffle=True)"
      ],
      "metadata": {
        "id": "HWvPw_tauaaE"
      },
      "execution_count": 25,
      "outputs": []
    },
    {
      "cell_type": "code",
      "source": [
        "train_losses, train_accs, val_losses, val_accs = train_model(\n",
        "        model=model, \n",
        "        training_generator=training_generator, \n",
        "        validation_generator=validation_generator, \n",
        "        criterion=criterion, \n",
        "        optimizer=optimizer, \n",
        "        epochs= CONFIG['EPOCHS'],\n",
        "        threshold=CONFIG['THRESHOLD'], \n",
        "        device=device\n",
        "    )"
      ],
      "metadata": {
        "colab": {
          "base_uri": "https://localhost:8080/"
        },
        "id": "KZp8zLwcvguk",
        "outputId": "adf38578-1eef-4078-8389-cc860625f878"
      },
      "execution_count": 26,
      "outputs": [
        {
          "output_type": "stream",
          "name": "stdout",
          "text": [
            "Epoch 1/20\n"
          ]
        },
        {
          "output_type": "stream",
          "name": "stderr",
          "text": [
            "100%|██████████| 14/14 [00:33<00:00,  2.36s/it]\n"
          ]
        },
        {
          "output_type": "stream",
          "name": "stdout",
          "text": [
            "loss: 0.6292 - accuracy: 0.8103 - val_loss: 2.8319 - val_accuracy: 0.8676\n",
            "\n",
            "Epoch 2/20\n"
          ]
        },
        {
          "output_type": "stream",
          "name": "stderr",
          "text": [
            "100%|██████████| 14/14 [00:44<00:00,  3.20s/it]\n"
          ]
        },
        {
          "output_type": "stream",
          "name": "stdout",
          "text": [
            "loss: 0.4734 - accuracy: 0.8681 - val_loss: 1.2999 - val_accuracy: 0.8595\n",
            "\n",
            "Epoch 3/20\n"
          ]
        },
        {
          "output_type": "stream",
          "name": "stderr",
          "text": [
            "100%|██████████| 14/14 [00:34<00:00,  2.49s/it]\n"
          ]
        },
        {
          "output_type": "stream",
          "name": "stdout",
          "text": [
            "loss: 0.3653 - accuracy: 0.8807 - val_loss: 0.8746 - val_accuracy: 0.8866\n",
            "\n",
            "Epoch 4/20\n"
          ]
        },
        {
          "output_type": "stream",
          "name": "stderr",
          "text": [
            "100%|██████████| 14/14 [00:30<00:00,  2.17s/it]\n"
          ]
        },
        {
          "output_type": "stream",
          "name": "stdout",
          "text": [
            "loss: 0.2671 - accuracy: 0.8938 - val_loss: 0.4697 - val_accuracy: 0.8819\n",
            "\n",
            "Epoch 5/20\n"
          ]
        },
        {
          "output_type": "stream",
          "name": "stderr",
          "text": [
            "100%|██████████| 14/14 [00:39<00:00,  2.80s/it]\n"
          ]
        },
        {
          "output_type": "stream",
          "name": "stdout",
          "text": [
            "loss: 0.2281 - accuracy: 0.9102 - val_loss: 0.3458 - val_accuracy: 0.8831\n",
            "\n",
            "Epoch 6/20\n"
          ]
        },
        {
          "output_type": "stream",
          "name": "stderr",
          "text": [
            "100%|██████████| 14/14 [00:29<00:00,  2.11s/it]\n"
          ]
        },
        {
          "output_type": "stream",
          "name": "stdout",
          "text": [
            "loss: 0.2206 - accuracy: 0.9110 - val_loss: 0.2896 - val_accuracy: 0.9100\n",
            "\n",
            "Epoch 7/20\n"
          ]
        },
        {
          "output_type": "stream",
          "name": "stderr",
          "text": [
            "100%|██████████| 14/14 [00:30<00:00,  2.15s/it]\n"
          ]
        },
        {
          "output_type": "stream",
          "name": "stdout",
          "text": [
            "loss: 0.2477 - accuracy: 0.9048 - val_loss: 0.2218 - val_accuracy: 0.9118\n",
            "\n",
            "Epoch 8/20\n"
          ]
        },
        {
          "output_type": "stream",
          "name": "stderr",
          "text": [
            "100%|██████████| 14/14 [00:30<00:00,  2.15s/it]\n"
          ]
        },
        {
          "output_type": "stream",
          "name": "stdout",
          "text": [
            "loss: 0.2219 - accuracy: 0.9065 - val_loss: 0.3924 - val_accuracy: 0.8889\n",
            "\n",
            "Epoch 9/20\n"
          ]
        },
        {
          "output_type": "stream",
          "name": "stderr",
          "text": [
            "100%|██████████| 14/14 [00:29<00:00,  2.10s/it]\n"
          ]
        },
        {
          "output_type": "stream",
          "name": "stdout",
          "text": [
            "loss: 0.2279 - accuracy: 0.9080 - val_loss: 0.2777 - val_accuracy: 0.9102\n",
            "\n",
            "Epoch 10/20\n"
          ]
        },
        {
          "output_type": "stream",
          "name": "stderr",
          "text": [
            "100%|██████████| 14/14 [00:29<00:00,  2.09s/it]\n"
          ]
        },
        {
          "output_type": "stream",
          "name": "stdout",
          "text": [
            "loss: 0.2315 - accuracy: 0.9060 - val_loss: 0.2316 - val_accuracy: 0.9102\n",
            "\n",
            "Epoch 11/20\n"
          ]
        },
        {
          "output_type": "stream",
          "name": "stderr",
          "text": [
            "100%|██████████| 14/14 [00:28<00:00,  2.04s/it]\n"
          ]
        },
        {
          "output_type": "stream",
          "name": "stdout",
          "text": [
            "loss: 0.2280 - accuracy: 0.9105 - val_loss: 0.2289 - val_accuracy: 0.9160\n",
            "\n",
            "Epoch 12/20\n"
          ]
        },
        {
          "output_type": "stream",
          "name": "stderr",
          "text": [
            "100%|██████████| 14/14 [00:28<00:00,  2.04s/it]\n"
          ]
        },
        {
          "output_type": "stream",
          "name": "stdout",
          "text": [
            "loss: 0.2170 - accuracy: 0.9120 - val_loss: 0.2158 - val_accuracy: 0.9229\n",
            "\n",
            "Epoch 13/20\n"
          ]
        },
        {
          "output_type": "stream",
          "name": "stderr",
          "text": [
            "100%|██████████| 14/14 [00:28<00:00,  2.07s/it]\n"
          ]
        },
        {
          "output_type": "stream",
          "name": "stdout",
          "text": [
            "loss: 0.2226 - accuracy: 0.9050 - val_loss: 0.2181 - val_accuracy: 0.9130\n",
            "\n",
            "Epoch 14/20\n"
          ]
        },
        {
          "output_type": "stream",
          "name": "stderr",
          "text": [
            "100%|██████████| 14/14 [00:28<00:00,  2.03s/it]\n"
          ]
        },
        {
          "output_type": "stream",
          "name": "stdout",
          "text": [
            "loss: 0.2104 - accuracy: 0.9097 - val_loss: 0.2403 - val_accuracy: 0.9106\n",
            "\n",
            "Epoch 15/20\n"
          ]
        },
        {
          "output_type": "stream",
          "name": "stderr",
          "text": [
            "100%|██████████| 14/14 [00:28<00:00,  2.05s/it]\n"
          ]
        },
        {
          "output_type": "stream",
          "name": "stdout",
          "text": [
            "loss: 0.2172 - accuracy: 0.9065 - val_loss: 0.2178 - val_accuracy: 0.9190\n",
            "\n",
            "Epoch 16/20\n"
          ]
        },
        {
          "output_type": "stream",
          "name": "stderr",
          "text": [
            "100%|██████████| 14/14 [00:28<00:00,  2.03s/it]\n"
          ]
        },
        {
          "output_type": "stream",
          "name": "stdout",
          "text": [
            "loss: 0.2271 - accuracy: 0.8993 - val_loss: 0.2397 - val_accuracy: 0.9028\n",
            "\n",
            "Epoch 17/20\n"
          ]
        },
        {
          "output_type": "stream",
          "name": "stderr",
          "text": [
            "100%|██████████| 14/14 [00:28<00:00,  2.05s/it]\n"
          ]
        },
        {
          "output_type": "stream",
          "name": "stdout",
          "text": [
            "loss: 0.2231 - accuracy: 0.9107 - val_loss: 0.2599 - val_accuracy: 0.8891\n",
            "\n",
            "Epoch 18/20\n"
          ]
        },
        {
          "output_type": "stream",
          "name": "stderr",
          "text": [
            "100%|██████████| 14/14 [00:41<00:00,  2.93s/it]\n"
          ]
        },
        {
          "output_type": "stream",
          "name": "stdout",
          "text": [
            "loss: 0.2270 - accuracy: 0.9035 - val_loss: 0.2453 - val_accuracy: 0.9083\n",
            "\n",
            "Epoch 19/20\n"
          ]
        },
        {
          "output_type": "stream",
          "name": "stderr",
          "text": [
            "100%|██████████| 14/14 [00:34<00:00,  2.45s/it]\n"
          ]
        },
        {
          "output_type": "stream",
          "name": "stdout",
          "text": [
            "loss: 0.2107 - accuracy: 0.9060 - val_loss: 0.2025 - val_accuracy: 0.9229\n",
            "\n",
            "Epoch 20/20\n"
          ]
        },
        {
          "output_type": "stream",
          "name": "stderr",
          "text": [
            "100%|██████████| 14/14 [00:27<00:00,  1.99s/it]\n"
          ]
        },
        {
          "output_type": "stream",
          "name": "stdout",
          "text": [
            "loss: 0.2049 - accuracy: 0.9105 - val_loss: 0.2388 - val_accuracy: 0.9072\n",
            "\n"
          ]
        }
      ]
    },
    {
      "cell_type": "code",
      "source": [
        "# Plot training & validation loss values\n",
        "plot_curve(train_losses, val_losses, plot_type=\"Loss\")"
      ],
      "metadata": {
        "colab": {
          "base_uri": "https://localhost:8080/",
          "height": 295
        },
        "id": "nOXdpY0EvtW-",
        "outputId": "b7e14629-830d-4321-e465-a37dc50591c0"
      },
      "execution_count": 27,
      "outputs": [
        {
          "output_type": "display_data",
          "data": {
            "text/plain": [
              "<Figure size 432x288 with 1 Axes>"
            ],
            "image/png": "[encoded data removed]"
          },
          "metadata": {
            "needs_background": "light"
          }
        }
      ]
    },
    {
      "cell_type": "code",
      "source": [
        "# validation data loader \n",
        "test_set = Dataset(df_test)\n",
        "test_generator = DataLoader(test_set, batch_size=CONFIG['VAL_BATCH_SIZE'], num_workers=CONFIG['NUM_WORKERS'], shuffle=False)\n",
        "\n",
        "# evaluating on test set \n",
        "evaluate(\n",
        "    model, \n",
        "    test_generator, \n",
        "    criterion, \n",
        "    threshold=CONFIG['THRESHOLD'], \n",
        "    device=device\n",
        ")"
      ],
      "metadata": {
        "colab": {
          "base_uri": "https://localhost:8080/"
        },
        "id": "WBm_VpAx-dij",
        "outputId": "19b04c87-cd12-43b7-b313-49f7de057cc3"
      },
      "execution_count": 30,
      "outputs": [
        {
          "output_type": "stream",
          "name": "stderr",
          "text": [
            "100%|██████████| 6/6 [00:05<00:00,  1.00it/s]"
          ]
        },
        {
          "output_type": "stream",
          "name": "stdout",
          "text": [
            "\n",
            "Test Loss: 0.2407\n",
            "Test Accuracy: 0.8984\n"
          ]
        },
        {
          "output_type": "stream",
          "name": "stderr",
          "text": [
            "\n"
          ]
        }
      ]
    },
    {
      "cell_type": "code",
      "source": [
        "# saving model \n",
        "torch.save(model.state_dict(), \"base_model.pth\")"
      ],
      "metadata": {
        "id": "r6epilkC-2ve"
      },
      "execution_count": 44,
      "outputs": []
    },
    {
      "cell_type": "markdown",
      "source": [
        "# Transfer Learning"
      ],
      "metadata": {
        "id": "9f7n2b_3-XkF"
      }
    },
    {
      "cell_type": "code",
      "source": [
        "import torchvision.models as models\n",
        "\n",
        "class TransferNet(nn.Module):\n",
        "    def __init__(self, pretrained=True):\n",
        "        super().__init__()\n",
        "\n",
        "        resnet18 = models.resnet18(pretrained=pretrained)\n",
        "\n",
        "        # fetching size of in_features to fc layer\n",
        "        num_ftrs = resnet18.fc.in_features\n",
        "\n",
        "        # replacing fc layer to match num_outputs=18\n",
        "        resnet18.fc = nn.Sequential(\n",
        "            nn.Dropout(p=0.3), # adding regularization\n",
        "            nn.Linear(num_ftrs, 18)\n",
        "        )\n",
        "\n",
        "        self.base_model = resnet18\n",
        "\n",
        "    def forward(self, x):\n",
        "        x = self.base_model(x)\n",
        "\n",
        "        return x"
      ],
      "metadata": {
        "id": "_b32AVngC8bA"
      },
      "execution_count": 19,
      "outputs": []
    },
    {
      "cell_type": "code",
      "source": [
        "model = TransferNet()"
      ],
      "metadata": {
        "id": "ZAkqtZmf0Y1e"
      },
      "execution_count": 20,
      "outputs": []
    },
    {
      "cell_type": "code",
      "source": [
        "# moving model to GPU if available\n",
        "model.to(device)"
      ],
      "metadata": {
        "colab": {
          "base_uri": "https://localhost:8080/"
        },
        "outputId": "85d6b598-2263-45e9-fff8-f8a4abadbb7e",
        "id": "RPVS9ZP60Y1f"
      },
      "execution_count": 21,
      "outputs": [
        {
          "output_type": "execute_result",
          "data": {
            "text/plain": [
              "TransferNet(\n",
              "  (base_model): ResNet(\n",
              "    (conv1): Conv2d(3, 64, kernel_size=(7, 7), stride=(2, 2), padding=(3, 3), bias=False)\n",
              "    (bn1): BatchNorm2d(64, eps=1e-05, momentum=0.1, affine=True, track_running_stats=True)\n",
              "    (relu): ReLU(inplace=True)\n",
              "    (maxpool): MaxPool2d(kernel_size=3, stride=2, padding=1, dilation=1, ceil_mode=False)\n",
              "    (layer1): Sequential(\n",
              "      (0): BasicBlock(\n",
              "        (conv1): Conv2d(64, 64, kernel_size=(3, 3), stride=(1, 1), padding=(1, 1), bias=False)\n",
              "        (bn1): BatchNorm2d(64, eps=1e-05, momentum=0.1, affine=True, track_running_stats=True)\n",
              "        (relu): ReLU(inplace=True)\n",
              "        (conv2): Conv2d(64, 64, kernel_size=(3, 3), stride=(1, 1), padding=(1, 1), bias=False)\n",
              "        (bn2): BatchNorm2d(64, eps=1e-05, momentum=0.1, affine=True, track_running_stats=True)\n",
              "      )\n",
              "      (1): BasicBlock(\n",
              "        (conv1): Conv2d(64, 64, kernel_size=(3, 3), stride=(1, 1), padding=(1, 1), bias=False)\n",
              "        (bn1): BatchNorm2d(64, eps=1e-05, momentum=0.1, affine=True, track_running_stats=True)\n",
              "        (relu): ReLU(inplace=True)\n",
              "        (conv2): Conv2d(64, 64, kernel_size=(3, 3), stride=(1, 1), padding=(1, 1), bias=False)\n",
              "        (bn2): BatchNorm2d(64, eps=1e-05, momentum=0.1, affine=True, track_running_stats=True)\n",
              "      )\n",
              "    )\n",
              "    (layer2): Sequential(\n",
              "      (0): BasicBlock(\n",
              "        (conv1): Conv2d(64, 128, kernel_size=(3, 3), stride=(2, 2), padding=(1, 1), bias=False)\n",
              "        (bn1): BatchNorm2d(128, eps=1e-05, momentum=0.1, affine=True, track_running_stats=True)\n",
              "        (relu): ReLU(inplace=True)\n",
              "        (conv2): Conv2d(128, 128, kernel_size=(3, 3), stride=(1, 1), padding=(1, 1), bias=False)\n",
              "        (bn2): BatchNorm2d(128, eps=1e-05, momentum=0.1, affine=True, track_running_stats=True)\n",
              "        (downsample): Sequential(\n",
              "          (0): Conv2d(64, 128, kernel_size=(1, 1), stride=(2, 2), bias=False)\n",
              "          (1): BatchNorm2d(128, eps=1e-05, momentum=0.1, affine=True, track_running_stats=True)\n",
              "        )\n",
              "      )\n",
              "      (1): BasicBlock(\n",
              "        (conv1): Conv2d(128, 128, kernel_size=(3, 3), stride=(1, 1), padding=(1, 1), bias=False)\n",
              "        (bn1): BatchNorm2d(128, eps=1e-05, momentum=0.1, affine=True, track_running_stats=True)\n",
              "        (relu): ReLU(inplace=True)\n",
              "        (conv2): Conv2d(128, 128, kernel_size=(3, 3), stride=(1, 1), padding=(1, 1), bias=False)\n",
              "        (bn2): BatchNorm2d(128, eps=1e-05, momentum=0.1, affine=True, track_running_stats=True)\n",
              "      )\n",
              "    )\n",
              "    (layer3): Sequential(\n",
              "      (0): BasicBlock(\n",
              "        (conv1): Conv2d(128, 256, kernel_size=(3, 3), stride=(2, 2), padding=(1, 1), bias=False)\n",
              "        (bn1): BatchNorm2d(256, eps=1e-05, momentum=0.1, affine=True, track_running_stats=True)\n",
              "        (relu): ReLU(inplace=True)\n",
              "        (conv2): Conv2d(256, 256, kernel_size=(3, 3), stride=(1, 1), padding=(1, 1), bias=False)\n",
              "        (bn2): BatchNorm2d(256, eps=1e-05, momentum=0.1, affine=True, track_running_stats=True)\n",
              "        (downsample): Sequential(\n",
              "          (0): Conv2d(128, 256, kernel_size=(1, 1), stride=(2, 2), bias=False)\n",
              "          (1): BatchNorm2d(256, eps=1e-05, momentum=0.1, affine=True, track_running_stats=True)\n",
              "        )\n",
              "      )\n",
              "      (1): BasicBlock(\n",
              "        (conv1): Conv2d(256, 256, kernel_size=(3, 3), stride=(1, 1), padding=(1, 1), bias=False)\n",
              "        (bn1): BatchNorm2d(256, eps=1e-05, momentum=0.1, affine=True, track_running_stats=True)\n",
              "        (relu): ReLU(inplace=True)\n",
              "        (conv2): Conv2d(256, 256, kernel_size=(3, 3), stride=(1, 1), padding=(1, 1), bias=False)\n",
              "        (bn2): BatchNorm2d(256, eps=1e-05, momentum=0.1, affine=True, track_running_stats=True)\n",
              "      )\n",
              "    )\n",
              "    (layer4): Sequential(\n",
              "      (0): BasicBlock(\n",
              "        (conv1): Conv2d(256, 512, kernel_size=(3, 3), stride=(2, 2), padding=(1, 1), bias=False)\n",
              "        (bn1): BatchNorm2d(512, eps=1e-05, momentum=0.1, affine=True, track_running_stats=True)\n",
              "        (relu): ReLU(inplace=True)\n",
              "        (conv2): Conv2d(512, 512, kernel_size=(3, 3), stride=(1, 1), padding=(1, 1), bias=False)\n",
              "        (bn2): BatchNorm2d(512, eps=1e-05, momentum=0.1, affine=True, track_running_stats=True)\n",
              "        (downsample): Sequential(\n",
              "          (0): Conv2d(256, 512, kernel_size=(1, 1), stride=(2, 2), bias=False)\n",
              "          (1): BatchNorm2d(512, eps=1e-05, momentum=0.1, affine=True, track_running_stats=True)\n",
              "        )\n",
              "      )\n",
              "      (1): BasicBlock(\n",
              "        (conv1): Conv2d(512, 512, kernel_size=(3, 3), stride=(1, 1), padding=(1, 1), bias=False)\n",
              "        (bn1): BatchNorm2d(512, eps=1e-05, momentum=0.1, affine=True, track_running_stats=True)\n",
              "        (relu): ReLU(inplace=True)\n",
              "        (conv2): Conv2d(512, 512, kernel_size=(3, 3), stride=(1, 1), padding=(1, 1), bias=False)\n",
              "        (bn2): BatchNorm2d(512, eps=1e-05, momentum=0.1, affine=True, track_running_stats=True)\n",
              "      )\n",
              "    )\n",
              "    (avgpool): AdaptiveAvgPool2d(output_size=(1, 1))\n",
              "    (fc): Sequential(\n",
              "      (0): Dropout(p=0.3, inplace=False)\n",
              "      (1): Linear(in_features=512, out_features=18, bias=True)\n",
              "    )\n",
              "  )\n",
              ")"
            ]
          },
          "metadata": {},
          "execution_count": 21
        }
      ]
    },
    {
      "cell_type": "code",
      "source": [
        "criterion = torch.nn.BCEWithLogitsLoss()    # Sigmoid + BCE \n",
        "optimizer = torch.optim.Adam(params=model.parameters(), lr=0.001) "
      ],
      "metadata": {
        "id": "ptcSCvG1xhwZ"
      },
      "execution_count": 22,
      "outputs": []
    },
    {
      "cell_type": "code",
      "source": [
        "# training data loader \n",
        "training_set = Dataset(df_train)\n",
        "training_generator = DataLoader(training_set, batch_size=CONFIG['TRAIN_BATCH_SIZE'], num_workers=CONFIG['NUM_WORKERS'], shuffle=True)"
      ],
      "metadata": {
        "id": "nTpO4lMd0024"
      },
      "execution_count": 23,
      "outputs": []
    },
    {
      "cell_type": "code",
      "source": [
        "# validation data loader \n",
        "validation_set = Dataset(df_val)\n",
        "validation_generator = DataLoader(validation_set, batch_size=CONFIG['VAL_BATCH_SIZE'], num_workers=CONFIG['NUM_WORKERS'], shuffle=True)"
      ],
      "metadata": {
        "id": "mhrI2u_q003O"
      },
      "execution_count": 24,
      "outputs": []
    },
    {
      "cell_type": "code",
      "source": [
        "train_losses, train_accs, val_losses, val_accs = train_model(\n",
        "        model=model, \n",
        "        training_generator=training_generator, \n",
        "        validation_generator=validation_generator, \n",
        "        criterion=criterion, \n",
        "        optimizer=optimizer, \n",
        "        epochs=CONFIG['EPOCHS'], \n",
        "        threshold=CONFIG['THRESHOLD'],\n",
        "        device=device\n",
        "    )"
      ],
      "metadata": {
        "colab": {
          "base_uri": "https://localhost:8080/"
        },
        "id": "-JfOg75bHIkG",
        "outputId": "bd1b8b71-033a-47d3-8159-c6ce6df0fbb7"
      },
      "execution_count": 25,
      "outputs": [
        {
          "output_type": "stream",
          "name": "stdout",
          "text": [
            "Epoch 1/20\n"
          ]
        },
        {
          "output_type": "stream",
          "name": "stderr",
          "text": [
            "100%|██████████| 14/14 [00:29<00:00,  2.10s/it]\n"
          ]
        },
        {
          "output_type": "stream",
          "name": "stdout",
          "text": [
            "loss: 0.3413 - accuracy: 0.8584 - val_loss: 0.6881 - val_accuracy: 0.8880\n",
            "\n",
            "Epoch 2/20\n"
          ]
        },
        {
          "output_type": "stream",
          "name": "stderr",
          "text": [
            "100%|██████████| 14/14 [00:40<00:00,  2.89s/it]\n"
          ]
        },
        {
          "output_type": "stream",
          "name": "stdout",
          "text": [
            "loss: 0.1965 - accuracy: 0.9236 - val_loss: 1.0161 - val_accuracy: 0.8775\n",
            "\n",
            "Epoch 3/20\n"
          ]
        },
        {
          "output_type": "stream",
          "name": "stderr",
          "text": [
            "100%|██████████| 14/14 [00:28<00:00,  2.07s/it]\n"
          ]
        },
        {
          "output_type": "stream",
          "name": "stdout",
          "text": [
            "loss: 0.2104 - accuracy: 0.9191 - val_loss: 0.3900 - val_accuracy: 0.9120\n",
            "\n",
            "Epoch 4/20\n"
          ]
        },
        {
          "output_type": "stream",
          "name": "stderr",
          "text": [
            "100%|██████████| 14/14 [00:29<00:00,  2.10s/it]\n"
          ]
        },
        {
          "output_type": "stream",
          "name": "stdout",
          "text": [
            "loss: 0.1928 - accuracy: 0.9249 - val_loss: 0.2648 - val_accuracy: 0.9169\n",
            "\n",
            "Epoch 5/20\n"
          ]
        },
        {
          "output_type": "stream",
          "name": "stderr",
          "text": [
            "100%|██████████| 14/14 [00:29<00:00,  2.07s/it]\n"
          ]
        },
        {
          "output_type": "stream",
          "name": "stdout",
          "text": [
            "loss: 0.1778 - accuracy: 0.9278 - val_loss: 0.2191 - val_accuracy: 0.9269\n",
            "\n",
            "Epoch 6/20\n"
          ]
        },
        {
          "output_type": "stream",
          "name": "stderr",
          "text": [
            "100%|██████████| 14/14 [00:29<00:00,  2.09s/it]\n"
          ]
        },
        {
          "output_type": "stream",
          "name": "stdout",
          "text": [
            "loss: 0.1684 - accuracy: 0.9283 - val_loss: 0.1968 - val_accuracy: 0.9310\n",
            "\n",
            "Epoch 7/20\n"
          ]
        },
        {
          "output_type": "stream",
          "name": "stderr",
          "text": [
            "100%|██████████| 14/14 [00:28<00:00,  2.05s/it]\n"
          ]
        },
        {
          "output_type": "stream",
          "name": "stdout",
          "text": [
            "loss: 0.1606 - accuracy: 0.9303 - val_loss: 0.2410 - val_accuracy: 0.9303\n",
            "\n",
            "Epoch 8/20\n"
          ]
        },
        {
          "output_type": "stream",
          "name": "stderr",
          "text": [
            "100%|██████████| 14/14 [00:28<00:00,  2.04s/it]\n"
          ]
        },
        {
          "output_type": "stream",
          "name": "stdout",
          "text": [
            "loss: 0.1530 - accuracy: 0.9335 - val_loss: 0.2409 - val_accuracy: 0.9280\n",
            "\n",
            "Epoch 9/20\n"
          ]
        },
        {
          "output_type": "stream",
          "name": "stderr",
          "text": [
            "100%|██████████| 14/14 [00:27<00:00,  2.00s/it]\n"
          ]
        },
        {
          "output_type": "stream",
          "name": "stdout",
          "text": [
            "loss: 0.1527 - accuracy: 0.9375 - val_loss: 0.2841 - val_accuracy: 0.9120\n",
            "\n",
            "Epoch 10/20\n"
          ]
        },
        {
          "output_type": "stream",
          "name": "stderr",
          "text": [
            "100%|██████████| 14/14 [00:28<00:00,  2.04s/it]\n"
          ]
        },
        {
          "output_type": "stream",
          "name": "stdout",
          "text": [
            "loss: 0.1445 - accuracy: 0.9382 - val_loss: 0.1944 - val_accuracy: 0.9389\n",
            "\n",
            "Epoch 11/20\n"
          ]
        },
        {
          "output_type": "stream",
          "name": "stderr",
          "text": [
            "100%|██████████| 14/14 [00:28<00:00,  2.01s/it]\n"
          ]
        },
        {
          "output_type": "stream",
          "name": "stdout",
          "text": [
            "loss: 0.1423 - accuracy: 0.9412 - val_loss: 0.2711 - val_accuracy: 0.9331\n",
            "\n",
            "Epoch 12/20\n"
          ]
        },
        {
          "output_type": "stream",
          "name": "stderr",
          "text": [
            "100%|██████████| 14/14 [00:28<00:00,  2.04s/it]\n"
          ]
        },
        {
          "output_type": "stream",
          "name": "stdout",
          "text": [
            "loss: 0.1386 - accuracy: 0.9435 - val_loss: 0.2475 - val_accuracy: 0.9171\n",
            "\n",
            "Epoch 13/20\n"
          ]
        },
        {
          "output_type": "stream",
          "name": "stderr",
          "text": [
            "100%|██████████| 14/14 [00:27<00:00,  1.99s/it]\n"
          ]
        },
        {
          "output_type": "stream",
          "name": "stdout",
          "text": [
            "loss: 0.1380 - accuracy: 0.9459 - val_loss: 0.1861 - val_accuracy: 0.9333\n",
            "\n",
            "Epoch 14/20\n"
          ]
        },
        {
          "output_type": "stream",
          "name": "stderr",
          "text": [
            "100%|██████████| 14/14 [00:28<00:00,  2.04s/it]\n"
          ]
        },
        {
          "output_type": "stream",
          "name": "stdout",
          "text": [
            "loss: 0.1476 - accuracy: 0.9415 - val_loss: 0.2495 - val_accuracy: 0.9167\n",
            "\n",
            "Epoch 15/20\n"
          ]
        },
        {
          "output_type": "stream",
          "name": "stderr",
          "text": [
            "100%|██████████| 14/14 [00:28<00:00,  2.03s/it]\n"
          ]
        },
        {
          "output_type": "stream",
          "name": "stdout",
          "text": [
            "loss: 0.1380 - accuracy: 0.9482 - val_loss: 0.2526 - val_accuracy: 0.9032\n",
            "\n",
            "Epoch 16/20\n"
          ]
        },
        {
          "output_type": "stream",
          "name": "stderr",
          "text": [
            "100%|██████████| 14/14 [00:28<00:00,  2.04s/it]\n"
          ]
        },
        {
          "output_type": "stream",
          "name": "stdout",
          "text": [
            "loss: 0.1407 - accuracy: 0.9427 - val_loss: 0.2269 - val_accuracy: 0.9310\n",
            "\n",
            "Epoch 17/20\n"
          ]
        },
        {
          "output_type": "stream",
          "name": "stderr",
          "text": [
            "100%|██████████| 14/14 [00:28<00:00,  2.02s/it]\n"
          ]
        },
        {
          "output_type": "stream",
          "name": "stdout",
          "text": [
            "loss: 0.1235 - accuracy: 0.9521 - val_loss: 0.2319 - val_accuracy: 0.9222\n",
            "\n",
            "Epoch 18/20\n"
          ]
        },
        {
          "output_type": "stream",
          "name": "stderr",
          "text": [
            "100%|██████████| 14/14 [00:33<00:00,  2.41s/it]\n"
          ]
        },
        {
          "output_type": "stream",
          "name": "stdout",
          "text": [
            "loss: 0.1295 - accuracy: 0.9521 - val_loss: 0.2232 - val_accuracy: 0.9220\n",
            "\n",
            "Epoch 19/20\n"
          ]
        },
        {
          "output_type": "stream",
          "name": "stderr",
          "text": [
            "100%|██████████| 14/14 [00:28<00:00,  2.01s/it]\n"
          ]
        },
        {
          "output_type": "stream",
          "name": "stdout",
          "text": [
            "loss: 0.1166 - accuracy: 0.9516 - val_loss: 0.2531 - val_accuracy: 0.9150\n",
            "\n",
            "Epoch 20/20\n"
          ]
        },
        {
          "output_type": "stream",
          "name": "stderr",
          "text": [
            "100%|██████████| 14/14 [00:28<00:00,  2.02s/it]\n"
          ]
        },
        {
          "output_type": "stream",
          "name": "stdout",
          "text": [
            "loss: 0.1428 - accuracy: 0.9506 - val_loss: 0.2603 - val_accuracy: 0.9178\n",
            "\n"
          ]
        }
      ]
    },
    {
      "cell_type": "code",
      "source": [
        "# Plot training & validation loss values\n",
        "plot_curve(train_losses, val_losses, plot_type=\"Loss\")"
      ],
      "metadata": {
        "colab": {
          "base_uri": "https://localhost:8080/",
          "height": 295
        },
        "outputId": "d19c4c03-a508-4d08-eeff-64b00ea5e2c5",
        "id": "U30xOe5yFwUG"
      },
      "execution_count": 26,
      "outputs": [
        {
          "output_type": "display_data",
          "data": {
            "text/plain": [
              "<Figure size 432x288 with 1 Axes>"
            ],
            "image/png": "[encoded data removed]"
          },
          "metadata": {
            "needs_background": "light"
          }
        }
      ]
    },
    {
      "cell_type": "code",
      "source": [
        "# validation data loader \n",
        "test_set = Dataset(df_test)\n",
        "test_generator = DataLoader(test_set, batch_size=CONFIG['VAL_BATCH_SIZE'], num_workers=CONFIG['NUM_WORKERS'], shuffle=False)\n",
        "\n",
        "# evaluating on test set \n",
        "evaluate(\n",
        "    model, \n",
        "    test_generator, \n",
        "    criterion, \n",
        "    threshold=CONFIG['THRESHOLD'], \n",
        "    device=device\n",
        ")"
      ],
      "metadata": {
        "colab": {
          "base_uri": "https://localhost:8080/"
        },
        "outputId": "7d4a4baa-5615-4584-ad83-0c42530a6a7c",
        "id": "Lxtm9xW2FwUg"
      },
      "execution_count": 27,
      "outputs": [
        {
          "output_type": "stream",
          "name": "stderr",
          "text": [
            "100%|██████████| 6/6 [00:06<00:00,  1.05s/it]"
          ]
        },
        {
          "output_type": "stream",
          "name": "stdout",
          "text": [
            "\n",
            "Test Loss: 0.2578\n",
            "Test Accuracy: 0.9083\n"
          ]
        },
        {
          "output_type": "stream",
          "name": "stderr",
          "text": [
            "\n"
          ]
        }
      ]
    },
    {
      "cell_type": "code",
      "source": [
        "# saving model \n",
        "torch.save(model.state_dict(), \"transfer_model.pth\")"
      ],
      "metadata": {
        "id": "wtF38QQ_FwUg"
      },
      "execution_count": 28,
      "outputs": []
    },
    {
      "cell_type": "markdown",
      "source": [
        "# Deep Transfer Learning"
      ],
      "metadata": {
        "id": "FQLFcejcZhEk"
      }
    },
    {
      "cell_type": "code",
      "source": [
        "import torchvision.models as models\n",
        "\n",
        "class DeepTransferNet(nn.Module):\n",
        "    def __init__(self, pretrained=True):\n",
        "        super().__init__()\n",
        "\n",
        "        resnext50 = models.resnext50_32x4d(pretrained=pretrained)\n",
        "\n",
        "        # fetching size of in_features to fc layer\n",
        "        num_ftrs = resnext50.fc.in_features\n",
        "\n",
        "        # replacing fc layer to match num_outputs=18\n",
        "        resnext50.fc = nn.Sequential(\n",
        "            nn.Dropout(p=0.3), # adding regularization\n",
        "            nn.Linear(num_ftrs, 18)\n",
        "        )\n",
        "\n",
        "        self.base_model = resnext50\n",
        "\n",
        "    def forward(self, x):\n",
        "        x = self.base_model(x)\n",
        "\n",
        "        return x"
      ],
      "metadata": {
        "id": "aJPTNzdHZi9U"
      },
      "execution_count": 23,
      "outputs": []
    },
    {
      "cell_type": "code",
      "source": [
        "model = DeepTransferNet()"
      ],
      "metadata": {
        "colab": {
          "base_uri": "https://localhost:8080/",
          "height": 66,
          "referenced_widgets": [
            "7d1fbcb47d5b45a6aa6e22e3b8a90ba9",
            "6a3a37e2e6fe4373bc33df26e0bfdd14",
            "39a6e123729f4b56afc81f71d0298ffb",
            "03a5fa7a14b442249eded5ea4ae7236a",
            "1879f28e5450458d86432f0b572fd2fb",
            "59d427a103cd44418da64c46e1a887d8",
            "361755a035bb4bb0bca7d02e7db7d675",
            "3d5d6accfefa417482c2e0aaff61256f",
            "61f3c906764d4296b1b8f8425dbaab5e",
            "5eb15420df224280978ffd93bdb5dbaa",
            "b4001488aefe44a0a32fb393dd6c3a6d"
          ]
        },
        "id": "uA0sXbAlZi9W",
        "outputId": "d58b0972-236b-4b37-8dd0-618297e1d82e"
      },
      "execution_count": 24,
      "outputs": [
        {
          "output_type": "stream",
          "name": "stderr",
          "text": [
            "Downloading: \"https://download.pytorch.org/models/resnext50_32x4d-7cdf4587.pth\" to /root/.cache/torch/hub/checkpoints/resnext50_32x4d-7cdf4587.pth\n"
          ]
        },
        {
          "output_type": "display_data",
          "data": {
            "text/plain": [
              "  0%|          | 0.00/95.8M [00:00<?, ?B/s]"
            ],
            "application/vnd.jupyter.widget-view+json": {
              "version_major": 2,
              "version_minor": 0,
              "model_id": "7d1fbcb47d5b45a6aa6e22e3b8a90ba9"
            }
          },
          "metadata": {}
        }
      ]
    },
    {
      "cell_type": "code",
      "source": [
        "# moving model to GPU if available\n",
        "model.to(device)"
      ],
      "metadata": {
        "colab": {
          "base_uri": "https://localhost:8080/"
        },
        "outputId": "facfa2b2-da8e-45a3-da24-c3e49f52ae0a",
        "id": "usPkMr8AZi9W"
      },
      "execution_count": 25,
      "outputs": [
        {
          "output_type": "execute_result",
          "data": {
            "text/plain": [
              "DeepTransferNet(\n",
              "  (base_model): ResNet(\n",
              "    (conv1): Conv2d(3, 64, kernel_size=(7, 7), stride=(2, 2), padding=(3, 3), bias=False)\n",
              "    (bn1): BatchNorm2d(64, eps=1e-05, momentum=0.1, affine=True, track_running_stats=True)\n",
              "    (relu): ReLU(inplace=True)\n",
              "    (maxpool): MaxPool2d(kernel_size=3, stride=2, padding=1, dilation=1, ceil_mode=False)\n",
              "    (layer1): Sequential(\n",
              "      (0): Bottleneck(\n",
              "        (conv1): Conv2d(64, 128, kernel_size=(1, 1), stride=(1, 1), bias=False)\n",
              "        (bn1): BatchNorm2d(128, eps=1e-05, momentum=0.1, affine=True, track_running_stats=True)\n",
              "        (conv2): Conv2d(128, 128, kernel_size=(3, 3), stride=(1, 1), padding=(1, 1), groups=32, bias=False)\n",
              "        (bn2): BatchNorm2d(128, eps=1e-05, momentum=0.1, affine=True, track_running_stats=True)\n",
              "        (conv3): Conv2d(128, 256, kernel_size=(1, 1), stride=(1, 1), bias=False)\n",
              "        (bn3): BatchNorm2d(256, eps=1e-05, momentum=0.1, affine=True, track_running_stats=True)\n",
              "        (relu): ReLU(inplace=True)\n",
              "        (downsample): Sequential(\n",
              "          (0): Conv2d(64, 256, kernel_size=(1, 1), stride=(1, 1), bias=False)\n",
              "          (1): BatchNorm2d(256, eps=1e-05, momentum=0.1, affine=True, track_running_stats=True)\n",
              "        )\n",
              "      )\n",
              "      (1): Bottleneck(\n",
              "        (conv1): Conv2d(256, 128, kernel_size=(1, 1), stride=(1, 1), bias=False)\n",
              "        (bn1): BatchNorm2d(128, eps=1e-05, momentum=0.1, affine=True, track_running_stats=True)\n",
              "        (conv2): Conv2d(128, 128, kernel_size=(3, 3), stride=(1, 1), padding=(1, 1), groups=32, bias=False)\n",
              "        (bn2): BatchNorm2d(128, eps=1e-05, momentum=0.1, affine=True, track_running_stats=True)\n",
              "        (conv3): Conv2d(128, 256, kernel_size=(1, 1), stride=(1, 1), bias=False)\n",
              "        (bn3): BatchNorm2d(256, eps=1e-05, momentum=0.1, affine=True, track_running_stats=True)\n",
              "        (relu): ReLU(inplace=True)\n",
              "      )\n",
              "      (2): Bottleneck(\n",
              "        (conv1): Conv2d(256, 128, kernel_size=(1, 1), stride=(1, 1), bias=False)\n",
              "        (bn1): BatchNorm2d(128, eps=1e-05, momentum=0.1, affine=True, track_running_stats=True)\n",
              "        (conv2): Conv2d(128, 128, kernel_size=(3, 3), stride=(1, 1), padding=(1, 1), groups=32, bias=False)\n",
              "        (bn2): BatchNorm2d(128, eps=1e-05, momentum=0.1, affine=True, track_running_stats=True)\n",
              "        (conv3): Conv2d(128, 256, kernel_size=(1, 1), stride=(1, 1), bias=False)\n",
              "        (bn3): BatchNorm2d(256, eps=1e-05, momentum=0.1, affine=True, track_running_stats=True)\n",
              "        (relu): ReLU(inplace=True)\n",
              "      )\n",
              "    )\n",
              "    (layer2): Sequential(\n",
              "      (0): Bottleneck(\n",
              "        (conv1): Conv2d(256, 256, kernel_size=(1, 1), stride=(1, 1), bias=False)\n",
              "        (bn1): BatchNorm2d(256, eps=1e-05, momentum=0.1, affine=True, track_running_stats=True)\n",
              "        (conv2): Conv2d(256, 256, kernel_size=(3, 3), stride=(2, 2), padding=(1, 1), groups=32, bias=False)\n",
              "        (bn2): BatchNorm2d(256, eps=1e-05, momentum=0.1, affine=True, track_running_stats=True)\n",
              "        (conv3): Conv2d(256, 512, kernel_size=(1, 1), stride=(1, 1), bias=False)\n",
              "        (bn3): BatchNorm2d(512, eps=1e-05, momentum=0.1, affine=True, track_running_stats=True)\n",
              "        (relu): ReLU(inplace=True)\n",
              "        (downsample): Sequential(\n",
              "          (0): Conv2d(256, 512, kernel_size=(1, 1), stride=(2, 2), bias=False)\n",
              "          (1): BatchNorm2d(512, eps=1e-05, momentum=0.1, affine=True, track_running_stats=True)\n",
              "        )\n",
              "      )\n",
              "      (1): Bottleneck(\n",
              "        (conv1): Conv2d(512, 256, kernel_size=(1, 1), stride=(1, 1), bias=False)\n",
              "        (bn1): BatchNorm2d(256, eps=1e-05, momentum=0.1, affine=True, track_running_stats=True)\n",
              "        (conv2): Conv2d(256, 256, kernel_size=(3, 3), stride=(1, 1), padding=(1, 1), groups=32, bias=False)\n",
              "        (bn2): BatchNorm2d(256, eps=1e-05, momentum=0.1, affine=True, track_running_stats=True)\n",
              "        (conv3): Conv2d(256, 512, kernel_size=(1, 1), stride=(1, 1), bias=False)\n",
              "        (bn3): BatchNorm2d(512, eps=1e-05, momentum=0.1, affine=True, track_running_stats=True)\n",
              "        (relu): ReLU(inplace=True)\n",
              "      )\n",
              "      (2): Bottleneck(\n",
              "        (conv1): Conv2d(512, 256, kernel_size=(1, 1), stride=(1, 1), bias=False)\n",
              "        (bn1): BatchNorm2d(256, eps=1e-05, momentum=0.1, affine=True, track_running_stats=True)\n",
              "        (conv2): Conv2d(256, 256, kernel_size=(3, 3), stride=(1, 1), padding=(1, 1), groups=32, bias=False)\n",
              "        (bn2): BatchNorm2d(256, eps=1e-05, momentum=0.1, affine=True, track_running_stats=True)\n",
              "        (conv3): Conv2d(256, 512, kernel_size=(1, 1), stride=(1, 1), bias=False)\n",
              "        (bn3): BatchNorm2d(512, eps=1e-05, momentum=0.1, affine=True, track_running_stats=True)\n",
              "        (relu): ReLU(inplace=True)\n",
              "      )\n",
              "      (3): Bottleneck(\n",
              "        (conv1): Conv2d(512, 256, kernel_size=(1, 1), stride=(1, 1), bias=False)\n",
              "        (bn1): BatchNorm2d(256, eps=1e-05, momentum=0.1, affine=True, track_running_stats=True)\n",
              "        (conv2): Conv2d(256, 256, kernel_size=(3, 3), stride=(1, 1), padding=(1, 1), groups=32, bias=False)\n",
              "        (bn2): BatchNorm2d(256, eps=1e-05, momentum=0.1, affine=True, track_running_stats=True)\n",
              "        (conv3): Conv2d(256, 512, kernel_size=(1, 1), stride=(1, 1), bias=False)\n",
              "        (bn3): BatchNorm2d(512, eps=1e-05, momentum=0.1, affine=True, track_running_stats=True)\n",
              "        (relu): ReLU(inplace=True)\n",
              "      )\n",
              "    )\n",
              "    (layer3): Sequential(\n",
              "      (0): Bottleneck(\n",
              "        (conv1): Conv2d(512, 512, kernel_size=(1, 1), stride=(1, 1), bias=False)\n",
              "        (bn1): BatchNorm2d(512, eps=1e-05, momentum=0.1, affine=True, track_running_stats=True)\n",
              "        (conv2): Conv2d(512, 512, kernel_size=(3, 3), stride=(2, 2), padding=(1, 1), groups=32, bias=False)\n",
              "        (bn2): BatchNorm2d(512, eps=1e-05, momentum=0.1, affine=True, track_running_stats=True)\n",
              "        (conv3): Conv2d(512, 1024, kernel_size=(1, 1), stride=(1, 1), bias=False)\n",
              "        (bn3): BatchNorm2d(1024, eps=1e-05, momentum=0.1, affine=True, track_running_stats=True)\n",
              "        (relu): ReLU(inplace=True)\n",
              "        (downsample): Sequential(\n",
              "          (0): Conv2d(512, 1024, kernel_size=(1, 1), stride=(2, 2), bias=False)\n",
              "          (1): BatchNorm2d(1024, eps=1e-05, momentum=0.1, affine=True, track_running_stats=True)\n",
              "        )\n",
              "      )\n",
              "      (1): Bottleneck(\n",
              "        (conv1): Conv2d(1024, 512, kernel_size=(1, 1), stride=(1, 1), bias=False)\n",
              "        (bn1): BatchNorm2d(512, eps=1e-05, momentum=0.1, affine=True, track_running_stats=True)\n",
              "        (conv2): Conv2d(512, 512, kernel_size=(3, 3), stride=(1, 1), padding=(1, 1), groups=32, bias=False)\n",
              "        (bn2): BatchNorm2d(512, eps=1e-05, momentum=0.1, affine=True, track_running_stats=True)\n",
              "        (conv3): Conv2d(512, 1024, kernel_size=(1, 1), stride=(1, 1), bias=False)\n",
              "        (bn3): BatchNorm2d(1024, eps=1e-05, momentum=0.1, affine=True, track_running_stats=True)\n",
              "        (relu): ReLU(inplace=True)\n",
              "      )\n",
              "      (2): Bottleneck(\n",
              "        (conv1): Conv2d(1024, 512, kernel_size=(1, 1), stride=(1, 1), bias=False)\n",
              "        (bn1): BatchNorm2d(512, eps=1e-05, momentum=0.1, affine=True, track_running_stats=True)\n",
              "        (conv2): Conv2d(512, 512, kernel_size=(3, 3), stride=(1, 1), padding=(1, 1), groups=32, bias=False)\n",
              "        (bn2): BatchNorm2d(512, eps=1e-05, momentum=0.1, affine=True, track_running_stats=True)\n",
              "        (conv3): Conv2d(512, 1024, kernel_size=(1, 1), stride=(1, 1), bias=False)\n",
              "        (bn3): BatchNorm2d(1024, eps=1e-05, momentum=0.1, affine=True, track_running_stats=True)\n",
              "        (relu): ReLU(inplace=True)\n",
              "      )\n",
              "      (3): Bottleneck(\n",
              "        (conv1): Conv2d(1024, 512, kernel_size=(1, 1), stride=(1, 1), bias=False)\n",
              "        (bn1): BatchNorm2d(512, eps=1e-05, momentum=0.1, affine=True, track_running_stats=True)\n",
              "        (conv2): Conv2d(512, 512, kernel_size=(3, 3), stride=(1, 1), padding=(1, 1), groups=32, bias=False)\n",
              "        (bn2): BatchNorm2d(512, eps=1e-05, momentum=0.1, affine=True, track_running_stats=True)\n",
              "        (conv3): Conv2d(512, 1024, kernel_size=(1, 1), stride=(1, 1), bias=False)\n",
              "        (bn3): BatchNorm2d(1024, eps=1e-05, momentum=0.1, affine=True, track_running_stats=True)\n",
              "        (relu): ReLU(inplace=True)\n",
              "      )\n",
              "      (4): Bottleneck(\n",
              "        (conv1): Conv2d(1024, 512, kernel_size=(1, 1), stride=(1, 1), bias=False)\n",
              "        (bn1): BatchNorm2d(512, eps=1e-05, momentum=0.1, affine=True, track_running_stats=True)\n",
              "        (conv2): Conv2d(512, 512, kernel_size=(3, 3), stride=(1, 1), padding=(1, 1), groups=32, bias=False)\n",
              "        (bn2): BatchNorm2d(512, eps=1e-05, momentum=0.1, affine=True, track_running_stats=True)\n",
              "        (conv3): Conv2d(512, 1024, kernel_size=(1, 1), stride=(1, 1), bias=False)\n",
              "        (bn3): BatchNorm2d(1024, eps=1e-05, momentum=0.1, affine=True, track_running_stats=True)\n",
              "        (relu): ReLU(inplace=True)\n",
              "      )\n",
              "      (5): Bottleneck(\n",
              "        (conv1): Conv2d(1024, 512, kernel_size=(1, 1), stride=(1, 1), bias=False)\n",
              "        (bn1): BatchNorm2d(512, eps=1e-05, momentum=0.1, affine=True, track_running_stats=True)\n",
              "        (conv2): Conv2d(512, 512, kernel_size=(3, 3), stride=(1, 1), padding=(1, 1), groups=32, bias=False)\n",
              "        (bn2): BatchNorm2d(512, eps=1e-05, momentum=0.1, affine=True, track_running_stats=True)\n",
              "        (conv3): Conv2d(512, 1024, kernel_size=(1, 1), stride=(1, 1), bias=False)\n",
              "        (bn3): BatchNorm2d(1024, eps=1e-05, momentum=0.1, affine=True, track_running_stats=True)\n",
              "        (relu): ReLU(inplace=True)\n",
              "      )\n",
              "    )\n",
              "    (layer4): Sequential(\n",
              "      (0): Bottleneck(\n",
              "        (conv1): Conv2d(1024, 1024, kernel_size=(1, 1), stride=(1, 1), bias=False)\n",
              "        (bn1): BatchNorm2d(1024, eps=1e-05, momentum=0.1, affine=True, track_running_stats=True)\n",
              "        (conv2): Conv2d(1024, 1024, kernel_size=(3, 3), stride=(2, 2), padding=(1, 1), groups=32, bias=False)\n",
              "        (bn2): BatchNorm2d(1024, eps=1e-05, momentum=0.1, affine=True, track_running_stats=True)\n",
              "        (conv3): Conv2d(1024, 2048, kernel_size=(1, 1), stride=(1, 1), bias=False)\n",
              "        (bn3): BatchNorm2d(2048, eps=1e-05, momentum=0.1, affine=True, track_running_stats=True)\n",
              "        (relu): ReLU(inplace=True)\n",
              "        (downsample): Sequential(\n",
              "          (0): Conv2d(1024, 2048, kernel_size=(1, 1), stride=(2, 2), bias=False)\n",
              "          (1): BatchNorm2d(2048, eps=1e-05, momentum=0.1, affine=True, track_running_stats=True)\n",
              "        )\n",
              "      )\n",
              "      (1): Bottleneck(\n",
              "        (conv1): Conv2d(2048, 1024, kernel_size=(1, 1), stride=(1, 1), bias=False)\n",
              "        (bn1): BatchNorm2d(1024, eps=1e-05, momentum=0.1, affine=True, track_running_stats=True)\n",
              "        (conv2): Conv2d(1024, 1024, kernel_size=(3, 3), stride=(1, 1), padding=(1, 1), groups=32, bias=False)\n",
              "        (bn2): BatchNorm2d(1024, eps=1e-05, momentum=0.1, affine=True, track_running_stats=True)\n",
              "        (conv3): Conv2d(1024, 2048, kernel_size=(1, 1), stride=(1, 1), bias=False)\n",
              "        (bn3): BatchNorm2d(2048, eps=1e-05, momentum=0.1, affine=True, track_running_stats=True)\n",
              "        (relu): ReLU(inplace=True)\n",
              "      )\n",
              "      (2): Bottleneck(\n",
              "        (conv1): Conv2d(2048, 1024, kernel_size=(1, 1), stride=(1, 1), bias=False)\n",
              "        (bn1): BatchNorm2d(1024, eps=1e-05, momentum=0.1, affine=True, track_running_stats=True)\n",
              "        (conv2): Conv2d(1024, 1024, kernel_size=(3, 3), stride=(1, 1), padding=(1, 1), groups=32, bias=False)\n",
              "        (bn2): BatchNorm2d(1024, eps=1e-05, momentum=0.1, affine=True, track_running_stats=True)\n",
              "        (conv3): Conv2d(1024, 2048, kernel_size=(1, 1), stride=(1, 1), bias=False)\n",
              "        (bn3): BatchNorm2d(2048, eps=1e-05, momentum=0.1, affine=True, track_running_stats=True)\n",
              "        (relu): ReLU(inplace=True)\n",
              "      )\n",
              "    )\n",
              "    (avgpool): AdaptiveAvgPool2d(output_size=(1, 1))\n",
              "    (fc): Sequential(\n",
              "      (0): Dropout(p=0.3, inplace=False)\n",
              "      (1): Linear(in_features=2048, out_features=18, bias=True)\n",
              "    )\n",
              "  )\n",
              ")"
            ]
          },
          "metadata": {},
          "execution_count": 25
        }
      ]
    },
    {
      "cell_type": "code",
      "source": [
        "criterion = torch.nn.BCEWithLogitsLoss()    # Sigmoid + BCE \n",
        "optimizer = torch.optim.Adam(params=model.parameters(), lr=0.001) "
      ],
      "metadata": {
        "id": "h0quK-1GaYOJ"
      },
      "execution_count": 26,
      "outputs": []
    },
    {
      "cell_type": "code",
      "source": [
        "# training data loader \n",
        "training_set = Dataset(df_train)\n",
        "training_generator = DataLoader(training_set, batch_size=CONFIG['TRAIN_BATCH_SIZE'], num_workers=CONFIG['NUM_WORKERS'], shuffle=True)"
      ],
      "metadata": {
        "id": "XyLL4-M1aYOJ"
      },
      "execution_count": 27,
      "outputs": []
    },
    {
      "cell_type": "code",
      "source": [
        "# validation data loader \n",
        "validation_set = Dataset(df_val)\n",
        "validation_generator = DataLoader(validation_set, batch_size=CONFIG['VAL_BATCH_SIZE'], num_workers=CONFIG['NUM_WORKERS'], shuffle=True)"
      ],
      "metadata": {
        "id": "l2utPj1FaYOK"
      },
      "execution_count": 28,
      "outputs": []
    },
    {
      "cell_type": "code",
      "source": [
        "train_losses, train_accs, val_losses, val_accs = train_model(\n",
        "        model=model, \n",
        "        training_generator=training_generator, \n",
        "        validation_generator=validation_generator, \n",
        "        criterion=criterion, \n",
        "        optimizer=optimizer, \n",
        "        epochs=CONFIG['EPOCHS'], \n",
        "        threshold=CONFIG['THRESHOLD'],\n",
        "        device=device\n",
        "    )"
      ],
      "metadata": {
        "colab": {
          "base_uri": "https://localhost:8080/"
        },
        "outputId": "a656ca45-6c78-49db-ff94-827820ad7ad1",
        "id": "q6a_BEXXaYOK"
      },
      "execution_count": 29,
      "outputs": [
        {
          "output_type": "stream",
          "name": "stdout",
          "text": [
            "Epoch 1/20\n"
          ]
        },
        {
          "output_type": "stream",
          "name": "stderr",
          "text": [
            "100%|██████████| 14/14 [00:32<00:00,  2.32s/it]\n"
          ]
        },
        {
          "output_type": "stream",
          "name": "stdout",
          "text": [
            "loss: 0.2879 - accuracy: 0.8901 - val_loss: 7.6821 - val_accuracy: 0.8977\n",
            "\n",
            "Epoch 2/20\n"
          ]
        },
        {
          "output_type": "stream",
          "name": "stderr",
          "text": [
            "100%|██████████| 14/14 [00:30<00:00,  2.19s/it]\n"
          ]
        },
        {
          "output_type": "stream",
          "name": "stdout",
          "text": [
            "loss: 0.2069 - accuracy: 0.9204 - val_loss: 1.6730 - val_accuracy: 0.9169\n",
            "\n",
            "Epoch 3/20\n"
          ]
        },
        {
          "output_type": "stream",
          "name": "stderr",
          "text": [
            "100%|██████████| 14/14 [00:31<00:00,  2.24s/it]\n"
          ]
        },
        {
          "output_type": "stream",
          "name": "stdout",
          "text": [
            "loss: 0.2234 - accuracy: 0.9144 - val_loss: 0.3268 - val_accuracy: 0.9100\n",
            "\n",
            "Epoch 4/20\n"
          ]
        },
        {
          "output_type": "stream",
          "name": "stderr",
          "text": [
            "100%|██████████| 14/14 [00:30<00:00,  2.17s/it]\n"
          ]
        },
        {
          "output_type": "stream",
          "name": "stdout",
          "text": [
            "loss: 0.1952 - accuracy: 0.9229 - val_loss: 0.3777 - val_accuracy: 0.8975\n",
            "\n",
            "Epoch 5/20\n"
          ]
        },
        {
          "output_type": "stream",
          "name": "stderr",
          "text": [
            "100%|██████████| 14/14 [00:30<00:00,  2.18s/it]\n"
          ]
        },
        {
          "output_type": "stream",
          "name": "stdout",
          "text": [
            "loss: 0.1797 - accuracy: 0.9278 - val_loss: 0.4093 - val_accuracy: 0.9134\n",
            "\n",
            "Epoch 6/20\n"
          ]
        },
        {
          "output_type": "stream",
          "name": "stderr",
          "text": [
            "100%|██████████| 14/14 [00:30<00:00,  2.17s/it]\n"
          ]
        },
        {
          "output_type": "stream",
          "name": "stdout",
          "text": [
            "loss: 0.1934 - accuracy: 0.9206 - val_loss: 0.2447 - val_accuracy: 0.9252\n",
            "\n",
            "Epoch 7/20\n"
          ]
        },
        {
          "output_type": "stream",
          "name": "stderr",
          "text": [
            "100%|██████████| 14/14 [00:30<00:00,  2.16s/it]\n"
          ]
        },
        {
          "output_type": "stream",
          "name": "stdout",
          "text": [
            "loss: 0.1812 - accuracy: 0.9273 - val_loss: 0.2117 - val_accuracy: 0.9153\n",
            "\n",
            "Epoch 8/20\n"
          ]
        },
        {
          "output_type": "stream",
          "name": "stderr",
          "text": [
            "100%|██████████| 14/14 [00:30<00:00,  2.16s/it]\n"
          ]
        },
        {
          "output_type": "stream",
          "name": "stdout",
          "text": [
            "loss: 0.1989 - accuracy: 0.9216 - val_loss: 0.2992 - val_accuracy: 0.9127\n",
            "\n",
            "Epoch 9/20\n"
          ]
        },
        {
          "output_type": "stream",
          "name": "stderr",
          "text": [
            "100%|██████████| 14/14 [00:30<00:00,  2.17s/it]\n"
          ]
        },
        {
          "output_type": "stream",
          "name": "stdout",
          "text": [
            "loss: 0.1752 - accuracy: 0.9291 - val_loss: 0.8979 - val_accuracy: 0.9125\n",
            "\n",
            "Epoch 10/20\n"
          ]
        },
        {
          "output_type": "stream",
          "name": "stderr",
          "text": [
            "100%|██████████| 14/14 [00:30<00:00,  2.17s/it]\n"
          ]
        },
        {
          "output_type": "stream",
          "name": "stdout",
          "text": [
            "loss: 0.1986 - accuracy: 0.9231 - val_loss: 0.2139 - val_accuracy: 0.9231\n",
            "\n",
            "Epoch 11/20\n"
          ]
        },
        {
          "output_type": "stream",
          "name": "stderr",
          "text": [
            "100%|██████████| 14/14 [00:30<00:00,  2.18s/it]\n"
          ]
        },
        {
          "output_type": "stream",
          "name": "stdout",
          "text": [
            "loss: 0.1873 - accuracy: 0.9293 - val_loss: 0.2458 - val_accuracy: 0.9313\n",
            "\n",
            "Epoch 12/20\n"
          ]
        },
        {
          "output_type": "stream",
          "name": "stderr",
          "text": [
            "100%|██████████| 14/14 [00:30<00:00,  2.17s/it]\n"
          ]
        },
        {
          "output_type": "stream",
          "name": "stdout",
          "text": [
            "loss: 0.1704 - accuracy: 0.9325 - val_loss: 0.5047 - val_accuracy: 0.9109\n",
            "\n",
            "Epoch 13/20\n"
          ]
        },
        {
          "output_type": "stream",
          "name": "stderr",
          "text": [
            "100%|██████████| 14/14 [00:30<00:00,  2.17s/it]\n"
          ]
        },
        {
          "output_type": "stream",
          "name": "stdout",
          "text": [
            "loss: 0.1700 - accuracy: 0.9301 - val_loss: 0.2429 - val_accuracy: 0.9312\n",
            "\n",
            "Epoch 14/20\n"
          ]
        },
        {
          "output_type": "stream",
          "name": "stderr",
          "text": [
            "100%|██████████| 14/14 [00:30<00:00,  2.19s/it]\n"
          ]
        },
        {
          "output_type": "stream",
          "name": "stdout",
          "text": [
            "loss: 0.1593 - accuracy: 0.9335 - val_loss: 0.2186 - val_accuracy: 0.9275\n",
            "\n",
            "Epoch 15/20\n"
          ]
        },
        {
          "output_type": "stream",
          "name": "stderr",
          "text": [
            "100%|██████████| 14/14 [00:30<00:00,  2.19s/it]\n"
          ]
        },
        {
          "output_type": "stream",
          "name": "stdout",
          "text": [
            "loss: 0.1491 - accuracy: 0.9387 - val_loss: 0.3092 - val_accuracy: 0.9225\n",
            "\n",
            "Epoch 16/20\n"
          ]
        },
        {
          "output_type": "stream",
          "name": "stderr",
          "text": [
            "100%|██████████| 14/14 [00:30<00:00,  2.18s/it]\n"
          ]
        },
        {
          "output_type": "stream",
          "name": "stdout",
          "text": [
            "loss: 0.1523 - accuracy: 0.9390 - val_loss: 0.2527 - val_accuracy: 0.9250\n",
            "\n",
            "Epoch 17/20\n"
          ]
        },
        {
          "output_type": "stream",
          "name": "stderr",
          "text": [
            "100%|██████████| 14/14 [00:30<00:00,  2.17s/it]\n"
          ]
        },
        {
          "output_type": "stream",
          "name": "stdout",
          "text": [
            "loss: 0.1630 - accuracy: 0.9330 - val_loss: 0.2681 - val_accuracy: 0.9081\n",
            "\n",
            "Epoch 18/20\n"
          ]
        },
        {
          "output_type": "stream",
          "name": "stderr",
          "text": [
            "100%|██████████| 14/14 [00:30<00:00,  2.17s/it]\n"
          ]
        },
        {
          "output_type": "stream",
          "name": "stdout",
          "text": [
            "loss: 0.1578 - accuracy: 0.9315 - val_loss: 0.2271 - val_accuracy: 0.9164\n",
            "\n",
            "Epoch 19/20\n"
          ]
        },
        {
          "output_type": "stream",
          "name": "stderr",
          "text": [
            "100%|██████████| 14/14 [00:30<00:00,  2.18s/it]\n"
          ]
        },
        {
          "output_type": "stream",
          "name": "stdout",
          "text": [
            "loss: 0.1540 - accuracy: 0.9370 - val_loss: 0.5778 - val_accuracy: 0.9185\n",
            "\n",
            "Epoch 20/20\n"
          ]
        },
        {
          "output_type": "stream",
          "name": "stderr",
          "text": [
            "100%|██████████| 14/14 [00:30<00:00,  2.20s/it]\n"
          ]
        },
        {
          "output_type": "stream",
          "name": "stdout",
          "text": [
            "loss: 0.1457 - accuracy: 0.9380 - val_loss: 0.2314 - val_accuracy: 0.9201\n",
            "\n"
          ]
        }
      ]
    },
    {
      "cell_type": "code",
      "source": [
        "# Plot training & validation loss values\n",
        "plot_curve(train_losses, val_losses, plot_type=\"Loss\")"
      ],
      "metadata": {
        "colab": {
          "base_uri": "https://localhost:8080/",
          "height": 295
        },
        "outputId": "1fcf1241-df36-44e0-f7aa-6bce6afc636f",
        "id": "p0NT6ywiglwA"
      },
      "execution_count": 30,
      "outputs": [
        {
          "output_type": "display_data",
          "data": {
            "text/plain": [
              "<Figure size 432x288 with 1 Axes>"
            ],
            "image/png": "[encoded data removed]"
          },
          "metadata": {
            "needs_background": "light"
          }
        }
      ]
    },
    {
      "cell_type": "code",
      "source": [
        "# validation data loader \n",
        "test_set = Dataset(df_test)\n",
        "test_generator = DataLoader(test_set, batch_size=CONFIG['VAL_BATCH_SIZE'], num_workers=CONFIG['NUM_WORKERS'], shuffle=False)\n",
        "\n",
        "# evaluating on test set \n",
        "evaluate(\n",
        "    model, \n",
        "    test_generator, \n",
        "    criterion, \n",
        "    threshold=CONFIG['THRESHOLD'], \n",
        "    device=device\n",
        ")"
      ],
      "metadata": {
        "colab": {
          "base_uri": "https://localhost:8080/"
        },
        "outputId": "39cce5fc-1c35-47bb-ae93-d96552f4ece2",
        "id": "lW0T3jaoglwd"
      },
      "execution_count": 31,
      "outputs": [
        {
          "output_type": "stream",
          "name": "stderr",
          "text": [
            "100%|██████████| 6/6 [00:06<00:00,  1.06s/it]"
          ]
        },
        {
          "output_type": "stream",
          "name": "stdout",
          "text": [
            "\n",
            "Test Loss: 0.2117\n",
            "Test Accuracy: 0.9174\n"
          ]
        },
        {
          "output_type": "stream",
          "name": "stderr",
          "text": [
            "\n"
          ]
        }
      ]
    },
    {
      "cell_type": "code",
      "source": [
        "# saving model \n",
        "torch.save(model.state_dict(), \"deep_transfer_model.pth\")"
      ],
      "metadata": {
        "id": "LKgBJfGhglwe"
      },
      "execution_count": 32,
      "outputs": []
    },
    {
      "cell_type": "code",
      "source": [
        ""
      ],
      "metadata": {
        "id": "Thn6z1KXaag6"
      },
      "execution_count": null,
      "outputs": []
    }
  ]
}